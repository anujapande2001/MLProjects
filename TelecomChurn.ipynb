{
  "cells": [
    {
      "cell_type": "markdown",
      "metadata": {
        "id": "view-in-github",
        "colab_type": "text"
      },
      "source": [
        "<a href=\"https://colab.research.google.com/github/anujapande2001/MLProjects/blob/main/TelecomChurn.ipynb\" target=\"_parent\"><img src=\"https://colab.research.google.com/assets/colab-badge.svg\" alt=\"Open In Colab\"/></a>"
      ]
    },
    {
      "cell_type": "markdown",
      "metadata": {
        "id": "mbUUyyvXnlqa"
      },
      "source": [
        "# **TELECOM CHURN PREDICTION**"
      ]
    },
    {
      "cell_type": "markdown",
      "metadata": {
        "id": "O-T2JEoL3CKD"
      },
      "source": [
        "# **1. Introduction**\n",
        "\n",
        "\n",
        "**Your client for this project is a Telecom Service Provider..**\n",
        "\n",
        "\n",
        "*  The company has started facing high churn rate due to rapid development in technology and the emerging new competitors in the market.\n",
        "*  The objective is to use the model to take further actions for preventing customers to churn.\n",
        "*   They will have to offer something to their customers so they stick around, example - a promo, discount, loyalty program etc.\n",
        "\n",
        "**Current Scenario:**\n",
        "\n",
        "* Till now they have been using traditional ways which now have become a problem to handle due to human interventions.\n",
        "\n",
        "*   They have a detailed history of their customers and are looking for an automated solution to identify the likeliness of customer churning from using their services.\n",
        "\n",
        "\n",
        "\n",
        "\n"
      ]
    },
    {
      "cell_type": "markdown",
      "metadata": {
        "id": "WWzmoQQbv5Ks"
      },
      "source": [
        "# **2. Problem Statement**\n",
        "**The current process suffers from the following problems:**\n",
        "\n",
        "*   Due to the boom in the telecom industry with 4G technology, it has become a pain in the neck for the company to retain their customers.\n",
        "*   They are in the middle of setting up more cell sites on the 4G network to improve their 4G services.\n",
        "*   It is plausible for customers to choose 4G services over 3G services due to benefits of cost, speed, latency etc.\n",
        "\n",
        "\n",
        "The company has hired you as data science consultants. They want to automate the process of assigning the drug according to their health report.\n",
        "\n",
        "**Your Role**\n",
        "*  You are given datasets of past customers and their status (Churn: Yes or No).\n",
        "*  Your task is to build a classification model using the dataset.\n",
        "*  Because there was no machine learning model for this problem in the company, you don’t have a quantifiable win condition. You need to build the best possible model.\n"
      ]
    },
    {
      "cell_type": "markdown",
      "metadata": {
        "id": "ZSi_m9jinvW6"
      },
      "source": [
        "# **3. Import Libraries**"
      ]
    },
    {
      "cell_type": "code",
      "execution_count": 19,
      "metadata": {
        "id": "ep7ACXYQoYxW"
      },
      "outputs": [],
      "source": [
        "import numpy as np\n",
        "import pandas as pd\n",
        "from pandas_profiling import ProfileReport \n",
        "import matplotlib.pyplot as plt\n",
        "%matplotlib inline\n",
        "import seaborn as sns\n",
        "from sklearn.preprocessing import LabelEncoder, MinMaxScaler, StandardScaler,RobustScaler\n",
        "# import sklearn.linear_model.LogisticRegression as LogisticRegression\n",
        "from sklearn.linear_model import LogisticRegression\n",
        "from sklearn.tree import DecisionTreeClassifier\n",
        "from sklearn.ensemble import RandomForestClassifier\n",
        "from sklearn.model_selection import cross_validate,KFold\n",
        "from sklearn.metrics import accuracy_score,confusion_matrix,f1_score,roc_curve,auc,classification_report\n",
        "from sklearn.impute import KNNImputer\n",
        "from sklearn.model_selection import GridSearchCV, RandomizedSearchCV\n",
        "import warnings\n"
      ]
    },
    {
      "cell_type": "markdown",
      "metadata": {
        "id": "9wyH0OUkqx_K"
      },
      "source": [
        "# **4. Data Acquisition & Description**"
      ]
    },
    {
      "cell_type": "code",
      "execution_count": 20,
      "metadata": {
        "colab": {
          "base_uri": "https://localhost:8080/",
          "height": 386
        },
        "id": "TdzuCZajq2h3",
        "outputId": "d25a22c7-d2b6-46ee-b160-bb279680117f"
      },
      "outputs": [
        {
          "output_type": "execute_result",
          "data": {
            "text/plain": [
              "   customerID  gender  SeniorCitizen Partner Dependents  tenure PhoneService  \\\n",
              "0  5442-PPTJY    Male              0     Yes        Yes      12          Yes   \n",
              "1  6261-RCVNS  Female              0      No         No      42          Yes   \n",
              "2  2176-OSJUV    Male              0     Yes         No      71          Yes   \n",
              "3  6161-ERDGD    Male              0     Yes        Yes      71          Yes   \n",
              "4  2364-UFROM    Male              0      No         No      30          Yes   \n",
              "\n",
              "  MultipleLines InternetService       OnlineSecurity  ...  \\\n",
              "0            No              No  No internet service  ...   \n",
              "1            No             DSL                  Yes  ...   \n",
              "2           Yes             DSL                  Yes  ...   \n",
              "3           Yes             DSL                  Yes  ...   \n",
              "4            No             DSL                  Yes  ...   \n",
              "\n",
              "      DeviceProtection          TechSupport          StreamingTV  \\\n",
              "0  No internet service  No internet service  No internet service   \n",
              "1                  Yes                  Yes                   No   \n",
              "2                   No                  Yes                   No   \n",
              "3                  Yes                  Yes                  Yes   \n",
              "4                   No                  Yes                  Yes   \n",
              "\n",
              "       StreamingMovies  Contract PaperlessBilling              PaymentMethod  \\\n",
              "0  No internet service  Two year               No               Mailed check   \n",
              "1                  Yes  One year               No    Credit card (automatic)   \n",
              "2                   No  Two year               No  Bank transfer (automatic)   \n",
              "3                  Yes  One year               No           Electronic check   \n",
              "4                   No  One year               No           Electronic check   \n",
              "\n",
              "  MonthlyCharges  TotalCharges Churn  \n",
              "0          19.70        258.35    No  \n",
              "1          73.90       3160.55   Yes  \n",
              "2          65.15       4681.75    No  \n",
              "3          85.45       6300.85    No  \n",
              "4          70.40       2044.75    No  \n",
              "\n",
              "[5 rows x 21 columns]"
            ],
            "text/html": [
              "\n",
              "  <div id=\"df-5f065a76-1cee-41dc-b57f-d06bcffa29bc\">\n",
              "    <div class=\"colab-df-container\">\n",
              "      <div>\n",
              "<style scoped>\n",
              "    .dataframe tbody tr th:only-of-type {\n",
              "        vertical-align: middle;\n",
              "    }\n",
              "\n",
              "    .dataframe tbody tr th {\n",
              "        vertical-align: top;\n",
              "    }\n",
              "\n",
              "    .dataframe thead th {\n",
              "        text-align: right;\n",
              "    }\n",
              "</style>\n",
              "<table border=\"1\" class=\"dataframe\">\n",
              "  <thead>\n",
              "    <tr style=\"text-align: right;\">\n",
              "      <th></th>\n",
              "      <th>customerID</th>\n",
              "      <th>gender</th>\n",
              "      <th>SeniorCitizen</th>\n",
              "      <th>Partner</th>\n",
              "      <th>Dependents</th>\n",
              "      <th>tenure</th>\n",
              "      <th>PhoneService</th>\n",
              "      <th>MultipleLines</th>\n",
              "      <th>InternetService</th>\n",
              "      <th>OnlineSecurity</th>\n",
              "      <th>...</th>\n",
              "      <th>DeviceProtection</th>\n",
              "      <th>TechSupport</th>\n",
              "      <th>StreamingTV</th>\n",
              "      <th>StreamingMovies</th>\n",
              "      <th>Contract</th>\n",
              "      <th>PaperlessBilling</th>\n",
              "      <th>PaymentMethod</th>\n",
              "      <th>MonthlyCharges</th>\n",
              "      <th>TotalCharges</th>\n",
              "      <th>Churn</th>\n",
              "    </tr>\n",
              "  </thead>\n",
              "  <tbody>\n",
              "    <tr>\n",
              "      <th>0</th>\n",
              "      <td>5442-PPTJY</td>\n",
              "      <td>Male</td>\n",
              "      <td>0</td>\n",
              "      <td>Yes</td>\n",
              "      <td>Yes</td>\n",
              "      <td>12</td>\n",
              "      <td>Yes</td>\n",
              "      <td>No</td>\n",
              "      <td>No</td>\n",
              "      <td>No internet service</td>\n",
              "      <td>...</td>\n",
              "      <td>No internet service</td>\n",
              "      <td>No internet service</td>\n",
              "      <td>No internet service</td>\n",
              "      <td>No internet service</td>\n",
              "      <td>Two year</td>\n",
              "      <td>No</td>\n",
              "      <td>Mailed check</td>\n",
              "      <td>19.70</td>\n",
              "      <td>258.35</td>\n",
              "      <td>No</td>\n",
              "    </tr>\n",
              "    <tr>\n",
              "      <th>1</th>\n",
              "      <td>6261-RCVNS</td>\n",
              "      <td>Female</td>\n",
              "      <td>0</td>\n",
              "      <td>No</td>\n",
              "      <td>No</td>\n",
              "      <td>42</td>\n",
              "      <td>Yes</td>\n",
              "      <td>No</td>\n",
              "      <td>DSL</td>\n",
              "      <td>Yes</td>\n",
              "      <td>...</td>\n",
              "      <td>Yes</td>\n",
              "      <td>Yes</td>\n",
              "      <td>No</td>\n",
              "      <td>Yes</td>\n",
              "      <td>One year</td>\n",
              "      <td>No</td>\n",
              "      <td>Credit card (automatic)</td>\n",
              "      <td>73.90</td>\n",
              "      <td>3160.55</td>\n",
              "      <td>Yes</td>\n",
              "    </tr>\n",
              "    <tr>\n",
              "      <th>2</th>\n",
              "      <td>2176-OSJUV</td>\n",
              "      <td>Male</td>\n",
              "      <td>0</td>\n",
              "      <td>Yes</td>\n",
              "      <td>No</td>\n",
              "      <td>71</td>\n",
              "      <td>Yes</td>\n",
              "      <td>Yes</td>\n",
              "      <td>DSL</td>\n",
              "      <td>Yes</td>\n",
              "      <td>...</td>\n",
              "      <td>No</td>\n",
              "      <td>Yes</td>\n",
              "      <td>No</td>\n",
              "      <td>No</td>\n",
              "      <td>Two year</td>\n",
              "      <td>No</td>\n",
              "      <td>Bank transfer (automatic)</td>\n",
              "      <td>65.15</td>\n",
              "      <td>4681.75</td>\n",
              "      <td>No</td>\n",
              "    </tr>\n",
              "    <tr>\n",
              "      <th>3</th>\n",
              "      <td>6161-ERDGD</td>\n",
              "      <td>Male</td>\n",
              "      <td>0</td>\n",
              "      <td>Yes</td>\n",
              "      <td>Yes</td>\n",
              "      <td>71</td>\n",
              "      <td>Yes</td>\n",
              "      <td>Yes</td>\n",
              "      <td>DSL</td>\n",
              "      <td>Yes</td>\n",
              "      <td>...</td>\n",
              "      <td>Yes</td>\n",
              "      <td>Yes</td>\n",
              "      <td>Yes</td>\n",
              "      <td>Yes</td>\n",
              "      <td>One year</td>\n",
              "      <td>No</td>\n",
              "      <td>Electronic check</td>\n",
              "      <td>85.45</td>\n",
              "      <td>6300.85</td>\n",
              "      <td>No</td>\n",
              "    </tr>\n",
              "    <tr>\n",
              "      <th>4</th>\n",
              "      <td>2364-UFROM</td>\n",
              "      <td>Male</td>\n",
              "      <td>0</td>\n",
              "      <td>No</td>\n",
              "      <td>No</td>\n",
              "      <td>30</td>\n",
              "      <td>Yes</td>\n",
              "      <td>No</td>\n",
              "      <td>DSL</td>\n",
              "      <td>Yes</td>\n",
              "      <td>...</td>\n",
              "      <td>No</td>\n",
              "      <td>Yes</td>\n",
              "      <td>Yes</td>\n",
              "      <td>No</td>\n",
              "      <td>One year</td>\n",
              "      <td>No</td>\n",
              "      <td>Electronic check</td>\n",
              "      <td>70.40</td>\n",
              "      <td>2044.75</td>\n",
              "      <td>No</td>\n",
              "    </tr>\n",
              "  </tbody>\n",
              "</table>\n",
              "<p>5 rows × 21 columns</p>\n",
              "</div>\n",
              "      <button class=\"colab-df-convert\" onclick=\"convertToInteractive('df-5f065a76-1cee-41dc-b57f-d06bcffa29bc')\"\n",
              "              title=\"Convert this dataframe to an interactive table.\"\n",
              "              style=\"display:none;\">\n",
              "        \n",
              "  <svg xmlns=\"http://www.w3.org/2000/svg\" height=\"24px\"viewBox=\"0 0 24 24\"\n",
              "       width=\"24px\">\n",
              "    <path d=\"M0 0h24v24H0V0z\" fill=\"none\"/>\n",
              "    <path d=\"M18.56 5.44l.94 2.06.94-2.06 2.06-.94-2.06-.94-.94-2.06-.94 2.06-2.06.94zm-11 1L8.5 8.5l.94-2.06 2.06-.94-2.06-.94L8.5 2.5l-.94 2.06-2.06.94zm10 10l.94 2.06.94-2.06 2.06-.94-2.06-.94-.94-2.06-.94 2.06-2.06.94z\"/><path d=\"M17.41 7.96l-1.37-1.37c-.4-.4-.92-.59-1.43-.59-.52 0-1.04.2-1.43.59L10.3 9.45l-7.72 7.72c-.78.78-.78 2.05 0 2.83L4 21.41c.39.39.9.59 1.41.59.51 0 1.02-.2 1.41-.59l7.78-7.78 2.81-2.81c.8-.78.8-2.07 0-2.86zM5.41 20L4 18.59l7.72-7.72 1.47 1.35L5.41 20z\"/>\n",
              "  </svg>\n",
              "      </button>\n",
              "      \n",
              "  <style>\n",
              "    .colab-df-container {\n",
              "      display:flex;\n",
              "      flex-wrap:wrap;\n",
              "      gap: 12px;\n",
              "    }\n",
              "\n",
              "    .colab-df-convert {\n",
              "      background-color: #E8F0FE;\n",
              "      border: none;\n",
              "      border-radius: 50%;\n",
              "      cursor: pointer;\n",
              "      display: none;\n",
              "      fill: #1967D2;\n",
              "      height: 32px;\n",
              "      padding: 0 0 0 0;\n",
              "      width: 32px;\n",
              "    }\n",
              "\n",
              "    .colab-df-convert:hover {\n",
              "      background-color: #E2EBFA;\n",
              "      box-shadow: 0px 1px 2px rgba(60, 64, 67, 0.3), 0px 1px 3px 1px rgba(60, 64, 67, 0.15);\n",
              "      fill: #174EA6;\n",
              "    }\n",
              "\n",
              "    [theme=dark] .colab-df-convert {\n",
              "      background-color: #3B4455;\n",
              "      fill: #D2E3FC;\n",
              "    }\n",
              "\n",
              "    [theme=dark] .colab-df-convert:hover {\n",
              "      background-color: #434B5C;\n",
              "      box-shadow: 0px 1px 3px 1px rgba(0, 0, 0, 0.15);\n",
              "      filter: drop-shadow(0px 1px 2px rgba(0, 0, 0, 0.3));\n",
              "      fill: #FFFFFF;\n",
              "    }\n",
              "  </style>\n",
              "\n",
              "      <script>\n",
              "        const buttonEl =\n",
              "          document.querySelector('#df-5f065a76-1cee-41dc-b57f-d06bcffa29bc button.colab-df-convert');\n",
              "        buttonEl.style.display =\n",
              "          google.colab.kernel.accessAllowed ? 'block' : 'none';\n",
              "\n",
              "        async function convertToInteractive(key) {\n",
              "          const element = document.querySelector('#df-5f065a76-1cee-41dc-b57f-d06bcffa29bc');\n",
              "          const dataTable =\n",
              "            await google.colab.kernel.invokeFunction('convertToInteractive',\n",
              "                                                     [key], {});\n",
              "          if (!dataTable) return;\n",
              "\n",
              "          const docLinkHtml = 'Like what you see? Visit the ' +\n",
              "            '<a target=\"_blank\" href=https://colab.research.google.com/notebooks/data_table.ipynb>data table notebook</a>'\n",
              "            + ' to learn more about interactive tables.';\n",
              "          element.innerHTML = '';\n",
              "          dataTable['output_type'] = 'display_data';\n",
              "          await google.colab.output.renderOutput(dataTable, element);\n",
              "          const docLink = document.createElement('div');\n",
              "          docLink.innerHTML = docLinkHtml;\n",
              "          element.appendChild(docLink);\n",
              "        }\n",
              "      </script>\n",
              "    </div>\n",
              "  </div>\n",
              "  "
            ]
          },
          "metadata": {},
          "execution_count": 20
        }
      ],
      "source": [
        "data=pd.read_csv(\"/content/drive/MyDrive/Colab Notebooks/Datasets/Telecom-Churn/Churn_train.csv\")\n",
        "dataValidation=pd.read_csv(\"/content/drive/MyDrive/Colab Notebooks/Datasets/Telecom-Churn/Churn_test.csv\")\n",
        "dataValidationId=dataValidation.customerID\n",
        "data.head()\n"
      ]
    },
    {
      "cell_type": "markdown",
      "metadata": {
        "id": "-P_YkAAs0Ts7"
      },
      "source": [
        "### **4.1 Data Information**\n",
        "\n",
        "- In this section we will see the **information about the types of the features**.\n",
        "\n",
        "\n"
      ]
    },
    {
      "cell_type": "code",
      "execution_count": 21,
      "metadata": {
        "colab": {
          "base_uri": "https://localhost:8080/"
        },
        "id": "pZX6dan9TsSm",
        "outputId": "ceb8d5c5-2a17-4369-edac-d31e34341c8e"
      },
      "outputs": [
        {
          "output_type": "stream",
          "name": "stdout",
          "text": [
            "<class 'pandas.core.frame.DataFrame'>\n",
            "RangeIndex: 5634 entries, 0 to 5633\n",
            "Data columns (total 21 columns):\n",
            " #   Column            Non-Null Count  Dtype  \n",
            "---  ------            --------------  -----  \n",
            " 0   customerID        5634 non-null   object \n",
            " 1   gender            5634 non-null   object \n",
            " 2   SeniorCitizen     5634 non-null   int64  \n",
            " 3   Partner           5634 non-null   object \n",
            " 4   Dependents        5634 non-null   object \n",
            " 5   tenure            5634 non-null   int64  \n",
            " 6   PhoneService      5634 non-null   object \n",
            " 7   MultipleLines     5634 non-null   object \n",
            " 8   InternetService   5634 non-null   object \n",
            " 9   OnlineSecurity    5634 non-null   object \n",
            " 10  OnlineBackup      5634 non-null   object \n",
            " 11  DeviceProtection  5634 non-null   object \n",
            " 12  TechSupport       5634 non-null   object \n",
            " 13  StreamingTV       5634 non-null   object \n",
            " 14  StreamingMovies   5634 non-null   object \n",
            " 15  Contract          5634 non-null   object \n",
            " 16  PaperlessBilling  5634 non-null   object \n",
            " 17  PaymentMethod     5634 non-null   object \n",
            " 18  MonthlyCharges    5634 non-null   float64\n",
            " 19  TotalCharges      5634 non-null   object \n",
            " 20  Churn             5634 non-null   object \n",
            "dtypes: float64(1), int64(2), object(18)\n",
            "memory usage: 924.5+ KB\n"
          ]
        }
      ],
      "source": [
        "data.info()"
      ]
    },
    {
      "cell_type": "markdown",
      "metadata": {
        "id": "ffH6aWZFwxn6"
      },
      "source": [
        "### **4.2 Data Description**\n",
        "\n",
        "- In this section we will get **information about the data** and see some observations."
      ]
    },
    {
      "cell_type": "code",
      "execution_count": 22,
      "metadata": {
        "colab": {
          "base_uri": "https://localhost:8080/",
          "height": 300
        },
        "id": "Wx9bXdwJXlcH",
        "outputId": "7640d46a-fd0d-41d3-b75d-e2cb5cab405c"
      },
      "outputs": [
        {
          "output_type": "execute_result",
          "data": {
            "text/plain": [
              "       SeniorCitizen       tenure  MonthlyCharges\n",
              "count    5634.000000  5634.000000     5634.000000\n",
              "mean        0.161874    32.277955       64.779127\n",
              "std         0.368368    24.555211       30.104993\n",
              "min         0.000000     0.000000       18.250000\n",
              "25%         0.000000     9.000000       35.400000\n",
              "50%         0.000000    29.000000       70.375000\n",
              "75%         0.000000    55.000000       89.850000\n",
              "max         1.000000    72.000000      118.650000"
            ],
            "text/html": [
              "\n",
              "  <div id=\"df-a2d28924-0084-4c81-8e3e-9b273440c518\">\n",
              "    <div class=\"colab-df-container\">\n",
              "      <div>\n",
              "<style scoped>\n",
              "    .dataframe tbody tr th:only-of-type {\n",
              "        vertical-align: middle;\n",
              "    }\n",
              "\n",
              "    .dataframe tbody tr th {\n",
              "        vertical-align: top;\n",
              "    }\n",
              "\n",
              "    .dataframe thead th {\n",
              "        text-align: right;\n",
              "    }\n",
              "</style>\n",
              "<table border=\"1\" class=\"dataframe\">\n",
              "  <thead>\n",
              "    <tr style=\"text-align: right;\">\n",
              "      <th></th>\n",
              "      <th>SeniorCitizen</th>\n",
              "      <th>tenure</th>\n",
              "      <th>MonthlyCharges</th>\n",
              "    </tr>\n",
              "  </thead>\n",
              "  <tbody>\n",
              "    <tr>\n",
              "      <th>count</th>\n",
              "      <td>5634.000000</td>\n",
              "      <td>5634.000000</td>\n",
              "      <td>5634.000000</td>\n",
              "    </tr>\n",
              "    <tr>\n",
              "      <th>mean</th>\n",
              "      <td>0.161874</td>\n",
              "      <td>32.277955</td>\n",
              "      <td>64.779127</td>\n",
              "    </tr>\n",
              "    <tr>\n",
              "      <th>std</th>\n",
              "      <td>0.368368</td>\n",
              "      <td>24.555211</td>\n",
              "      <td>30.104993</td>\n",
              "    </tr>\n",
              "    <tr>\n",
              "      <th>min</th>\n",
              "      <td>0.000000</td>\n",
              "      <td>0.000000</td>\n",
              "      <td>18.250000</td>\n",
              "    </tr>\n",
              "    <tr>\n",
              "      <th>25%</th>\n",
              "      <td>0.000000</td>\n",
              "      <td>9.000000</td>\n",
              "      <td>35.400000</td>\n",
              "    </tr>\n",
              "    <tr>\n",
              "      <th>50%</th>\n",
              "      <td>0.000000</td>\n",
              "      <td>29.000000</td>\n",
              "      <td>70.375000</td>\n",
              "    </tr>\n",
              "    <tr>\n",
              "      <th>75%</th>\n",
              "      <td>0.000000</td>\n",
              "      <td>55.000000</td>\n",
              "      <td>89.850000</td>\n",
              "    </tr>\n",
              "    <tr>\n",
              "      <th>max</th>\n",
              "      <td>1.000000</td>\n",
              "      <td>72.000000</td>\n",
              "      <td>118.650000</td>\n",
              "    </tr>\n",
              "  </tbody>\n",
              "</table>\n",
              "</div>\n",
              "      <button class=\"colab-df-convert\" onclick=\"convertToInteractive('df-a2d28924-0084-4c81-8e3e-9b273440c518')\"\n",
              "              title=\"Convert this dataframe to an interactive table.\"\n",
              "              style=\"display:none;\">\n",
              "        \n",
              "  <svg xmlns=\"http://www.w3.org/2000/svg\" height=\"24px\"viewBox=\"0 0 24 24\"\n",
              "       width=\"24px\">\n",
              "    <path d=\"M0 0h24v24H0V0z\" fill=\"none\"/>\n",
              "    <path d=\"M18.56 5.44l.94 2.06.94-2.06 2.06-.94-2.06-.94-.94-2.06-.94 2.06-2.06.94zm-11 1L8.5 8.5l.94-2.06 2.06-.94-2.06-.94L8.5 2.5l-.94 2.06-2.06.94zm10 10l.94 2.06.94-2.06 2.06-.94-2.06-.94-.94-2.06-.94 2.06-2.06.94z\"/><path d=\"M17.41 7.96l-1.37-1.37c-.4-.4-.92-.59-1.43-.59-.52 0-1.04.2-1.43.59L10.3 9.45l-7.72 7.72c-.78.78-.78 2.05 0 2.83L4 21.41c.39.39.9.59 1.41.59.51 0 1.02-.2 1.41-.59l7.78-7.78 2.81-2.81c.8-.78.8-2.07 0-2.86zM5.41 20L4 18.59l7.72-7.72 1.47 1.35L5.41 20z\"/>\n",
              "  </svg>\n",
              "      </button>\n",
              "      \n",
              "  <style>\n",
              "    .colab-df-container {\n",
              "      display:flex;\n",
              "      flex-wrap:wrap;\n",
              "      gap: 12px;\n",
              "    }\n",
              "\n",
              "    .colab-df-convert {\n",
              "      background-color: #E8F0FE;\n",
              "      border: none;\n",
              "      border-radius: 50%;\n",
              "      cursor: pointer;\n",
              "      display: none;\n",
              "      fill: #1967D2;\n",
              "      height: 32px;\n",
              "      padding: 0 0 0 0;\n",
              "      width: 32px;\n",
              "    }\n",
              "\n",
              "    .colab-df-convert:hover {\n",
              "      background-color: #E2EBFA;\n",
              "      box-shadow: 0px 1px 2px rgba(60, 64, 67, 0.3), 0px 1px 3px 1px rgba(60, 64, 67, 0.15);\n",
              "      fill: #174EA6;\n",
              "    }\n",
              "\n",
              "    [theme=dark] .colab-df-convert {\n",
              "      background-color: #3B4455;\n",
              "      fill: #D2E3FC;\n",
              "    }\n",
              "\n",
              "    [theme=dark] .colab-df-convert:hover {\n",
              "      background-color: #434B5C;\n",
              "      box-shadow: 0px 1px 3px 1px rgba(0, 0, 0, 0.15);\n",
              "      filter: drop-shadow(0px 1px 2px rgba(0, 0, 0, 0.3));\n",
              "      fill: #FFFFFF;\n",
              "    }\n",
              "  </style>\n",
              "\n",
              "      <script>\n",
              "        const buttonEl =\n",
              "          document.querySelector('#df-a2d28924-0084-4c81-8e3e-9b273440c518 button.colab-df-convert');\n",
              "        buttonEl.style.display =\n",
              "          google.colab.kernel.accessAllowed ? 'block' : 'none';\n",
              "\n",
              "        async function convertToInteractive(key) {\n",
              "          const element = document.querySelector('#df-a2d28924-0084-4c81-8e3e-9b273440c518');\n",
              "          const dataTable =\n",
              "            await google.colab.kernel.invokeFunction('convertToInteractive',\n",
              "                                                     [key], {});\n",
              "          if (!dataTable) return;\n",
              "\n",
              "          const docLinkHtml = 'Like what you see? Visit the ' +\n",
              "            '<a target=\"_blank\" href=https://colab.research.google.com/notebooks/data_table.ipynb>data table notebook</a>'\n",
              "            + ' to learn more about interactive tables.';\n",
              "          element.innerHTML = '';\n",
              "          dataTable['output_type'] = 'display_data';\n",
              "          await google.colab.output.renderOutput(dataTable, element);\n",
              "          const docLink = document.createElement('div');\n",
              "          docLink.innerHTML = docLinkHtml;\n",
              "          element.appendChild(docLink);\n",
              "        }\n",
              "      </script>\n",
              "    </div>\n",
              "  </div>\n",
              "  "
            ]
          },
          "metadata": {},
          "execution_count": 22
        }
      ],
      "source": [
        "data.describe()"
      ]
    },
    {
      "cell_type": "markdown",
      "metadata": {
        "id": "KVcbqLw3w9tL"
      },
      "source": [
        "# **5. Data Pre-Processing**"
      ]
    },
    {
      "cell_type": "markdown",
      "metadata": {
        "id": "PdKInUkXxctg"
      },
      "source": [
        "### **5.1 Data Pre-Profiling**\n"
      ]
    },
    {
      "cell_type": "code",
      "source": [
        "data.drop(\"TotalCharges\", axis=1, inplace=True)"
      ],
      "metadata": {
        "id": "f-H0f9tlpJ2D"
      },
      "execution_count": 23,
      "outputs": []
    },
    {
      "cell_type": "markdown",
      "metadata": {
        "id": "uNysza08YqGh"
      },
      "source": [
        "**Check null value or any other inconsistent value in column**"
      ]
    },
    {
      "cell_type": "code",
      "execution_count": 24,
      "metadata": {
        "colab": {
          "base_uri": "https://localhost:8080/"
        },
        "id": "r2BOQuoxebSs",
        "outputId": "23b5bc8f-822e-414d-b1aa-a8a0a54cc0d5"
      },
      "outputs": [
        {
          "output_type": "stream",
          "name": "stdout",
          "text": [
            "customerID          0\n",
            "gender              0\n",
            "SeniorCitizen       0\n",
            "Partner             0\n",
            "Dependents          0\n",
            "tenure              0\n",
            "PhoneService        0\n",
            "MultipleLines       0\n",
            "InternetService     0\n",
            "OnlineSecurity      0\n",
            "OnlineBackup        0\n",
            "DeviceProtection    0\n",
            "TechSupport         0\n",
            "StreamingTV         0\n",
            "StreamingMovies     0\n",
            "Contract            0\n",
            "PaperlessBilling    0\n",
            "PaymentMethod       0\n",
            "MonthlyCharges      0\n",
            "Churn               0\n",
            "dtype: int64 \n",
            "\n"
          ]
        }
      ],
      "source": [
        "print((data==\"\").sum(), \"\\n\")"
      ]
    },
    {
      "cell_type": "code",
      "execution_count": 25,
      "metadata": {
        "colab": {
          "base_uri": "https://localhost:8080/"
        },
        "id": "t8DTnc4XYuVx",
        "outputId": "2e7722bf-c0a3-4e07-c124-c39a97fae29a"
      },
      "outputs": [
        {
          "output_type": "stream",
          "name": "stdout",
          "text": [
            "customerID          0\n",
            "gender              0\n",
            "SeniorCitizen       0\n",
            "Partner             0\n",
            "Dependents          0\n",
            "tenure              0\n",
            "PhoneService        0\n",
            "MultipleLines       0\n",
            "InternetService     0\n",
            "OnlineSecurity      0\n",
            "OnlineBackup        0\n",
            "DeviceProtection    0\n",
            "TechSupport         0\n",
            "StreamingTV         0\n",
            "StreamingMovies     0\n",
            "Contract            0\n",
            "PaperlessBilling    0\n",
            "PaymentMethod       0\n",
            "MonthlyCharges      0\n",
            "Churn               0\n",
            "dtype: int64 \n",
            "\n"
          ]
        }
      ],
      "source": [
        "print(data.isna().sum(), \"\\n\")\n"
      ]
    },
    {
      "cell_type": "code",
      "execution_count": 26,
      "metadata": {
        "colab": {
          "base_uri": "https://localhost:8080/"
        },
        "id": "QKzNio-1gBWk",
        "outputId": "7508f4df-d6cc-404c-caa8-78dd601b5e9a"
      },
      "outputs": [
        {
          "output_type": "stream",
          "name": "stdout",
          "text": [
            "customerID          0\n",
            "gender              0\n",
            "SeniorCitizen       0\n",
            "Partner             0\n",
            "Dependents          0\n",
            "tenure              0\n",
            "PhoneService        0\n",
            "MultipleLines       0\n",
            "InternetService     0\n",
            "OnlineSecurity      0\n",
            "OnlineBackup        0\n",
            "DeviceProtection    0\n",
            "TechSupport         0\n",
            "StreamingTV         0\n",
            "StreamingMovies     0\n",
            "Contract            0\n",
            "PaperlessBilling    0\n",
            "PaymentMethod       0\n",
            "MonthlyCharges      0\n",
            "Churn               0\n",
            "dtype: int64 \n",
            "\n"
          ]
        }
      ],
      "source": [
        "print((data==\"Unknown\").sum(), \"\\n\")\n"
      ]
    },
    {
      "cell_type": "code",
      "execution_count": 27,
      "metadata": {
        "colab": {
          "base_uri": "https://localhost:8080/"
        },
        "id": "bbbTkBeExZvE",
        "outputId": "0f390d7f-f614-4f39-da0d-6ab851c51233"
      },
      "outputs": [
        {
          "output_type": "stream",
          "name": "stdout",
          "text": [
            "customerID             0\n",
            "gender                 0\n",
            "SeniorCitizen       4722\n",
            "Partner                0\n",
            "Dependents             0\n",
            "tenure                 8\n",
            "PhoneService           0\n",
            "MultipleLines          0\n",
            "InternetService        0\n",
            "OnlineSecurity         0\n",
            "OnlineBackup           0\n",
            "DeviceProtection       0\n",
            "TechSupport            0\n",
            "StreamingTV            0\n",
            "StreamingMovies        0\n",
            "Contract               0\n",
            "PaperlessBilling       0\n",
            "PaymentMethod          0\n",
            "MonthlyCharges         0\n",
            "Churn                  0\n",
            "dtype: int64 \n",
            "\n"
          ]
        }
      ],
      "source": [
        "print((data==0).sum(), \"\\n\")"
      ]
    },
    {
      "cell_type": "code",
      "execution_count": 28,
      "metadata": {
        "colab": {
          "base_uri": "https://localhost:8080/"
        },
        "id": "sYTxG6wDzZL2",
        "outputId": "99ac0c6d-7744-4cb5-b0d0-5a2cf32b1f8f"
      },
      "outputs": [
        {
          "output_type": "execute_result",
          "data": {
            "text/plain": [
              "False"
            ]
          },
          "metadata": {},
          "execution_count": 28
        }
      ],
      "source": [
        "data.duplicated().any()"
      ]
    },
    {
      "cell_type": "code",
      "execution_count": 29,
      "metadata": {
        "colab": {
          "base_uri": "https://localhost:8080/"
        },
        "id": "39vM-rrAzyg_",
        "outputId": "4c4a0fa1-815a-48a7-cd58-490267e4d5fb"
      },
      "outputs": [
        {
          "output_type": "stream",
          "name": "stdout",
          "text": [
            "Male      2838\n",
            "Female    2796\n",
            "Name: gender, dtype: int64\n",
            "0    4722\n",
            "1     912\n",
            "Name: SeniorCitizen, dtype: int64\n",
            "No     3968\n",
            "Yes    1666\n",
            "Name: Dependents, dtype: int64\n",
            "Yes    5087\n",
            "No      547\n",
            "Name: PhoneService, dtype: int64\n",
            "No                  2700\n",
            "Yes                 2387\n",
            "No phone service     547\n",
            "Name: MultipleLines, dtype: int64\n",
            "Fiber optic    2479\n",
            "DSL            1934\n",
            "No             1221\n",
            "Name: InternetService, dtype: int64\n",
            "No                     2801\n",
            "Yes                    1612\n",
            "No internet service    1221\n",
            "Name: OnlineSecurity, dtype: int64\n",
            "No                     2498\n",
            "Yes                    1915\n",
            "No internet service    1221\n",
            "Name: OnlineBackup, dtype: int64\n",
            "No                     2473\n",
            "Yes                    1940\n",
            "No internet service    1221\n",
            "Name: DeviceProtection, dtype: int64\n",
            "No                     2781\n",
            "Yes                    1632\n",
            "No internet service    1221\n",
            "Name: TechSupport, dtype: int64\n",
            "No                     2246\n",
            "Yes                    2167\n",
            "No internet service    1221\n",
            "Name: StreamingTV, dtype: int64\n",
            "No                     2213\n",
            "Yes                    2200\n",
            "No internet service    1221\n",
            "Name: StreamingMovies, dtype: int64\n",
            "Month-to-month    3104\n",
            "Two year          1344\n",
            "One year          1186\n",
            "Name: Contract, dtype: int64\n",
            "Yes    3321\n",
            "No     2313\n",
            "Name: PaperlessBilling, dtype: int64\n",
            "Electronic check             1893\n",
            "Mailed check                 1305\n",
            "Bank transfer (automatic)    1219\n",
            "Credit card (automatic)      1217\n",
            "Name: PaymentMethod, dtype: int64\n",
            "No     4113\n",
            "Yes    1521\n",
            "Name: Churn, dtype: int64\n"
          ]
        }
      ],
      "source": [
        "catCol=[\"gender\",\"SeniorCitizen\",\"Dependents\",\"PhoneService\",\"MultipleLines\",\"InternetService\",\"OnlineSecurity\",\n",
        "        \"OnlineBackup\",\"DeviceProtection\",\"TechSupport\",\"StreamingTV\",\"StreamingMovies\",\"Contract\",\"PaperlessBilling\",\n",
        "        \"PaymentMethod\",\"Churn\"]\n",
        "for col in catCol:\n",
        "  print(data[col].value_counts())\n",
        "\n"
      ]
    },
    {
      "cell_type": "markdown",
      "metadata": {
        "id": "Ghes5hwMxu--"
      },
      "source": [
        "### **5.2 Data Cleaning**\n",
        "\n",
        "- N/A"
      ]
    },
    {
      "cell_type": "markdown",
      "metadata": {
        "id": "eHaO8RpKyQHL"
      },
      "source": [
        "### **5.3 Data Post-Profiling**\n",
        "\n",
        "- Next, we will generate and verify the report to identify any new observation that can help us in further analysis."
      ]
    },
    {
      "cell_type": "markdown",
      "metadata": {
        "id": "LLfz81jNDxl4"
      },
      "source": [
        "# **6. Exploratory Data Analysis**"
      ]
    },
    {
      "cell_type": "markdown",
      "metadata": {
        "id": "OTVPcvGtC7MZ"
      },
      "source": [
        "### **Check distribution of numerical features and Outliers**"
      ]
    },
    {
      "cell_type": "code",
      "execution_count": 30,
      "metadata": {
        "colab": {
          "base_uri": "https://localhost:8080/",
          "height": 882
        },
        "id": "OG7ahFxKhorY",
        "outputId": "b21574e9-db2c-43ad-a825-0a5d6f03eafb"
      },
      "outputs": [
        {
          "output_type": "stream",
          "name": "stdout",
          "text": [
            "outliers in feature tenure are\n",
            " Series([], Name: tenure, dtype: int64)\n"
          ]
        },
        {
          "output_type": "stream",
          "name": "stderr",
          "text": [
            "/usr/local/lib/python3.7/dist-packages/seaborn/distributions.py:2619: FutureWarning: `distplot` is a deprecated function and will be removed in a future version. Please adapt your code to use either `displot` (a figure-level function with similar flexibility) or `histplot` (an axes-level function for histograms).\n",
            "  warnings.warn(msg, FutureWarning)\n",
            "/usr/local/lib/python3.7/dist-packages/seaborn/_decorators.py:43: FutureWarning: Pass the following variable as a keyword arg: x. From version 0.12, the only valid positional argument will be `data`, and passing other arguments without an explicit keyword will result in an error or misinterpretation.\n",
            "  FutureWarning\n",
            "/usr/local/lib/python3.7/dist-packages/seaborn/distributions.py:2619: FutureWarning: `distplot` is a deprecated function and will be removed in a future version. Please adapt your code to use either `displot` (a figure-level function with similar flexibility) or `histplot` (an axes-level function for histograms).\n",
            "  warnings.warn(msg, FutureWarning)\n"
          ]
        },
        {
          "output_type": "stream",
          "name": "stdout",
          "text": [
            "outliers in feature MonthlyCharges are\n",
            " Series([], Name: MonthlyCharges, dtype: float64)\n"
          ]
        },
        {
          "output_type": "stream",
          "name": "stderr",
          "text": [
            "/usr/local/lib/python3.7/dist-packages/seaborn/_decorators.py:43: FutureWarning: Pass the following variable as a keyword arg: x. From version 0.12, the only valid positional argument will be `data`, and passing other arguments without an explicit keyword will result in an error or misinterpretation.\n",
            "  FutureWarning\n"
          ]
        },
        {
          "output_type": "display_data",
          "data": {
            "text/plain": [
              "<Figure size 1080x360 with 2 Axes>"
            ],
            "image/png": "[encoded data removed]"
          },
          "metadata": {
            "needs_background": "light"
          }
        },
        {
          "output_type": "display_data",
          "data": {
            "text/plain": [
              "<Figure size 1080x360 with 2 Axes>"
            ],
            "image/png": "[encoded data removed]"
          },
          "metadata": {
            "needs_background": "light"
          }
        }
      ],
      "source": [
        "contColumn=[\"tenure\",\"MonthlyCharges\"]\n",
        "\n",
        "for col in contColumn:  \n",
        "  fig=plt.figure(figsize=[15,5])\n",
        "  plt.subplot(1,2,1)\n",
        "  sns.distplot(data[col], color=\"b\")\n",
        "  plt.axvline(data[col].mean(), color=\"r\")\n",
        "  plt.axvline(data[col].median(), color=\"g\")\n",
        "  plt.subplot(1,2,2)\n",
        "  sns.boxplot(data[col])\n",
        "  quamtile_75=data[col].quantile(q=.75)\n",
        "  quamtile_25=data[col].quantile(q=.25)\n",
        "  iqr=quamtile_75-quamtile_25\n",
        "  lower_limit=quamtile_25-1.5*iqr\n",
        "  upper_limit=quamtile_75+1.5*iqr\n",
        "  outliers=data[col][(data[col]<lower_limit )|(data[col]>upper_limit)]\n",
        "  print(\"outliers in feature\", col ,\"are\\n\" ,outliers)\n",
        "  # data.drop(index=outliers.index, inplace=True)\n",
        "\n",
        "  "
      ]
    },
    {
      "cell_type": "markdown",
      "metadata": {
        "id": "ac5CFVgWb8iq"
      },
      "source": [
        "### **Check the frequency of catrgorical features**"
      ]
    },
    {
      "cell_type": "code",
      "execution_count": 31,
      "metadata": {
        "colab": {
          "base_uri": "https://localhost:8080/",
          "height": 1000
        },
        "id": "rguyyp3ScY9g",
        "outputId": "272924bc-dd8d-4564-8940-bd5eff5b66ca"
      },
      "outputs": [
        {
          "output_type": "display_data",
          "data": {
            "text/plain": [
              "<Figure size 1080x504 with 1 Axes>"
            ],
            "image/png": "[encoded data removed]"
          },
          "metadata": {}
        },
        {
          "output_type": "display_data",
          "data": {
            "text/plain": [
              "<Figure size 432x288 with 1 Axes>"
            ],
            "image/png": "[encoded data removed]"
          },
          "metadata": {}
        },
        {
          "output_type": "display_data",
          "data": {
            "text/plain": [
              "<Figure size 432x288 with 1 Axes>"
            ],
            "image/png": "[encoded data removed]"
          },
          "metadata": {}
        },
        {
          "output_type": "display_data",
          "data": {
            "text/plain": [
              "<Figure size 432x288 with 1 Axes>"
            ],
            "image/png": "[encoded data removed]"
          },
          "metadata": {}
        },
        {
          "output_type": "display_data",
          "data": {
            "text/plain": [
              "<Figure size 432x288 with 1 Axes>"
            ],
            "image/png": "[encoded data removed]"
          },
          "metadata": {}
        },
        {
          "output_type": "display_data",
          "data": {
            "text/plain": [
              "<Figure size 432x288 with 1 Axes>"
            ],
            "image/png": "[encoded data removed]"
          },
          "metadata": {}
        },
        {
          "output_type": "display_data",
          "data": {
            "text/plain": [
              "<Figure size 432x288 with 1 Axes>"
            ],
            "image/png": "[encoded data removed]"
          },
          "metadata": {}
        },
        {
          "output_type": "display_data",
          "data": {
            "text/plain": [
              "<Figure size 432x288 with 1 Axes>"
            ],
            "image/png": "[encoded data removed]"
          },
          "metadata": {}
        },
        {
          "output_type": "display_data",
          "data": {
            "text/plain": [
              "<Figure size 432x288 with 1 Axes>"
            ],
            "image/png": "[encoded data removed]"
          },
          "metadata": {}
        },
        {
          "output_type": "display_data",
          "data": {
            "text/plain": [
              "<Figure size 432x288 with 1 Axes>"
            ],
            "image/png": "[encoded data removed]"
          },
          "metadata": {}
        },
        {
          "output_type": "display_data",
          "data": {
            "text/plain": [
              "<Figure size 432x288 with 1 Axes>"
            ],
            "image/png": "[encoded data removed]"
          },
          "metadata": {}
        },
        {
          "output_type": "display_data",
          "data": {
            "text/plain": [
              "<Figure size 432x288 with 1 Axes>"
            ],
            "image/png": "[encoded data removed]"
          },
          "metadata": {}
        },
        {
          "output_type": "display_data",
          "data": {
            "text/plain": [
              "<Figure size 432x288 with 1 Axes>"
            ],
            "image/png": "[encoded data removed]"
          },
          "metadata": {}
        },
        {
          "output_type": "display_data",
          "data": {
            "text/plain": [
              "<Figure size 432x288 with 1 Axes>"
            ],
            "image/png": "[encoded data removed]"
          },
          "metadata": {}
        },
        {
          "output_type": "display_data",
          "data": {
            "text/plain": [
              "<Figure size 432x288 with 1 Axes>"
            ],
            "image/png": "[encoded data removed]"
          },
          "metadata": {}
        },
        {
          "output_type": "display_data",
          "data": {
            "text/plain": [
              "<Figure size 432x288 with 1 Axes>"
            ],
            "image/png": "[encoded data removed]"
          },
          "metadata": {}
        }
      ],
      "source": [
        "# fig=plt.figure(figsize=[25,10])\n",
        "fig=plt.figure(figsize=[15,7])\n",
        "for col in catCol:  \n",
        "  # plt.subplot(1,len(catCol),(catCol.index(col))+1)\n",
        "  space = np.ones(data[col].nunique())/20\n",
        "  data[col].value_counts().plot(kind='pie', explode=space, autopct='%1.0f%%',shadow = True)\n",
        "  plt.show()\n"
      ]
    },
    {
      "cell_type": "markdown",
      "metadata": {
        "id": "Y5A14AmVz8aJ"
      },
      "source": [
        "### **Analize Relationship between each Categorical Variable and Target Variable**"
      ]
    },
    {
      "cell_type": "code",
      "source": [
        "ax=sns.countplot(x=\"Churn\",hue=\"gender\",data=data)\n",
        "df_percent = df.div(df.sum(axis=1), axis=0).mul(100).round(1)\n",
        "for p in ax.patches:\n",
        "  width=p.get_width()\n",
        "  height=p.get_height()\n",
        "  x,y=p.get_xy()\n",
        "  ax.annotate(f\"{height}\",(x+width/2,y+height*1.02),ha=\"center\")\n",
        "\n",
        "# df=data.groupby([\"Churn\",\"gender\"])[\"gender\"].count().unstack()\n",
        "# df"
      ],
      "metadata": {
        "colab": {
          "base_uri": "https://localhost:8080/",
          "height": 281
        },
        "id": "q2HNDS8vwK-S",
        "outputId": "77406c34-1f90-424e-c8ff-1a83230cf716"
      },
      "execution_count": 32,
      "outputs": [
        {
          "output_type": "display_data",
          "data": {
            "text/plain": [
              "<Figure size 432x288 with 1 Axes>"
            ],
            "image/png": "[encoded data removed]"
          },
          "metadata": {
            "needs_background": "light"
          }
        }
      ]
    },
    {
      "cell_type": "code",
      "source": [
        "df_percent = df.div(df.sum(axis=1), axis=0).mul(100).round(1)\n",
        "df_percent"
      ],
      "metadata": {
        "colab": {
          "base_uri": "https://localhost:8080/",
          "height": 143
        },
        "id": "7l7VNn9domN9",
        "outputId": "b2395868-633f-44a3-8b66-e82d1fbbca74"
      },
      "execution_count": 33,
      "outputs": [
        {
          "output_type": "execute_result",
          "data": {
            "text/plain": [
              "Churn     No    Yes\n",
              "Churn              \n",
              "No     100.0    NaN\n",
              "Yes      NaN  100.0"
            ],
            "text/html": [
              "\n",
              "  <div id=\"df-c707ef74-a23e-44c8-9e04-6bce8144e3a9\">\n",
              "    <div class=\"colab-df-container\">\n",
              "      <div>\n",
              "<style scoped>\n",
              "    .dataframe tbody tr th:only-of-type {\n",
              "        vertical-align: middle;\n",
              "    }\n",
              "\n",
              "    .dataframe tbody tr th {\n",
              "        vertical-align: top;\n",
              "    }\n",
              "\n",
              "    .dataframe thead th {\n",
              "        text-align: right;\n",
              "    }\n",
              "</style>\n",
              "<table border=\"1\" class=\"dataframe\">\n",
              "  <thead>\n",
              "    <tr style=\"text-align: right;\">\n",
              "      <th>Churn</th>\n",
              "      <th>No</th>\n",
              "      <th>Yes</th>\n",
              "    </tr>\n",
              "    <tr>\n",
              "      <th>Churn</th>\n",
              "      <th></th>\n",
              "      <th></th>\n",
              "    </tr>\n",
              "  </thead>\n",
              "  <tbody>\n",
              "    <tr>\n",
              "      <th>No</th>\n",
              "      <td>100.0</td>\n",
              "      <td>NaN</td>\n",
              "    </tr>\n",
              "    <tr>\n",
              "      <th>Yes</th>\n",
              "      <td>NaN</td>\n",
              "      <td>100.0</td>\n",
              "    </tr>\n",
              "  </tbody>\n",
              "</table>\n",
              "</div>\n",
              "      <button class=\"colab-df-convert\" onclick=\"convertToInteractive('df-c707ef74-a23e-44c8-9e04-6bce8144e3a9')\"\n",
              "              title=\"Convert this dataframe to an interactive table.\"\n",
              "              style=\"display:none;\">\n",
              "        \n",
              "  <svg xmlns=\"http://www.w3.org/2000/svg\" height=\"24px\"viewBox=\"0 0 24 24\"\n",
              "       width=\"24px\">\n",
              "    <path d=\"M0 0h24v24H0V0z\" fill=\"none\"/>\n",
              "    <path d=\"M18.56 5.44l.94 2.06.94-2.06 2.06-.94-2.06-.94-.94-2.06-.94 2.06-2.06.94zm-11 1L8.5 8.5l.94-2.06 2.06-.94-2.06-.94L8.5 2.5l-.94 2.06-2.06.94zm10 10l.94 2.06.94-2.06 2.06-.94-2.06-.94-.94-2.06-.94 2.06-2.06.94z\"/><path d=\"M17.41 7.96l-1.37-1.37c-.4-.4-.92-.59-1.43-.59-.52 0-1.04.2-1.43.59L10.3 9.45l-7.72 7.72c-.78.78-.78 2.05 0 2.83L4 21.41c.39.39.9.59 1.41.59.51 0 1.02-.2 1.41-.59l7.78-7.78 2.81-2.81c.8-.78.8-2.07 0-2.86zM5.41 20L4 18.59l7.72-7.72 1.47 1.35L5.41 20z\"/>\n",
              "  </svg>\n",
              "      </button>\n",
              "      \n",
              "  <style>\n",
              "    .colab-df-container {\n",
              "      display:flex;\n",
              "      flex-wrap:wrap;\n",
              "      gap: 12px;\n",
              "    }\n",
              "\n",
              "    .colab-df-convert {\n",
              "      background-color: #E8F0FE;\n",
              "      border: none;\n",
              "      border-radius: 50%;\n",
              "      cursor: pointer;\n",
              "      display: none;\n",
              "      fill: #1967D2;\n",
              "      height: 32px;\n",
              "      padding: 0 0 0 0;\n",
              "      width: 32px;\n",
              "    }\n",
              "\n",
              "    .colab-df-convert:hover {\n",
              "      background-color: #E2EBFA;\n",
              "      box-shadow: 0px 1px 2px rgba(60, 64, 67, 0.3), 0px 1px 3px 1px rgba(60, 64, 67, 0.15);\n",
              "      fill: #174EA6;\n",
              "    }\n",
              "\n",
              "    [theme=dark] .colab-df-convert {\n",
              "      background-color: #3B4455;\n",
              "      fill: #D2E3FC;\n",
              "    }\n",
              "\n",
              "    [theme=dark] .colab-df-convert:hover {\n",
              "      background-color: #434B5C;\n",
              "      box-shadow: 0px 1px 3px 1px rgba(0, 0, 0, 0.15);\n",
              "      filter: drop-shadow(0px 1px 2px rgba(0, 0, 0, 0.3));\n",
              "      fill: #FFFFFF;\n",
              "    }\n",
              "  </style>\n",
              "\n",
              "      <script>\n",
              "        const buttonEl =\n",
              "          document.querySelector('#df-c707ef74-a23e-44c8-9e04-6bce8144e3a9 button.colab-df-convert');\n",
              "        buttonEl.style.display =\n",
              "          google.colab.kernel.accessAllowed ? 'block' : 'none';\n",
              "\n",
              "        async function convertToInteractive(key) {\n",
              "          const element = document.querySelector('#df-c707ef74-a23e-44c8-9e04-6bce8144e3a9');\n",
              "          const dataTable =\n",
              "            await google.colab.kernel.invokeFunction('convertToInteractive',\n",
              "                                                     [key], {});\n",
              "          if (!dataTable) return;\n",
              "\n",
              "          const docLinkHtml = 'Like what you see? Visit the ' +\n",
              "            '<a target=\"_blank\" href=https://colab.research.google.com/notebooks/data_table.ipynb>data table notebook</a>'\n",
              "            + ' to learn more about interactive tables.';\n",
              "          element.innerHTML = '';\n",
              "          dataTable['output_type'] = 'display_data';\n",
              "          await google.colab.output.renderOutput(dataTable, element);\n",
              "          const docLink = document.createElement('div');\n",
              "          docLink.innerHTML = docLinkHtml;\n",
              "          element.appendChild(docLink);\n",
              "        }\n",
              "      </script>\n",
              "    </div>\n",
              "  </div>\n",
              "  "
            ]
          },
          "metadata": {},
          "execution_count": 33
        }
      ]
    },
    {
      "cell_type": "code",
      "source": [
        "for col in catCol:\n",
        "  fig=plt.figure(figsize=[15,5])\n",
        "  df=data.groupby([\"Churn\",col])[col].count().unstack()\n",
        "  ax = df.div(df.sum(axis=1), axis=0).mul(100).round(2).plot.bar()\n",
        "  for p in ax.patches:\n",
        "    width=p.get_width()\n",
        "    height=p.get_height()\n",
        "    x,y=p.get_xy()\n",
        "    ax.annotate(height,(x+width/2,y+height*1.02),ha=\"center\")\n",
        "  \n",
        "  # plt.subplot(1,2,1)\n",
        "  # data1=data.groupby([\"BP\",\"Cholesterol\"])[\"Id\"].count().unstack()\n",
        "  # sns.heatmap(data1,annot=True,cmap=\"Blues\",linecolor='Red',linewidth=1)\n",
        "  # plt.subplot(1,2,2)\n",
        "  # data1=data.groupby([\"BP\",\"Cholesterol\",\"Drug\"])[\"Drug\"].count().unstack()\n",
        "  # sns.heatmap(data1,annot=True,cmap=\"Blues\",linecolor='Red',linewidth=1)"
      ],
      "metadata": {
        "colab": {
          "base_uri": "https://localhost:8080/",
          "height": 1000
        },
        "id": "xSZNBrWt_Ikr",
        "outputId": "096ada17-2ab4-4797-cd9e-00122c9af7f7"
      },
      "execution_count": 34,
      "outputs": [
        {
          "output_type": "stream",
          "name": "stderr",
          "text": [
            "/usr/local/lib/python3.7/dist-packages/ipykernel_launcher.py:2: RuntimeWarning: More than 20 figures have been opened. Figures created through the pyplot interface (`matplotlib.pyplot.figure`) are retained until explicitly closed and may consume too much memory. (To control this warning, see the rcParam `figure.max_open_warning`).\n",
            "  \n",
            "/usr/local/lib/python3.7/dist-packages/pandas/plotting/_matplotlib/core.py:345: RuntimeWarning: More than 20 figures have been opened. Figures created through the pyplot interface (`matplotlib.pyplot.figure`) are retained until explicitly closed and may consume too much memory. (To control this warning, see the rcParam `figure.max_open_warning`).\n",
            "  fig = self.plt.figure(figsize=self.figsize)\n"
          ]
        },
        {
          "output_type": "display_data",
          "data": {
            "text/plain": [
              "<Figure size 1080x360 with 0 Axes>"
            ]
          },
          "metadata": {}
        },
        {
          "output_type": "display_data",
          "data": {
            "text/plain": [
              "<Figure size 432x288 with 1 Axes>"
            ],
            "image/png": "[encoded data removed]"
          },
          "metadata": {
            "needs_background": "light"
          }
        },
        {
          "output_type": "display_data",
          "data": {
            "text/plain": [
              "<Figure size 1080x360 with 0 Axes>"
            ]
          },
          "metadata": {}
        },
        {
          "output_type": "display_data",
          "data": {
            "text/plain": [
              "<Figure size 432x288 with 1 Axes>"
            ],
            "image/png": "[encoded data removed]"
          },
          "metadata": {
            "needs_background": "light"
          }
        },
        {
          "output_type": "display_data",
          "data": {
            "text/plain": [
              "<Figure size 1080x360 with 0 Axes>"
            ]
          },
          "metadata": {}
        },
        {
          "output_type": "display_data",
          "data": {
            "text/plain": [
              "<Figure size 432x288 with 1 Axes>"
            ],
            "image/png": "[encoded data removed]"
          },
          "metadata": {
            "needs_background": "light"
          }
        },
        {
          "output_type": "display_data",
          "data": {
            "text/plain": [
              "<Figure size 1080x360 with 0 Axes>"
            ]
          },
          "metadata": {}
        },
        {
          "output_type": "display_data",
          "data": {
            "text/plain": [
              "<Figure size 432x288 with 1 Axes>"
            ],
            "image/png": "[encoded data removed]"
          },
          "metadata": {
            "needs_background": "light"
          }
        },
        {
          "output_type": "display_data",
          "data": {
            "text/plain": [
              "<Figure size 1080x360 with 0 Axes>"
            ]
          },
          "metadata": {}
        },
        {
          "output_type": "display_data",
          "data": {
            "text/plain": [
              "<Figure size 432x288 with 1 Axes>"
            ],
            "image/png": "[encoded data removed]"
          },
          "metadata": {
            "needs_background": "light"
          }
        },
        {
          "output_type": "display_data",
          "data": {
            "text/plain": [
              "<Figure size 1080x360 with 0 Axes>"
            ]
          },
          "metadata": {}
        },
        {
          "output_type": "display_data",
          "data": {
            "text/plain": [
              "<Figure size 432x288 with 1 Axes>"
            ],
            "image/png": "[encoded data removed]"
          },
          "metadata": {
            "needs_background": "light"
          }
        },
        {
          "output_type": "display_data",
          "data": {
            "text/plain": [
              "<Figure size 1080x360 with 0 Axes>"
            ]
          },
          "metadata": {}
        },
        {
          "output_type": "display_data",
          "data": {
            "text/plain": [
              "<Figure size 432x288 with 1 Axes>"
            ],
            "image/png": "[encoded data removed]"
          },
          "metadata": {
            "needs_background": "light"
          }
        },
        {
          "output_type": "display_data",
          "data": {
            "text/plain": [
              "<Figure size 1080x360 with 0 Axes>"
            ]
          },
          "metadata": {}
        },
        {
          "output_type": "display_data",
          "data": {
            "text/plain": [
              "<Figure size 432x288 with 1 Axes>"
            ],
            "image/png": "[encoded data removed]"
          },
          "metadata": {
            "needs_background": "light"
          }
        },
        {
          "output_type": "display_data",
          "data": {
            "text/plain": [
              "<Figure size 1080x360 with 0 Axes>"
            ]
          },
          "metadata": {}
        },
        {
          "output_type": "display_data",
          "data": {
            "text/plain": [
              "<Figure size 432x288 with 1 Axes>"
            ],
            "image/png": "[encoded data removed]"
          },
          "metadata": {
            "needs_background": "light"
          }
        },
        {
          "output_type": "display_data",
          "data": {
            "text/plain": [
              "<Figure size 1080x360 with 0 Axes>"
            ]
          },
          "metadata": {}
        },
        {
          "output_type": "display_data",
          "data": {
            "text/plain": [
              "<Figure size 432x288 with 1 Axes>"
            ],
            "image/png": "[encoded data removed]"
          },
          "metadata": {
            "needs_background": "light"
          }
        },
        {
          "output_type": "display_data",
          "data": {
            "text/plain": [
              "<Figure size 1080x360 with 0 Axes>"
            ]
          },
          "metadata": {}
        },
        {
          "output_type": "display_data",
          "data": {
            "text/plain": [
              "<Figure size 432x288 with 1 Axes>"
            ],
            "image/png": "[encoded data removed]"
          },
          "metadata": {
            "needs_background": "light"
          }
        },
        {
          "output_type": "display_data",
          "data": {
            "text/plain": [
              "<Figure size 1080x360 with 0 Axes>"
            ]
          },
          "metadata": {}
        },
        {
          "output_type": "display_data",
          "data": {
            "text/plain": [
              "<Figure size 432x288 with 1 Axes>"
            ],
            "image/png": "[encoded data removed]"
          },
          "metadata": {
            "needs_background": "light"
          }
        },
        {
          "output_type": "display_data",
          "data": {
            "text/plain": [
              "<Figure size 1080x360 with 0 Axes>"
            ]
          },
          "metadata": {}
        },
        {
          "output_type": "display_data",
          "data": {
            "text/plain": [
              "<Figure size 432x288 with 1 Axes>"
            ],
            "image/png": "[encoded data removed]"
          },
          "metadata": {
            "needs_background": "light"
          }
        },
        {
          "output_type": "display_data",
          "data": {
            "text/plain": [
              "<Figure size 1080x360 with 0 Axes>"
            ]
          },
          "metadata": {}
        },
        {
          "output_type": "display_data",
          "data": {
            "text/plain": [
              "<Figure size 432x288 with 1 Axes>"
            ],
            "image/png": "[encoded data removed]"
          },
          "metadata": {
            "needs_background": "light"
          }
        },
        {
          "output_type": "display_data",
          "data": {
            "text/plain": [
              "<Figure size 1080x360 with 0 Axes>"
            ]
          },
          "metadata": {}
        },
        {
          "output_type": "display_data",
          "data": {
            "text/plain": [
              "<Figure size 432x288 with 1 Axes>"
            ],
            "image/png": "[encoded data removed]"
          },
          "metadata": {
            "needs_background": "light"
          }
        },
        {
          "output_type": "display_data",
          "data": {
            "text/plain": [
              "<Figure size 1080x360 with 0 Axes>"
            ]
          },
          "metadata": {}
        },
        {
          "output_type": "display_data",
          "data": {
            "text/plain": [
              "<Figure size 432x288 with 1 Axes>"
            ],
            "image/png": "[encoded data removed]"
          },
          "metadata": {
            "needs_background": "light"
          }
        }
      ]
    },
    {
      "cell_type": "markdown",
      "metadata": {
        "id": "i4055cdQ5mz_"
      },
      "source": [
        "### **Correlation Matrix**"
      ]
    },
    {
      "cell_type": "code",
      "execution_count": 35,
      "metadata": {
        "id": "bhO-mjuAfWZ0",
        "colab": {
          "base_uri": "https://localhost:8080/",
          "height": 395
        },
        "outputId": "1551633a-706a-4a24-bc87-a39b347f526a"
      },
      "outputs": [
        {
          "output_type": "execute_result",
          "data": {
            "text/plain": [
              "<matplotlib.axes._subplots.AxesSubplot at 0x7fa2094d6ad0>"
            ]
          },
          "metadata": {},
          "execution_count": 35
        },
        {
          "output_type": "display_data",
          "data": {
            "text/plain": [
              "<Figure size 720x432 with 2 Axes>"
            ],
            "image/png": "[encoded data removed]"
          },
          "metadata": {
            "needs_background": "light"
          }
        }
      ],
      "source": [
        "figure=plt.figure(figsize=[10,6])\n",
        "sns.heatmap(data.corr(), cmap=\"Blues\", annot=True,linecolor='Red',linewidth=1)"
      ]
    },
    {
      "cell_type": "markdown",
      "metadata": {
        "id": "ISaynBoL2U6f"
      },
      "source": [
        "# **7. Data Post-Processing**"
      ]
    },
    {
      "cell_type": "markdown",
      "metadata": {
        "id": "wTKr5hqq3tQy"
      },
      "source": [
        "### **7.1 Data Preparation/Feature Selection**\n",
        "\n"
      ]
    },
    {
      "cell_type": "code",
      "execution_count": 40,
      "metadata": {
        "id": "FcD8VCYk90nu",
        "colab": {
          "base_uri": "https://localhost:8080/",
          "height": 661
        },
        "outputId": "4e4a2401-3787-4c39-8bf9-b7edbf8a770b"
      },
      "outputs": [
        {
          "output_type": "execute_result",
          "data": {
            "text/plain": [
              "      SeniorCitizen Dependents PhoneService MultipleLines InternetService  \\\n",
              "0                 0        Yes          Yes            No              No   \n",
              "1                 0         No          Yes            No             DSL   \n",
              "2                 0         No          Yes           Yes             DSL   \n",
              "3                 0        Yes          Yes           Yes             DSL   \n",
              "4                 0         No          Yes            No             DSL   \n",
              "...             ...        ...          ...           ...             ...   \n",
              "5629              1         No          Yes           Yes     Fiber optic   \n",
              "5630              0        Yes          Yes            No              No   \n",
              "5631              0         No          Yes           Yes     Fiber optic   \n",
              "5632              0         No          Yes           Yes             DSL   \n",
              "5633              0        Yes          Yes            No             DSL   \n",
              "\n",
              "           OnlineSecurity         OnlineBackup     DeviceProtection  \\\n",
              "0     No internet service  No internet service  No internet service   \n",
              "1                     Yes                  Yes                  Yes   \n",
              "2                     Yes                  Yes                   No   \n",
              "3                     Yes                   No                  Yes   \n",
              "4                     Yes                  Yes                   No   \n",
              "...                   ...                  ...                  ...   \n",
              "5629                   No                   No                  Yes   \n",
              "5630  No internet service  No internet service  No internet service   \n",
              "5631                   No                  Yes                  Yes   \n",
              "5632                   No                  Yes                   No   \n",
              "5633                  Yes                  Yes                   No   \n",
              "\n",
              "              TechSupport          StreamingTV      StreamingMovies  \\\n",
              "0     No internet service  No internet service  No internet service   \n",
              "1                     Yes                   No                  Yes   \n",
              "2                     Yes                   No                   No   \n",
              "3                     Yes                  Yes                  Yes   \n",
              "4                     Yes                  Yes                   No   \n",
              "...                   ...                  ...                  ...   \n",
              "5629                   No                  Yes                  Yes   \n",
              "5630  No internet service  No internet service  No internet service   \n",
              "5631                   No                  Yes                  Yes   \n",
              "5632                   No                   No                   No   \n",
              "5633                  Yes                   No                  Yes   \n",
              "\n",
              "            Contract PaperlessBilling              PaymentMethod  tenure  \\\n",
              "0           Two year               No               Mailed check      12   \n",
              "1           One year               No    Credit card (automatic)      42   \n",
              "2           Two year               No  Bank transfer (automatic)      71   \n",
              "3           One year               No           Electronic check      71   \n",
              "4           One year               No           Electronic check      30   \n",
              "...              ...              ...                        ...     ...   \n",
              "5629  Month-to-month              Yes           Electronic check       9   \n",
              "5630        Two year               No               Mailed check      60   \n",
              "5631  Month-to-month              Yes           Electronic check      28   \n",
              "5632  Month-to-month              Yes               Mailed check       2   \n",
              "5633        Two year               No  Bank transfer (automatic)      16   \n",
              "\n",
              "      MonthlyCharges  \n",
              "0              19.70  \n",
              "1              73.90  \n",
              "2              65.15  \n",
              "3              85.45  \n",
              "4              70.40  \n",
              "...              ...  \n",
              "5629          100.50  \n",
              "5630           19.95  \n",
              "5631          105.70  \n",
              "5632           54.40  \n",
              "5633           68.25  \n",
              "\n",
              "[5634 rows x 16 columns]"
            ],
            "text/html": [
              "\n",
              "  <div id=\"df-869b8fd2-b3a9-4c8c-9444-d92185161e03\">\n",
              "    <div class=\"colab-df-container\">\n",
              "      <div>\n",
              "<style scoped>\n",
              "    .dataframe tbody tr th:only-of-type {\n",
              "        vertical-align: middle;\n",
              "    }\n",
              "\n",
              "    .dataframe tbody tr th {\n",
              "        vertical-align: top;\n",
              "    }\n",
              "\n",
              "    .dataframe thead th {\n",
              "        text-align: right;\n",
              "    }\n",
              "</style>\n",
              "<table border=\"1\" class=\"dataframe\">\n",
              "  <thead>\n",
              "    <tr style=\"text-align: right;\">\n",
              "      <th></th>\n",
              "      <th>SeniorCitizen</th>\n",
              "      <th>Dependents</th>\n",
              "      <th>PhoneService</th>\n",
              "      <th>MultipleLines</th>\n",
              "      <th>InternetService</th>\n",
              "      <th>OnlineSecurity</th>\n",
              "      <th>OnlineBackup</th>\n",
              "      <th>DeviceProtection</th>\n",
              "      <th>TechSupport</th>\n",
              "      <th>StreamingTV</th>\n",
              "      <th>StreamingMovies</th>\n",
              "      <th>Contract</th>\n",
              "      <th>PaperlessBilling</th>\n",
              "      <th>PaymentMethod</th>\n",
              "      <th>tenure</th>\n",
              "      <th>MonthlyCharges</th>\n",
              "    </tr>\n",
              "  </thead>\n",
              "  <tbody>\n",
              "    <tr>\n",
              "      <th>0</th>\n",
              "      <td>0</td>\n",
              "      <td>Yes</td>\n",
              "      <td>Yes</td>\n",
              "      <td>No</td>\n",
              "      <td>No</td>\n",
              "      <td>No internet service</td>\n",
              "      <td>No internet service</td>\n",
              "      <td>No internet service</td>\n",
              "      <td>No internet service</td>\n",
              "      <td>No internet service</td>\n",
              "      <td>No internet service</td>\n",
              "      <td>Two year</td>\n",
              "      <td>No</td>\n",
              "      <td>Mailed check</td>\n",
              "      <td>12</td>\n",
              "      <td>19.70</td>\n",
              "    </tr>\n",
              "    <tr>\n",
              "      <th>1</th>\n",
              "      <td>0</td>\n",
              "      <td>No</td>\n",
              "      <td>Yes</td>\n",
              "      <td>No</td>\n",
              "      <td>DSL</td>\n",
              "      <td>Yes</td>\n",
              "      <td>Yes</td>\n",
              "      <td>Yes</td>\n",
              "      <td>Yes</td>\n",
              "      <td>No</td>\n",
              "      <td>Yes</td>\n",
              "      <td>One year</td>\n",
              "      <td>No</td>\n",
              "      <td>Credit card (automatic)</td>\n",
              "      <td>42</td>\n",
              "      <td>73.90</td>\n",
              "    </tr>\n",
              "    <tr>\n",
              "      <th>2</th>\n",
              "      <td>0</td>\n",
              "      <td>No</td>\n",
              "      <td>Yes</td>\n",
              "      <td>Yes</td>\n",
              "      <td>DSL</td>\n",
              "      <td>Yes</td>\n",
              "      <td>Yes</td>\n",
              "      <td>No</td>\n",
              "      <td>Yes</td>\n",
              "      <td>No</td>\n",
              "      <td>No</td>\n",
              "      <td>Two year</td>\n",
              "      <td>No</td>\n",
              "      <td>Bank transfer (automatic)</td>\n",
              "      <td>71</td>\n",
              "      <td>65.15</td>\n",
              "    </tr>\n",
              "    <tr>\n",
              "      <th>3</th>\n",
              "      <td>0</td>\n",
              "      <td>Yes</td>\n",
              "      <td>Yes</td>\n",
              "      <td>Yes</td>\n",
              "      <td>DSL</td>\n",
              "      <td>Yes</td>\n",
              "      <td>No</td>\n",
              "      <td>Yes</td>\n",
              "      <td>Yes</td>\n",
              "      <td>Yes</td>\n",
              "      <td>Yes</td>\n",
              "      <td>One year</td>\n",
              "      <td>No</td>\n",
              "      <td>Electronic check</td>\n",
              "      <td>71</td>\n",
              "      <td>85.45</td>\n",
              "    </tr>\n",
              "    <tr>\n",
              "      <th>4</th>\n",
              "      <td>0</td>\n",
              "      <td>No</td>\n",
              "      <td>Yes</td>\n",
              "      <td>No</td>\n",
              "      <td>DSL</td>\n",
              "      <td>Yes</td>\n",
              "      <td>Yes</td>\n",
              "      <td>No</td>\n",
              "      <td>Yes</td>\n",
              "      <td>Yes</td>\n",
              "      <td>No</td>\n",
              "      <td>One year</td>\n",
              "      <td>No</td>\n",
              "      <td>Electronic check</td>\n",
              "      <td>30</td>\n",
              "      <td>70.40</td>\n",
              "    </tr>\n",
              "    <tr>\n",
              "      <th>...</th>\n",
              "      <td>...</td>\n",
              "      <td>...</td>\n",
              "      <td>...</td>\n",
              "      <td>...</td>\n",
              "      <td>...</td>\n",
              "      <td>...</td>\n",
              "      <td>...</td>\n",
              "      <td>...</td>\n",
              "      <td>...</td>\n",
              "      <td>...</td>\n",
              "      <td>...</td>\n",
              "      <td>...</td>\n",
              "      <td>...</td>\n",
              "      <td>...</td>\n",
              "      <td>...</td>\n",
              "      <td>...</td>\n",
              "    </tr>\n",
              "    <tr>\n",
              "      <th>5629</th>\n",
              "      <td>1</td>\n",
              "      <td>No</td>\n",
              "      <td>Yes</td>\n",
              "      <td>Yes</td>\n",
              "      <td>Fiber optic</td>\n",
              "      <td>No</td>\n",
              "      <td>No</td>\n",
              "      <td>Yes</td>\n",
              "      <td>No</td>\n",
              "      <td>Yes</td>\n",
              "      <td>Yes</td>\n",
              "      <td>Month-to-month</td>\n",
              "      <td>Yes</td>\n",
              "      <td>Electronic check</td>\n",
              "      <td>9</td>\n",
              "      <td>100.50</td>\n",
              "    </tr>\n",
              "    <tr>\n",
              "      <th>5630</th>\n",
              "      <td>0</td>\n",
              "      <td>Yes</td>\n",
              "      <td>Yes</td>\n",
              "      <td>No</td>\n",
              "      <td>No</td>\n",
              "      <td>No internet service</td>\n",
              "      <td>No internet service</td>\n",
              "      <td>No internet service</td>\n",
              "      <td>No internet service</td>\n",
              "      <td>No internet service</td>\n",
              "      <td>No internet service</td>\n",
              "      <td>Two year</td>\n",
              "      <td>No</td>\n",
              "      <td>Mailed check</td>\n",
              "      <td>60</td>\n",
              "      <td>19.95</td>\n",
              "    </tr>\n",
              "    <tr>\n",
              "      <th>5631</th>\n",
              "      <td>0</td>\n",
              "      <td>No</td>\n",
              "      <td>Yes</td>\n",
              "      <td>Yes</td>\n",
              "      <td>Fiber optic</td>\n",
              "      <td>No</td>\n",
              "      <td>Yes</td>\n",
              "      <td>Yes</td>\n",
              "      <td>No</td>\n",
              "      <td>Yes</td>\n",
              "      <td>Yes</td>\n",
              "      <td>Month-to-month</td>\n",
              "      <td>Yes</td>\n",
              "      <td>Electronic check</td>\n",
              "      <td>28</td>\n",
              "      <td>105.70</td>\n",
              "    </tr>\n",
              "    <tr>\n",
              "      <th>5632</th>\n",
              "      <td>0</td>\n",
              "      <td>No</td>\n",
              "      <td>Yes</td>\n",
              "      <td>Yes</td>\n",
              "      <td>DSL</td>\n",
              "      <td>No</td>\n",
              "      <td>Yes</td>\n",
              "      <td>No</td>\n",
              "      <td>No</td>\n",
              "      <td>No</td>\n",
              "      <td>No</td>\n",
              "      <td>Month-to-month</td>\n",
              "      <td>Yes</td>\n",
              "      <td>Mailed check</td>\n",
              "      <td>2</td>\n",
              "      <td>54.40</td>\n",
              "    </tr>\n",
              "    <tr>\n",
              "      <th>5633</th>\n",
              "      <td>0</td>\n",
              "      <td>Yes</td>\n",
              "      <td>Yes</td>\n",
              "      <td>No</td>\n",
              "      <td>DSL</td>\n",
              "      <td>Yes</td>\n",
              "      <td>Yes</td>\n",
              "      <td>No</td>\n",
              "      <td>Yes</td>\n",
              "      <td>No</td>\n",
              "      <td>Yes</td>\n",
              "      <td>Two year</td>\n",
              "      <td>No</td>\n",
              "      <td>Bank transfer (automatic)</td>\n",
              "      <td>16</td>\n",
              "      <td>68.25</td>\n",
              "    </tr>\n",
              "  </tbody>\n",
              "</table>\n",
              "<p>5634 rows × 16 columns</p>\n",
              "</div>\n",
              "      <button class=\"colab-df-convert\" onclick=\"convertToInteractive('df-869b8fd2-b3a9-4c8c-9444-d92185161e03')\"\n",
              "              title=\"Convert this dataframe to an interactive table.\"\n",
              "              style=\"display:none;\">\n",
              "        \n",
              "  <svg xmlns=\"http://www.w3.org/2000/svg\" height=\"24px\"viewBox=\"0 0 24 24\"\n",
              "       width=\"24px\">\n",
              "    <path d=\"M0 0h24v24H0V0z\" fill=\"none\"/>\n",
              "    <path d=\"M18.56 5.44l.94 2.06.94-2.06 2.06-.94-2.06-.94-.94-2.06-.94 2.06-2.06.94zm-11 1L8.5 8.5l.94-2.06 2.06-.94-2.06-.94L8.5 2.5l-.94 2.06-2.06.94zm10 10l.94 2.06.94-2.06 2.06-.94-2.06-.94-.94-2.06-.94 2.06-2.06.94z\"/><path d=\"M17.41 7.96l-1.37-1.37c-.4-.4-.92-.59-1.43-.59-.52 0-1.04.2-1.43.59L10.3 9.45l-7.72 7.72c-.78.78-.78 2.05 0 2.83L4 21.41c.39.39.9.59 1.41.59.51 0 1.02-.2 1.41-.59l7.78-7.78 2.81-2.81c.8-.78.8-2.07 0-2.86zM5.41 20L4 18.59l7.72-7.72 1.47 1.35L5.41 20z\"/>\n",
              "  </svg>\n",
              "      </button>\n",
              "      \n",
              "  <style>\n",
              "    .colab-df-container {\n",
              "      display:flex;\n",
              "      flex-wrap:wrap;\n",
              "      gap: 12px;\n",
              "    }\n",
              "\n",
              "    .colab-df-convert {\n",
              "      background-color: #E8F0FE;\n",
              "      border: none;\n",
              "      border-radius: 50%;\n",
              "      cursor: pointer;\n",
              "      display: none;\n",
              "      fill: #1967D2;\n",
              "      height: 32px;\n",
              "      padding: 0 0 0 0;\n",
              "      width: 32px;\n",
              "    }\n",
              "\n",
              "    .colab-df-convert:hover {\n",
              "      background-color: #E2EBFA;\n",
              "      box-shadow: 0px 1px 2px rgba(60, 64, 67, 0.3), 0px 1px 3px 1px rgba(60, 64, 67, 0.15);\n",
              "      fill: #174EA6;\n",
              "    }\n",
              "\n",
              "    [theme=dark] .colab-df-convert {\n",
              "      background-color: #3B4455;\n",
              "      fill: #D2E3FC;\n",
              "    }\n",
              "\n",
              "    [theme=dark] .colab-df-convert:hover {\n",
              "      background-color: #434B5C;\n",
              "      box-shadow: 0px 1px 3px 1px rgba(0, 0, 0, 0.15);\n",
              "      filter: drop-shadow(0px 1px 2px rgba(0, 0, 0, 0.3));\n",
              "      fill: #FFFFFF;\n",
              "    }\n",
              "  </style>\n",
              "\n",
              "      <script>\n",
              "        const buttonEl =\n",
              "          document.querySelector('#df-869b8fd2-b3a9-4c8c-9444-d92185161e03 button.colab-df-convert');\n",
              "        buttonEl.style.display =\n",
              "          google.colab.kernel.accessAllowed ? 'block' : 'none';\n",
              "\n",
              "        async function convertToInteractive(key) {\n",
              "          const element = document.querySelector('#df-869b8fd2-b3a9-4c8c-9444-d92185161e03');\n",
              "          const dataTable =\n",
              "            await google.colab.kernel.invokeFunction('convertToInteractive',\n",
              "                                                     [key], {});\n",
              "          if (!dataTable) return;\n",
              "\n",
              "          const docLinkHtml = 'Like what you see? Visit the ' +\n",
              "            '<a target=\"_blank\" href=https://colab.research.google.com/notebooks/data_table.ipynb>data table notebook</a>'\n",
              "            + ' to learn more about interactive tables.';\n",
              "          element.innerHTML = '';\n",
              "          dataTable['output_type'] = 'display_data';\n",
              "          await google.colab.output.renderOutput(dataTable, element);\n",
              "          const docLink = document.createElement('div');\n",
              "          docLink.innerHTML = docLinkHtml;\n",
              "          element.appendChild(docLink);\n",
              "        }\n",
              "      </script>\n",
              "    </div>\n",
              "  </div>\n",
              "  "
            ]
          },
          "metadata": {},
          "execution_count": 40
        }
      ],
      "source": [
        "features=[\"SeniorCitizen\",\"Dependents\",\"PhoneService\",\"MultipleLines\",\"InternetService\",\"OnlineSecurity\",\n",
        "        \"OnlineBackup\",\"DeviceProtection\",\"TechSupport\",\"StreamingTV\",\"StreamingMovies\",\"Contract\",\"PaperlessBilling\",\n",
        "        \"PaymentMethod\",\"tenure\",\"MonthlyCharges\"]\n",
        "X=data[features]\n",
        "y=data.Churn\n",
        "dataValidation=dataValidation[features]\n",
        "\n",
        "X\n"
      ]
    },
    {
      "cell_type": "markdown",
      "metadata": {
        "id": "PLF8eGU33VZD"
      },
      "source": [
        "# **8. Model Development & Evaluation**"
      ]
    },
    {
      "cell_type": "code",
      "execution_count": 51,
      "metadata": {
        "id": "vfy2MULRCY2_",
        "colab": {
          "base_uri": "https://localhost:8080/"
        },
        "outputId": "424fbdc1-bdd5-4a35-c944-bee9cb1286ef"
      },
      "outputs": [
        {
          "output_type": "stream",
          "name": "stdout",
          "text": [
            "   fit_time  score_time  test_score  train_score\n",
            "0  0.155631    0.016945    0.806738     0.801183\n",
            "1  0.164883    0.014650    0.820922     0.800986\n",
            "2  0.146115    0.017817    0.790780     0.805128\n",
            "3  0.157701    0.017977    0.794326     0.802170\n",
            "4  0.147082    0.017171    0.836590     0.799448\n",
            "5  0.162925    0.023025    0.806394     0.802800\n",
            "6  0.165770    0.015581    0.770870     0.806153\n",
            "7  0.148040    0.021337    0.774423     0.803195\n",
            "8  0.160930    0.016587    0.820604     0.801814\n",
            "9  0.159518    0.010895    0.783304     0.804772\n",
            "fit_time       0.156859\n",
            "score_time     0.017199\n",
            "test_score     0.800495\n",
            "train_score    0.802765\n",
            "dtype: float64\n",
            "Pipeline(steps=[('columntransformer',\n",
            "                 ColumnTransformer(remainder='passthrough',\n",
            "                                   transformers=[('onehotencoder',\n",
            "                                                  OneHotEncoder(drop='first'),\n",
            "                                                  ['SeniorCitizen',\n",
            "                                                   'Dependents', 'PhoneService',\n",
            "                                                   'MultipleLines',\n",
            "                                                   'InternetService',\n",
            "                                                   'OnlineSecurity',\n",
            "                                                   'OnlineBackup',\n",
            "                                                   'DeviceProtection',\n",
            "                                                   'TechSupport', 'StreamingTV',\n",
            "                                                   'StreamingMovies',\n",
            "                                                   'Contract',\n",
            "                                                   'PaperlessBilling',\n",
            "                                                   'PaymentMethod']),\n",
            "                                                 ('robustscaler',\n",
            "                                                  RobustScaler(),\n",
            "                                                  ['tenure',\n",
            "                                                   'MonthlyCharges'])])),\n",
            "                ('logisticregression', LogisticRegression())])\n"
          ]
        },
        {
          "output_type": "execute_result",
          "data": {
            "text/plain": [
              "Pipeline(steps=[('columntransformer',\n",
              "                 ColumnTransformer(remainder='passthrough',\n",
              "                                   transformers=[('onehotencoder',\n",
              "                                                  OneHotEncoder(drop='first'),\n",
              "                                                  ['SeniorCitizen',\n",
              "                                                   'Dependents', 'PhoneService',\n",
              "                                                   'MultipleLines',\n",
              "                                                   'InternetService',\n",
              "                                                   'OnlineSecurity',\n",
              "                                                   'OnlineBackup',\n",
              "                                                   'DeviceProtection',\n",
              "                                                   'TechSupport', 'StreamingTV',\n",
              "                                                   'StreamingMovies',\n",
              "                                                   'Contract',\n",
              "                                                   'PaperlessBilling',\n",
              "                                                   'PaymentMethod']),\n",
              "                                                 ('robustscaler',\n",
              "                                                  RobustScaler(),\n",
              "                                                  ['tenure',\n",
              "                                                   'MonthlyCharges'])])),\n",
              "                ('logisticregression', LogisticRegression())])"
            ]
          },
          "metadata": {},
          "execution_count": 51
        }
      ],
      "source": [
        "from sklearn.utils import shuffle\n",
        "from sklearn.preprocessing import OneHotEncoder\n",
        "from sklearn.compose import make_column_transformer\n",
        "from sklearn.model_selection import cross_val_score,cross_validate,cross_val_predict\n",
        "from sklearn.pipeline import make_pipeline\n",
        "\n",
        "# Define which columns should be encoded\n",
        "columns_to_encode=catCol=[\"SeniorCitizen\",\"Dependents\",\"PhoneService\",\"MultipleLines\",\"InternetService\",\"OnlineSecurity\",\n",
        "        \"OnlineBackup\",\"DeviceProtection\",\"TechSupport\",\"StreamingTV\",\"StreamingMovies\",\"Contract\",\"PaperlessBilling\",\n",
        "        \"PaymentMethod\"]\n",
        "columns_to_scale=contColumn\n",
        "kf=KFold(10,shuffle=True,random_state=50)\n",
        "# Instantiate column transformer\n",
        "column_trans=make_column_transformer((OneHotEncoder(drop=\"first\"),columns_to_encode),(RobustScaler(),columns_to_scale),\n",
        "                                     remainder=\"passthrough\")\n",
        "\n",
        "# Instantiate Decision Tree Model\n",
        "# modelDT=RandomForestClassifier(random_state=50)\n",
        "modelDT=LogisticRegression()\n",
        "# Make Pipeline\n",
        "pipe=make_pipeline(column_trans,modelDT)\n",
        "\n",
        "cv_score=cross_validate(pipe,X,y,cv=kf,n_jobs=-1,scoring=\"accuracy\",return_train_score=True)\n",
        "cv_score_df=pd.DataFrame(cv_score)\n",
        "print(cv_score_df)\n",
        "print(cv_score_df.mean())\n",
        "print(pipe)\n",
        "pipe.fit(X,y)\n",
        "# dataValidation_pred=pipe.predict(dataValidation)\n",
        "\n",
        "# submission = pd.DataFrame({'Id':dataValidationId,'Drug':dataValidation_pred})\n",
        "# from google.colab import files\n",
        "# submission.to_csv('submission.csv', encoding = 'utf-8-sig',index=False,header=False) \n",
        "# files.download('submission.csv')\n",
        "\n",
        "\n",
        "\n"
      ]
    },
    {
      "cell_type": "code",
      "source": [
        "df_out=pd.DataFrame(column_trans.fit_transform(X),columns=column_trans.get_feature_names_out())\n",
        "df_out"
      ],
      "metadata": {
        "colab": {
          "base_uri": "https://localhost:8080/",
          "height": 505
        },
        "id": "1uKSPSuB2ow7",
        "outputId": "e1220fa3-9b83-4fc2-e2e9-f26e2762f7f4"
      },
      "execution_count": 58,
      "outputs": [
        {
          "output_type": "execute_result",
          "data": {
            "text/plain": [
              "      onehotencoder__SeniorCitizen_1  onehotencoder__Dependents_Yes  \\\n",
              "0                                0.0                            1.0   \n",
              "1                                0.0                            0.0   \n",
              "2                                0.0                            0.0   \n",
              "3                                0.0                            1.0   \n",
              "4                                0.0                            0.0   \n",
              "...                              ...                            ...   \n",
              "5629                             1.0                            0.0   \n",
              "5630                             0.0                            1.0   \n",
              "5631                             0.0                            0.0   \n",
              "5632                             0.0                            0.0   \n",
              "5633                             0.0                            1.0   \n",
              "\n",
              "      onehotencoder__PhoneService_Yes  \\\n",
              "0                                 1.0   \n",
              "1                                 1.0   \n",
              "2                                 1.0   \n",
              "3                                 1.0   \n",
              "4                                 1.0   \n",
              "...                               ...   \n",
              "5629                              1.0   \n",
              "5630                              1.0   \n",
              "5631                              1.0   \n",
              "5632                              1.0   \n",
              "5633                              1.0   \n",
              "\n",
              "      onehotencoder__MultipleLines_No phone service  \\\n",
              "0                                               0.0   \n",
              "1                                               0.0   \n",
              "2                                               0.0   \n",
              "3                                               0.0   \n",
              "4                                               0.0   \n",
              "...                                             ...   \n",
              "5629                                            0.0   \n",
              "5630                                            0.0   \n",
              "5631                                            0.0   \n",
              "5632                                            0.0   \n",
              "5633                                            0.0   \n",
              "\n",
              "      onehotencoder__MultipleLines_Yes  \\\n",
              "0                                  0.0   \n",
              "1                                  0.0   \n",
              "2                                  1.0   \n",
              "3                                  1.0   \n",
              "4                                  0.0   \n",
              "...                                ...   \n",
              "5629                               1.0   \n",
              "5630                               0.0   \n",
              "5631                               1.0   \n",
              "5632                               1.0   \n",
              "5633                               0.0   \n",
              "\n",
              "      onehotencoder__InternetService_Fiber optic  \\\n",
              "0                                            0.0   \n",
              "1                                            0.0   \n",
              "2                                            0.0   \n",
              "3                                            0.0   \n",
              "4                                            0.0   \n",
              "...                                          ...   \n",
              "5629                                         1.0   \n",
              "5630                                         0.0   \n",
              "5631                                         1.0   \n",
              "5632                                         0.0   \n",
              "5633                                         0.0   \n",
              "\n",
              "      onehotencoder__InternetService_No  \\\n",
              "0                                   1.0   \n",
              "1                                   0.0   \n",
              "2                                   0.0   \n",
              "3                                   0.0   \n",
              "4                                   0.0   \n",
              "...                                 ...   \n",
              "5629                                0.0   \n",
              "5630                                1.0   \n",
              "5631                                0.0   \n",
              "5632                                0.0   \n",
              "5633                                0.0   \n",
              "\n",
              "      onehotencoder__OnlineSecurity_No internet service  \\\n",
              "0                                                   1.0   \n",
              "1                                                   0.0   \n",
              "2                                                   0.0   \n",
              "3                                                   0.0   \n",
              "4                                                   0.0   \n",
              "...                                                 ...   \n",
              "5629                                                0.0   \n",
              "5630                                                1.0   \n",
              "5631                                                0.0   \n",
              "5632                                                0.0   \n",
              "5633                                                0.0   \n",
              "\n",
              "      onehotencoder__OnlineSecurity_Yes  \\\n",
              "0                                   0.0   \n",
              "1                                   1.0   \n",
              "2                                   1.0   \n",
              "3                                   1.0   \n",
              "4                                   1.0   \n",
              "...                                 ...   \n",
              "5629                                0.0   \n",
              "5630                                0.0   \n",
              "5631                                0.0   \n",
              "5632                                0.0   \n",
              "5633                                1.0   \n",
              "\n",
              "      onehotencoder__OnlineBackup_No internet service  ...  \\\n",
              "0                                                 1.0  ...   \n",
              "1                                                 0.0  ...   \n",
              "2                                                 0.0  ...   \n",
              "3                                                 0.0  ...   \n",
              "4                                                 0.0  ...   \n",
              "...                                               ...  ...   \n",
              "5629                                              0.0  ...   \n",
              "5630                                              1.0  ...   \n",
              "5631                                              0.0  ...   \n",
              "5632                                              0.0  ...   \n",
              "5633                                              0.0  ...   \n",
              "\n",
              "      onehotencoder__StreamingMovies_No internet service  \\\n",
              "0                                                   1.0    \n",
              "1                                                   0.0    \n",
              "2                                                   0.0    \n",
              "3                                                   0.0    \n",
              "4                                                   0.0    \n",
              "...                                                 ...    \n",
              "5629                                                0.0    \n",
              "5630                                                1.0    \n",
              "5631                                                0.0    \n",
              "5632                                                0.0    \n",
              "5633                                                0.0    \n",
              "\n",
              "      onehotencoder__StreamingMovies_Yes  onehotencoder__Contract_One year  \\\n",
              "0                                    0.0                               0.0   \n",
              "1                                    1.0                               1.0   \n",
              "2                                    0.0                               0.0   \n",
              "3                                    1.0                               1.0   \n",
              "4                                    0.0                               1.0   \n",
              "...                                  ...                               ...   \n",
              "5629                                 1.0                               0.0   \n",
              "5630                                 0.0                               0.0   \n",
              "5631                                 1.0                               0.0   \n",
              "5632                                 0.0                               0.0   \n",
              "5633                                 1.0                               0.0   \n",
              "\n",
              "      onehotencoder__Contract_Two year  onehotencoder__PaperlessBilling_Yes  \\\n",
              "0                                  1.0                                  0.0   \n",
              "1                                  0.0                                  0.0   \n",
              "2                                  1.0                                  0.0   \n",
              "3                                  0.0                                  0.0   \n",
              "4                                  0.0                                  0.0   \n",
              "...                                ...                                  ...   \n",
              "5629                               0.0                                  1.0   \n",
              "5630                               1.0                                  0.0   \n",
              "5631                               0.0                                  1.0   \n",
              "5632                               0.0                                  1.0   \n",
              "5633                               1.0                                  0.0   \n",
              "\n",
              "      onehotencoder__PaymentMethod_Credit card (automatic)  \\\n",
              "0                                                   0.0      \n",
              "1                                                   1.0      \n",
              "2                                                   0.0      \n",
              "3                                                   0.0      \n",
              "4                                                   0.0      \n",
              "...                                                 ...      \n",
              "5629                                                0.0      \n",
              "5630                                                0.0      \n",
              "5631                                                0.0      \n",
              "5632                                                0.0      \n",
              "5633                                                0.0      \n",
              "\n",
              "      onehotencoder__PaymentMethod_Electronic check  \\\n",
              "0                                               0.0   \n",
              "1                                               0.0   \n",
              "2                                               0.0   \n",
              "3                                               1.0   \n",
              "4                                               1.0   \n",
              "...                                             ...   \n",
              "5629                                            1.0   \n",
              "5630                                            0.0   \n",
              "5631                                            1.0   \n",
              "5632                                            0.0   \n",
              "5633                                            0.0   \n",
              "\n",
              "      onehotencoder__PaymentMethod_Mailed check  robustscaler__tenure  \\\n",
              "0                                           1.0             -0.369565   \n",
              "1                                           0.0              0.282609   \n",
              "2                                           0.0              0.913043   \n",
              "3                                           0.0              0.913043   \n",
              "4                                           0.0              0.021739   \n",
              "...                                         ...                   ...   \n",
              "5629                                        0.0             -0.434783   \n",
              "5630                                        1.0              0.673913   \n",
              "5631                                        0.0             -0.021739   \n",
              "5632                                        1.0             -0.586957   \n",
              "5633                                        0.0             -0.282609   \n",
              "\n",
              "      robustscaler__MonthlyCharges  \n",
              "0                        -0.930670  \n",
              "1                         0.064738  \n",
              "2                        -0.095960  \n",
              "3                         0.276860  \n",
              "4                         0.000459  \n",
              "...                            ...  \n",
              "5629                      0.553260  \n",
              "5630                     -0.926079  \n",
              "5631                      0.648760  \n",
              "5632                     -0.293388  \n",
              "5633                     -0.039027  \n",
              "\n",
              "[5634 rows x 27 columns]"
            ],
            "text/html": [
              "\n",
              "  <div id=\"df-af4bf2a1-cc31-4c58-9013-95b2e4bac888\">\n",
              "    <div class=\"colab-df-container\">\n",
              "      <div>\n",
              "<style scoped>\n",
              "    .dataframe tbody tr th:only-of-type {\n",
              "        vertical-align: middle;\n",
              "    }\n",
              "\n",
              "    .dataframe tbody tr th {\n",
              "        vertical-align: top;\n",
              "    }\n",
              "\n",
              "    .dataframe thead th {\n",
              "        text-align: right;\n",
              "    }\n",
              "</style>\n",
              "<table border=\"1\" class=\"dataframe\">\n",
              "  <thead>\n",
              "    <tr style=\"text-align: right;\">\n",
              "      <th></th>\n",
              "      <th>onehotencoder__SeniorCitizen_1</th>\n",
              "      <th>onehotencoder__Dependents_Yes</th>\n",
              "      <th>onehotencoder__PhoneService_Yes</th>\n",
              "      <th>onehotencoder__MultipleLines_No phone service</th>\n",
              "      <th>onehotencoder__MultipleLines_Yes</th>\n",
              "      <th>onehotencoder__InternetService_Fiber optic</th>\n",
              "      <th>onehotencoder__InternetService_No</th>\n",
              "      <th>onehotencoder__OnlineSecurity_No internet service</th>\n",
              "      <th>onehotencoder__OnlineSecurity_Yes</th>\n",
              "      <th>onehotencoder__OnlineBackup_No internet service</th>\n",
              "      <th>...</th>\n",
              "      <th>onehotencoder__StreamingMovies_No internet service</th>\n",
              "      <th>onehotencoder__StreamingMovies_Yes</th>\n",
              "      <th>onehotencoder__Contract_One year</th>\n",
              "      <th>onehotencoder__Contract_Two year</th>\n",
              "      <th>onehotencoder__PaperlessBilling_Yes</th>\n",
              "      <th>onehotencoder__PaymentMethod_Credit card (automatic)</th>\n",
              "      <th>onehotencoder__PaymentMethod_Electronic check</th>\n",
              "      <th>onehotencoder__PaymentMethod_Mailed check</th>\n",
              "      <th>robustscaler__tenure</th>\n",
              "      <th>robustscaler__MonthlyCharges</th>\n",
              "    </tr>\n",
              "  </thead>\n",
              "  <tbody>\n",
              "    <tr>\n",
              "      <th>0</th>\n",
              "      <td>0.0</td>\n",
              "      <td>1.0</td>\n",
              "      <td>1.0</td>\n",
              "      <td>0.0</td>\n",
              "      <td>0.0</td>\n",
              "      <td>0.0</td>\n",
              "      <td>1.0</td>\n",
              "      <td>1.0</td>\n",
              "      <td>0.0</td>\n",
              "      <td>1.0</td>\n",
              "      <td>...</td>\n",
              "      <td>1.0</td>\n",
              "      <td>0.0</td>\n",
              "      <td>0.0</td>\n",
              "      <td>1.0</td>\n",
              "      <td>0.0</td>\n",
              "      <td>0.0</td>\n",
              "      <td>0.0</td>\n",
              "      <td>1.0</td>\n",
              "      <td>-0.369565</td>\n",
              "      <td>-0.930670</td>\n",
              "    </tr>\n",
              "    <tr>\n",
              "      <th>1</th>\n",
              "      <td>0.0</td>\n",
              "      <td>0.0</td>\n",
              "      <td>1.0</td>\n",
              "      <td>0.0</td>\n",
              "      <td>0.0</td>\n",
              "      <td>0.0</td>\n",
              "      <td>0.0</td>\n",
              "      <td>0.0</td>\n",
              "      <td>1.0</td>\n",
              "      <td>0.0</td>\n",
              "      <td>...</td>\n",
              "      <td>0.0</td>\n",
              "      <td>1.0</td>\n",
              "      <td>1.0</td>\n",
              "      <td>0.0</td>\n",
              "      <td>0.0</td>\n",
              "      <td>1.0</td>\n",
              "      <td>0.0</td>\n",
              "      <td>0.0</td>\n",
              "      <td>0.282609</td>\n",
              "      <td>0.064738</td>\n",
              "    </tr>\n",
              "    <tr>\n",
              "      <th>2</th>\n",
              "      <td>0.0</td>\n",
              "      <td>0.0</td>\n",
              "      <td>1.0</td>\n",
              "      <td>0.0</td>\n",
              "      <td>1.0</td>\n",
              "      <td>0.0</td>\n",
              "      <td>0.0</td>\n",
              "      <td>0.0</td>\n",
              "      <td>1.0</td>\n",
              "      <td>0.0</td>\n",
              "      <td>...</td>\n",
              "      <td>0.0</td>\n",
              "      <td>0.0</td>\n",
              "      <td>0.0</td>\n",
              "      <td>1.0</td>\n",
              "      <td>0.0</td>\n",
              "      <td>0.0</td>\n",
              "      <td>0.0</td>\n",
              "      <td>0.0</td>\n",
              "      <td>0.913043</td>\n",
              "      <td>-0.095960</td>\n",
              "    </tr>\n",
              "    <tr>\n",
              "      <th>3</th>\n",
              "      <td>0.0</td>\n",
              "      <td>1.0</td>\n",
              "      <td>1.0</td>\n",
              "      <td>0.0</td>\n",
              "      <td>1.0</td>\n",
              "      <td>0.0</td>\n",
              "      <td>0.0</td>\n",
              "      <td>0.0</td>\n",
              "      <td>1.0</td>\n",
              "      <td>0.0</td>\n",
              "      <td>...</td>\n",
              "      <td>0.0</td>\n",
              "      <td>1.0</td>\n",
              "      <td>1.0</td>\n",
              "      <td>0.0</td>\n",
              "      <td>0.0</td>\n",
              "      <td>0.0</td>\n",
              "      <td>1.0</td>\n",
              "      <td>0.0</td>\n",
              "      <td>0.913043</td>\n",
              "      <td>0.276860</td>\n",
              "    </tr>\n",
              "    <tr>\n",
              "      <th>4</th>\n",
              "      <td>0.0</td>\n",
              "      <td>0.0</td>\n",
              "      <td>1.0</td>\n",
              "      <td>0.0</td>\n",
              "      <td>0.0</td>\n",
              "      <td>0.0</td>\n",
              "      <td>0.0</td>\n",
              "      <td>0.0</td>\n",
              "      <td>1.0</td>\n",
              "      <td>0.0</td>\n",
              "      <td>...</td>\n",
              "      <td>0.0</td>\n",
              "      <td>0.0</td>\n",
              "      <td>1.0</td>\n",
              "      <td>0.0</td>\n",
              "      <td>0.0</td>\n",
              "      <td>0.0</td>\n",
              "      <td>1.0</td>\n",
              "      <td>0.0</td>\n",
              "      <td>0.021739</td>\n",
              "      <td>0.000459</td>\n",
              "    </tr>\n",
              "    <tr>\n",
              "      <th>...</th>\n",
              "      <td>...</td>\n",
              "      <td>...</td>\n",
              "      <td>...</td>\n",
              "      <td>...</td>\n",
              "      <td>...</td>\n",
              "      <td>...</td>\n",
              "      <td>...</td>\n",
              "      <td>...</td>\n",
              "      <td>...</td>\n",
              "      <td>...</td>\n",
              "      <td>...</td>\n",
              "      <td>...</td>\n",
              "      <td>...</td>\n",
              "      <td>...</td>\n",
              "      <td>...</td>\n",
              "      <td>...</td>\n",
              "      <td>...</td>\n",
              "      <td>...</td>\n",
              "      <td>...</td>\n",
              "      <td>...</td>\n",
              "      <td>...</td>\n",
              "    </tr>\n",
              "    <tr>\n",
              "      <th>5629</th>\n",
              "      <td>1.0</td>\n",
              "      <td>0.0</td>\n",
              "      <td>1.0</td>\n",
              "      <td>0.0</td>\n",
              "      <td>1.0</td>\n",
              "      <td>1.0</td>\n",
              "      <td>0.0</td>\n",
              "      <td>0.0</td>\n",
              "      <td>0.0</td>\n",
              "      <td>0.0</td>\n",
              "      <td>...</td>\n",
              "      <td>0.0</td>\n",
              "      <td>1.0</td>\n",
              "      <td>0.0</td>\n",
              "      <td>0.0</td>\n",
              "      <td>1.0</td>\n",
              "      <td>0.0</td>\n",
              "      <td>1.0</td>\n",
              "      <td>0.0</td>\n",
              "      <td>-0.434783</td>\n",
              "      <td>0.553260</td>\n",
              "    </tr>\n",
              "    <tr>\n",
              "      <th>5630</th>\n",
              "      <td>0.0</td>\n",
              "      <td>1.0</td>\n",
              "      <td>1.0</td>\n",
              "      <td>0.0</td>\n",
              "      <td>0.0</td>\n",
              "      <td>0.0</td>\n",
              "      <td>1.0</td>\n",
              "      <td>1.0</td>\n",
              "      <td>0.0</td>\n",
              "      <td>1.0</td>\n",
              "      <td>...</td>\n",
              "      <td>1.0</td>\n",
              "      <td>0.0</td>\n",
              "      <td>0.0</td>\n",
              "      <td>1.0</td>\n",
              "      <td>0.0</td>\n",
              "      <td>0.0</td>\n",
              "      <td>0.0</td>\n",
              "      <td>1.0</td>\n",
              "      <td>0.673913</td>\n",
              "      <td>-0.926079</td>\n",
              "    </tr>\n",
              "    <tr>\n",
              "      <th>5631</th>\n",
              "      <td>0.0</td>\n",
              "      <td>0.0</td>\n",
              "      <td>1.0</td>\n",
              "      <td>0.0</td>\n",
              "      <td>1.0</td>\n",
              "      <td>1.0</td>\n",
              "      <td>0.0</td>\n",
              "      <td>0.0</td>\n",
              "      <td>0.0</td>\n",
              "      <td>0.0</td>\n",
              "      <td>...</td>\n",
              "      <td>0.0</td>\n",
              "      <td>1.0</td>\n",
              "      <td>0.0</td>\n",
              "      <td>0.0</td>\n",
              "      <td>1.0</td>\n",
              "      <td>0.0</td>\n",
              "      <td>1.0</td>\n",
              "      <td>0.0</td>\n",
              "      <td>-0.021739</td>\n",
              "      <td>0.648760</td>\n",
              "    </tr>\n",
              "    <tr>\n",
              "      <th>5632</th>\n",
              "      <td>0.0</td>\n",
              "      <td>0.0</td>\n",
              "      <td>1.0</td>\n",
              "      <td>0.0</td>\n",
              "      <td>1.0</td>\n",
              "      <td>0.0</td>\n",
              "      <td>0.0</td>\n",
              "      <td>0.0</td>\n",
              "      <td>0.0</td>\n",
              "      <td>0.0</td>\n",
              "      <td>...</td>\n",
              "      <td>0.0</td>\n",
              "      <td>0.0</td>\n",
              "      <td>0.0</td>\n",
              "      <td>0.0</td>\n",
              "      <td>1.0</td>\n",
              "      <td>0.0</td>\n",
              "      <td>0.0</td>\n",
              "      <td>1.0</td>\n",
              "      <td>-0.586957</td>\n",
              "      <td>-0.293388</td>\n",
              "    </tr>\n",
              "    <tr>\n",
              "      <th>5633</th>\n",
              "      <td>0.0</td>\n",
              "      <td>1.0</td>\n",
              "      <td>1.0</td>\n",
              "      <td>0.0</td>\n",
              "      <td>0.0</td>\n",
              "      <td>0.0</td>\n",
              "      <td>0.0</td>\n",
              "      <td>0.0</td>\n",
              "      <td>1.0</td>\n",
              "      <td>0.0</td>\n",
              "      <td>...</td>\n",
              "      <td>0.0</td>\n",
              "      <td>1.0</td>\n",
              "      <td>0.0</td>\n",
              "      <td>1.0</td>\n",
              "      <td>0.0</td>\n",
              "      <td>0.0</td>\n",
              "      <td>0.0</td>\n",
              "      <td>0.0</td>\n",
              "      <td>-0.282609</td>\n",
              "      <td>-0.039027</td>\n",
              "    </tr>\n",
              "  </tbody>\n",
              "</table>\n",
              "<p>5634 rows × 27 columns</p>\n",
              "</div>\n",
              "      <button class=\"colab-df-convert\" onclick=\"convertToInteractive('df-af4bf2a1-cc31-4c58-9013-95b2e4bac888')\"\n",
              "              title=\"Convert this dataframe to an interactive table.\"\n",
              "              style=\"display:none;\">\n",
              "        \n",
              "  <svg xmlns=\"http://www.w3.org/2000/svg\" height=\"24px\"viewBox=\"0 0 24 24\"\n",
              "       width=\"24px\">\n",
              "    <path d=\"M0 0h24v24H0V0z\" fill=\"none\"/>\n",
              "    <path d=\"M18.56 5.44l.94 2.06.94-2.06 2.06-.94-2.06-.94-.94-2.06-.94 2.06-2.06.94zm-11 1L8.5 8.5l.94-2.06 2.06-.94-2.06-.94L8.5 2.5l-.94 2.06-2.06.94zm10 10l.94 2.06.94-2.06 2.06-.94-2.06-.94-.94-2.06-.94 2.06-2.06.94z\"/><path d=\"M17.41 7.96l-1.37-1.37c-.4-.4-.92-.59-1.43-.59-.52 0-1.04.2-1.43.59L10.3 9.45l-7.72 7.72c-.78.78-.78 2.05 0 2.83L4 21.41c.39.39.9.59 1.41.59.51 0 1.02-.2 1.41-.59l7.78-7.78 2.81-2.81c.8-.78.8-2.07 0-2.86zM5.41 20L4 18.59l7.72-7.72 1.47 1.35L5.41 20z\"/>\n",
              "  </svg>\n",
              "      </button>\n",
              "      \n",
              "  <style>\n",
              "    .colab-df-container {\n",
              "      display:flex;\n",
              "      flex-wrap:wrap;\n",
              "      gap: 12px;\n",
              "    }\n",
              "\n",
              "    .colab-df-convert {\n",
              "      background-color: #E8F0FE;\n",
              "      border: none;\n",
              "      border-radius: 50%;\n",
              "      cursor: pointer;\n",
              "      display: none;\n",
              "      fill: #1967D2;\n",
              "      height: 32px;\n",
              "      padding: 0 0 0 0;\n",
              "      width: 32px;\n",
              "    }\n",
              "\n",
              "    .colab-df-convert:hover {\n",
              "      background-color: #E2EBFA;\n",
              "      box-shadow: 0px 1px 2px rgba(60, 64, 67, 0.3), 0px 1px 3px 1px rgba(60, 64, 67, 0.15);\n",
              "      fill: #174EA6;\n",
              "    }\n",
              "\n",
              "    [theme=dark] .colab-df-convert {\n",
              "      background-color: #3B4455;\n",
              "      fill: #D2E3FC;\n",
              "    }\n",
              "\n",
              "    [theme=dark] .colab-df-convert:hover {\n",
              "      background-color: #434B5C;\n",
              "      box-shadow: 0px 1px 3px 1px rgba(0, 0, 0, 0.15);\n",
              "      filter: drop-shadow(0px 1px 2px rgba(0, 0, 0, 0.3));\n",
              "      fill: #FFFFFF;\n",
              "    }\n",
              "  </style>\n",
              "\n",
              "      <script>\n",
              "        const buttonEl =\n",
              "          document.querySelector('#df-af4bf2a1-cc31-4c58-9013-95b2e4bac888 button.colab-df-convert');\n",
              "        buttonEl.style.display =\n",
              "          google.colab.kernel.accessAllowed ? 'block' : 'none';\n",
              "\n",
              "        async function convertToInteractive(key) {\n",
              "          const element = document.querySelector('#df-af4bf2a1-cc31-4c58-9013-95b2e4bac888');\n",
              "          const dataTable =\n",
              "            await google.colab.kernel.invokeFunction('convertToInteractive',\n",
              "                                                     [key], {});\n",
              "          if (!dataTable) return;\n",
              "\n",
              "          const docLinkHtml = 'Like what you see? Visit the ' +\n",
              "            '<a target=\"_blank\" href=https://colab.research.google.com/notebooks/data_table.ipynb>data table notebook</a>'\n",
              "            + ' to learn more about interactive tables.';\n",
              "          element.innerHTML = '';\n",
              "          dataTable['output_type'] = 'display_data';\n",
              "          await google.colab.output.renderOutput(dataTable, element);\n",
              "          const docLink = document.createElement('div');\n",
              "          docLink.innerHTML = docLinkHtml;\n",
              "          element.appendChild(docLink);\n",
              "        }\n",
              "      </script>\n",
              "    </div>\n",
              "  </div>\n",
              "  "
            ]
          },
          "metadata": {},
          "execution_count": 58
        }
      ]
    },
    {
      "cell_type": "code",
      "source": [
        "\n",
        "data1=data.copy()\n",
        "data1=pd.get_dummies(data1,drop_first=True)\n",
        "sns.heatmap(data1.corr())"
      ],
      "metadata": {
        "id": "n1b7zNKm4jbM"
      },
      "execution_count": null,
      "outputs": []
    },
    {
      "cell_type": "markdown",
      "source": [
        "# **9. Dump Model using Pickle**"
      ],
      "metadata": {
        "id": "e-4tOEzl4qWK"
      }
    },
    {
      "cell_type": "code",
      "source": [
        "import pickle\n",
        "\n",
        "##dump the model into a file\n",
        "with open(\"/content/drive/MyDrive/Colab Notebooks/ModelBin/TeleChurn_model.pkl\", 'wb') as f_out:\n",
        "    pickle.dump(pipe, f_out) # write final_model in .bin file\n",
        "    f_out.close()  # close the file "
      ],
      "metadata": {
        "id": "tiJYJrVV4ugq"
      },
      "execution_count": 52,
      "outputs": []
    },
    {
      "cell_type": "markdown",
      "source": [
        "# **10. Load Model using Pickle and Predict Output**"
      ],
      "metadata": {
        "id": "iEX3FkoeSWps"
      }
    },
    {
      "cell_type": "code",
      "source": [
        "##loading the model from the saved file\n",
        "with open('/content/drive/MyDrive/Colab Notebooks/ModelBin/TeleChurn_model.pkl', 'rb') as f_in:\n",
        "    model = pickle.load(f_in)\n",
        "\n",
        "##Predict\n",
        "dataValidation_pred=model.predict(dataValidation)\n",
        "print(dataValidation_pred)\n",
        "\n",
        "submission = pd.DataFrame({'Id':dataValidationId,'Drug':dataValidation_pred})\n",
        "from google.colab import files\n",
        "submission.to_csv('submission.csv', encoding = 'utf-8-sig',index=False,header=False) \n",
        "files.download('submission.csv')"
      ],
      "metadata": {
        "colab": {
          "base_uri": "https://localhost:8080/",
          "height": 34
        },
        "id": "R8F-jPLG9O9k",
        "outputId": "3abd84ce-3186-41e6-b111-09a1195101b8"
      },
      "execution_count": 54,
      "outputs": [
        {
          "output_type": "stream",
          "name": "stdout",
          "text": [
            "['No' 'No' 'No' ... 'No' 'No' 'Yes']\n"
          ]
        },
        {
          "output_type": "display_data",
          "data": {
            "text/plain": [
              "<IPython.core.display.Javascript object>"
            ],
            "application/javascript": [
              "\n",
              "    async function download(id, filename, size) {\n",
              "      if (!google.colab.kernel.accessAllowed) {\n",
              "        return;\n",
              "      }\n",
              "      const div = document.createElement('div');\n",
              "      const label = document.createElement('label');\n",
              "      label.textContent = `Downloading \"${filename}\": `;\n",
              "      div.appendChild(label);\n",
              "      const progress = document.createElement('progress');\n",
              "      progress.max = size;\n",
              "      div.appendChild(progress);\n",
              "      document.body.appendChild(div);\n",
              "\n",
              "      const buffers = [];\n",
              "      let downloaded = 0;\n",
              "\n",
              "      const channel = await google.colab.kernel.comms.open(id);\n",
              "      // Send a message to notify the kernel that we're ready.\n",
              "      channel.send({})\n",
              "\n",
              "      for await (const message of channel.messages) {\n",
              "        // Send a message to notify the kernel that we're ready.\n",
              "        channel.send({})\n",
              "        if (message.buffers) {\n",
              "          for (const buffer of message.buffers) {\n",
              "            buffers.push(buffer);\n",
              "            downloaded += buffer.byteLength;\n",
              "            progress.value = downloaded;\n",
              "          }\n",
              "        }\n",
              "      }\n",
              "      const blob = new Blob(buffers, {type: 'application/binary'});\n",
              "      const a = document.createElement('a');\n",
              "      a.href = window.URL.createObjectURL(blob);\n",
              "      a.download = filename;\n",
              "      div.appendChild(a);\n",
              "      a.click();\n",
              "      div.remove();\n",
              "    }\n",
              "  "
            ]
          },
          "metadata": {}
        },
        {
          "output_type": "display_data",
          "data": {
            "text/plain": [
              "<IPython.core.display.Javascript object>"
            ],
            "application/javascript": [
              "download(\"download_6192053a-e3ec-4c79-8a55-c5b762b8675a\", \"submission.csv\", 20049)"
            ]
          },
          "metadata": {}
        }
      ]
    }
  ],
  "metadata": {
    "colab": {
      "collapsed_sections": [],
      "name": "TelecomChurn.ipynb",
      "provenance": [],
      "toc_visible": true,
      "mount_file_id": "1aC92Aayq6SXXy81wAIfei2F0PcH33QiP",
      "authorship_tag": "ABX9TyPXhFf9US+D66YDvkW5fjMk",
      "include_colab_link": true
    },
    "kernelspec": {
      "display_name": "Python 3",
      "name": "python3"
    },
    "language_info": {
      "name": "python"
    }
  },
  "nbformat": 4,
  "nbformat_minor": 0
}