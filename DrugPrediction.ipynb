{
  "cells": [
    {
      "cell_type": "markdown",
      "metadata": {
        "id": "view-in-github",
        "colab_type": "text"
      },
      "source": [
        "<a href=\"https://colab.research.google.com/github/anujapande2001/MLProjects/blob/main/DrugPrediction.ipynb\" target=\"_parent\"><img src=\"https://colab.research.google.com/assets/colab-badge.svg\" alt=\"Open In Colab\"/></a>"
      ]
    },
    {
      "cell_type": "markdown",
      "metadata": {
        "id": "mbUUyyvXnlqa"
      },
      "source": [
        "# **Flight-Passengers-Satisfaction**"
      ]
    },
    {
      "cell_type": "markdown",
      "metadata": {
        "id": "O-T2JEoL3CKD"
      },
      "source": [
        "# **1. Introduction**\n",
        "\n",
        "\n",
        "**Your client for this project is an Airline Company.**\n",
        "\n",
        "\n",
        "*   Due to **fierce** competition in the airline industry, the airline company needs to focus on the passenger’s experience and satisfaction.\n",
        "*   **Customer feedback**, in particular, is critical since it is an outcome **measurement** for business performance.\n",
        "\n",
        "\n",
        "\n",
        "*   So, they need to analyze the data of the passenger's travel history.\n",
        "One of the key measurements in this process is whether the passenger feels satisfied or not.\n",
        "*   Current Scenario: \n",
        "Currently, they have a manual process to analyze the customer satisfaction based on the number of feedback and complaint mail that they receive.\n",
        "\n"
      ]
    },
    {
      "cell_type": "markdown",
      "metadata": {
        "id": "WWzmoQQbv5Ks"
      },
      "source": [
        "# **2. Problem Statement**\n",
        "**The current process suffers from the following problems:**\n",
        "\n",
        "*   Analyzing the data of passengers manually and to understand whether a passenger is satisfied or not is a tedious task.\n",
        "*   This process needs to be repeated every time they receive some feedback.\n",
        "\n",
        "The company has hired you as data science consultants.\n",
        "\n",
        "They want to **automate** the process of **predicting** the passenger satisfaction based on the travel history data collected by the airline company.\n",
        "\n",
        "**Your Role**\n",
        "*   You are given a dataset containing the answer of different questions asked as the feedback.\n",
        "*   Your task is to build a classification model using the dataset.\n",
        "*   Because there was no machine learning model for this problem in the company, you don’t have a quantifiable win condition. You need to build the best possible model.\n"
      ]
    },
    {
      "cell_type": "markdown",
      "metadata": {
        "id": "ZSi_m9jinvW6"
      },
      "source": [
        "# **3. Import Libraries**"
      ]
    },
    {
      "cell_type": "code",
      "execution_count": 63,
      "metadata": {
        "id": "ep7ACXYQoYxW"
      },
      "outputs": [],
      "source": [
        "import numpy as np\n",
        "import pandas as pd\n",
        "from pandas_profiling import ProfileReport \n",
        "import matplotlib.pyplot as plt\n",
        "%matplotlib inline\n",
        "import seaborn as sns\n",
        "from sklearn.preprocessing import LabelEncoder, MinMaxScaler, StandardScaler,RobustScaler\n",
        "from sklearn.linear_model import LogisticRegression\n",
        "from sklearn.tree import DecisionTreeClassifier\n",
        "from sklearn.ensemble import RandomForestClassifier\n",
        "from sklearn.model_selection import train_test_split\n",
        "from sklearn.metrics import accuracy_score,confusion_matrix,f1_score,roc_curve,auc,classification_report\n",
        "from sklearn.impute import KNNImputer\n",
        "from sklearn.model_selection import GridSearchCV, RandomizedSearchCV\n",
        "import warnings\n",
        "warnings.filterwarnings(action=\"ignore\")"
      ]
    },
    {
      "cell_type": "markdown",
      "metadata": {
        "id": "9wyH0OUkqx_K"
      },
      "source": [
        "# **4. Data Acquisition & Description**"
      ]
    },
    {
      "cell_type": "code",
      "execution_count": 64,
      "metadata": {
        "colab": {
          "base_uri": "https://localhost:8080/",
          "height": 206
        },
        "id": "TdzuCZajq2h3",
        "outputId": "4380c900-759a-4ee1-8946-12e2e0550520"
      },
      "outputs": [
        {
          "output_type": "execute_result",
          "data": {
            "text/plain": [
              "    Id  Age Sex      BP Cholesterol  Na_to_K   Drug\n",
              "0   79   32   F     LOW      NORMAL   10.840  drugX\n",
              "1  197   52   M  NORMAL        HIGH    9.894  drugX\n",
              "2   38   39   F  NORMAL      NORMAL    9.709  drugX\n",
              "3   24   33   F     LOW        HIGH   33.486  DrugY\n",
              "4  122   34   M  NORMAL        HIGH   22.456  DrugY"
            ],
            "text/html": [
              "\n",
              "  <div id=\"df-6890d3e4-5e3b-480c-8dca-e86ca5295dec\">\n",
              "    <div class=\"colab-df-container\">\n",
              "      <div>\n",
              "<style scoped>\n",
              "    .dataframe tbody tr th:only-of-type {\n",
              "        vertical-align: middle;\n",
              "    }\n",
              "\n",
              "    .dataframe tbody tr th {\n",
              "        vertical-align: top;\n",
              "    }\n",
              "\n",
              "    .dataframe thead th {\n",
              "        text-align: right;\n",
              "    }\n",
              "</style>\n",
              "<table border=\"1\" class=\"dataframe\">\n",
              "  <thead>\n",
              "    <tr style=\"text-align: right;\">\n",
              "      <th></th>\n",
              "      <th>Id</th>\n",
              "      <th>Age</th>\n",
              "      <th>Sex</th>\n",
              "      <th>BP</th>\n",
              "      <th>Cholesterol</th>\n",
              "      <th>Na_to_K</th>\n",
              "      <th>Drug</th>\n",
              "    </tr>\n",
              "  </thead>\n",
              "  <tbody>\n",
              "    <tr>\n",
              "      <th>0</th>\n",
              "      <td>79</td>\n",
              "      <td>32</td>\n",
              "      <td>F</td>\n",
              "      <td>LOW</td>\n",
              "      <td>NORMAL</td>\n",
              "      <td>10.840</td>\n",
              "      <td>drugX</td>\n",
              "    </tr>\n",
              "    <tr>\n",
              "      <th>1</th>\n",
              "      <td>197</td>\n",
              "      <td>52</td>\n",
              "      <td>M</td>\n",
              "      <td>NORMAL</td>\n",
              "      <td>HIGH</td>\n",
              "      <td>9.894</td>\n",
              "      <td>drugX</td>\n",
              "    </tr>\n",
              "    <tr>\n",
              "      <th>2</th>\n",
              "      <td>38</td>\n",
              "      <td>39</td>\n",
              "      <td>F</td>\n",
              "      <td>NORMAL</td>\n",
              "      <td>NORMAL</td>\n",
              "      <td>9.709</td>\n",
              "      <td>drugX</td>\n",
              "    </tr>\n",
              "    <tr>\n",
              "      <th>3</th>\n",
              "      <td>24</td>\n",
              "      <td>33</td>\n",
              "      <td>F</td>\n",
              "      <td>LOW</td>\n",
              "      <td>HIGH</td>\n",
              "      <td>33.486</td>\n",
              "      <td>DrugY</td>\n",
              "    </tr>\n",
              "    <tr>\n",
              "      <th>4</th>\n",
              "      <td>122</td>\n",
              "      <td>34</td>\n",
              "      <td>M</td>\n",
              "      <td>NORMAL</td>\n",
              "      <td>HIGH</td>\n",
              "      <td>22.456</td>\n",
              "      <td>DrugY</td>\n",
              "    </tr>\n",
              "  </tbody>\n",
              "</table>\n",
              "</div>\n",
              "      <button class=\"colab-df-convert\" onclick=\"convertToInteractive('df-6890d3e4-5e3b-480c-8dca-e86ca5295dec')\"\n",
              "              title=\"Convert this dataframe to an interactive table.\"\n",
              "              style=\"display:none;\">\n",
              "        \n",
              "  <svg xmlns=\"http://www.w3.org/2000/svg\" height=\"24px\"viewBox=\"0 0 24 24\"\n",
              "       width=\"24px\">\n",
              "    <path d=\"M0 0h24v24H0V0z\" fill=\"none\"/>\n",
              "    <path d=\"M18.56 5.44l.94 2.06.94-2.06 2.06-.94-2.06-.94-.94-2.06-.94 2.06-2.06.94zm-11 1L8.5 8.5l.94-2.06 2.06-.94-2.06-.94L8.5 2.5l-.94 2.06-2.06.94zm10 10l.94 2.06.94-2.06 2.06-.94-2.06-.94-.94-2.06-.94 2.06-2.06.94z\"/><path d=\"M17.41 7.96l-1.37-1.37c-.4-.4-.92-.59-1.43-.59-.52 0-1.04.2-1.43.59L10.3 9.45l-7.72 7.72c-.78.78-.78 2.05 0 2.83L4 21.41c.39.39.9.59 1.41.59.51 0 1.02-.2 1.41-.59l7.78-7.78 2.81-2.81c.8-.78.8-2.07 0-2.86zM5.41 20L4 18.59l7.72-7.72 1.47 1.35L5.41 20z\"/>\n",
              "  </svg>\n",
              "      </button>\n",
              "      \n",
              "  <style>\n",
              "    .colab-df-container {\n",
              "      display:flex;\n",
              "      flex-wrap:wrap;\n",
              "      gap: 12px;\n",
              "    }\n",
              "\n",
              "    .colab-df-convert {\n",
              "      background-color: #E8F0FE;\n",
              "      border: none;\n",
              "      border-radius: 50%;\n",
              "      cursor: pointer;\n",
              "      display: none;\n",
              "      fill: #1967D2;\n",
              "      height: 32px;\n",
              "      padding: 0 0 0 0;\n",
              "      width: 32px;\n",
              "    }\n",
              "\n",
              "    .colab-df-convert:hover {\n",
              "      background-color: #E2EBFA;\n",
              "      box-shadow: 0px 1px 2px rgba(60, 64, 67, 0.3), 0px 1px 3px 1px rgba(60, 64, 67, 0.15);\n",
              "      fill: #174EA6;\n",
              "    }\n",
              "\n",
              "    [theme=dark] .colab-df-convert {\n",
              "      background-color: #3B4455;\n",
              "      fill: #D2E3FC;\n",
              "    }\n",
              "\n",
              "    [theme=dark] .colab-df-convert:hover {\n",
              "      background-color: #434B5C;\n",
              "      box-shadow: 0px 1px 3px 1px rgba(0, 0, 0, 0.15);\n",
              "      filter: drop-shadow(0px 1px 2px rgba(0, 0, 0, 0.3));\n",
              "      fill: #FFFFFF;\n",
              "    }\n",
              "  </style>\n",
              "\n",
              "      <script>\n",
              "        const buttonEl =\n",
              "          document.querySelector('#df-6890d3e4-5e3b-480c-8dca-e86ca5295dec button.colab-df-convert');\n",
              "        buttonEl.style.display =\n",
              "          google.colab.kernel.accessAllowed ? 'block' : 'none';\n",
              "\n",
              "        async function convertToInteractive(key) {\n",
              "          const element = document.querySelector('#df-6890d3e4-5e3b-480c-8dca-e86ca5295dec');\n",
              "          const dataTable =\n",
              "            await google.colab.kernel.invokeFunction('convertToInteractive',\n",
              "                                                     [key], {});\n",
              "          if (!dataTable) return;\n",
              "\n",
              "          const docLinkHtml = 'Like what you see? Visit the ' +\n",
              "            '<a target=\"_blank\" href=https://colab.research.google.com/notebooks/data_table.ipynb>data table notebook</a>'\n",
              "            + ' to learn more about interactive tables.';\n",
              "          element.innerHTML = '';\n",
              "          dataTable['output_type'] = 'display_data';\n",
              "          await google.colab.output.renderOutput(dataTable, element);\n",
              "          const docLink = document.createElement('div');\n",
              "          docLink.innerHTML = docLinkHtml;\n",
              "          element.appendChild(docLink);\n",
              "        }\n",
              "      </script>\n",
              "    </div>\n",
              "  </div>\n",
              "  "
            ]
          },
          "metadata": {},
          "execution_count": 64
        }
      ],
      "source": [
        "data=pd.read_csv(\"/content/drive/MyDrive/TermProjects/DrugPrediction/drug_train.csv\")\n",
        "dataValidation=pd.read_csv(\"/content/drive/MyDrive/TermProjects/DrugPrediction/drug_test.csv\")\n",
        "data.head()\n"
      ]
    },
    {
      "cell_type": "markdown",
      "metadata": {
        "id": "-P_YkAAs0Ts7"
      },
      "source": [
        "### **4.1 Data Information**\n",
        "\n",
        "- In this section we will see the **information about the types of the features**.\n",
        "\n",
        "\n"
      ]
    },
    {
      "cell_type": "code",
      "execution_count": 65,
      "metadata": {
        "colab": {
          "base_uri": "https://localhost:8080/"
        },
        "id": "pZX6dan9TsSm",
        "outputId": "0d7a4d3d-eae4-4955-b602-dc90eb032d28"
      },
      "outputs": [
        {
          "output_type": "stream",
          "name": "stdout",
          "text": [
            "<class 'pandas.core.frame.DataFrame'>\n",
            "RangeIndex: 160 entries, 0 to 159\n",
            "Data columns (total 7 columns):\n",
            " #   Column       Non-Null Count  Dtype  \n",
            "---  ------       --------------  -----  \n",
            " 0   Id           160 non-null    int64  \n",
            " 1   Age          160 non-null    int64  \n",
            " 2   Sex          160 non-null    object \n",
            " 3   BP           160 non-null    object \n",
            " 4   Cholesterol  160 non-null    object \n",
            " 5   Na_to_K      160 non-null    float64\n",
            " 6   Drug         160 non-null    object \n",
            "dtypes: float64(1), int64(2), object(4)\n",
            "memory usage: 8.9+ KB\n"
          ]
        }
      ],
      "source": [
        "data.info()"
      ]
    },
    {
      "cell_type": "markdown",
      "metadata": {
        "id": "ffH6aWZFwxn6"
      },
      "source": [
        "### **4.2 Data Description**\n",
        "\n",
        "- In this section we will get **information about the data** and see some observations."
      ]
    },
    {
      "cell_type": "code",
      "execution_count": 66,
      "metadata": {
        "colab": {
          "base_uri": "https://localhost:8080/",
          "height": 300
        },
        "id": "Wx9bXdwJXlcH",
        "outputId": "9bb0d0df-17f8-4e85-f1d9-f6994c046ce9"
      },
      "outputs": [
        {
          "output_type": "execute_result",
          "data": {
            "text/plain": [
              "               Id         Age     Na_to_K\n",
              "count  160.000000  160.000000  160.000000\n",
              "mean    99.075000   45.387500   16.194988\n",
              "std     59.374894   16.101481    7.254689\n",
              "min      0.000000   15.000000    6.269000\n",
              "25%     45.500000   32.000000   10.445250\n",
              "50%    100.500000   46.000000   14.076500\n",
              "75%    149.500000   58.250000   19.480750\n",
              "max    199.000000   74.000000   38.247000"
            ],
            "text/html": [
              "\n",
              "  <div id=\"df-d7b90034-4da1-4bfb-9fc3-9c6c7577adc0\">\n",
              "    <div class=\"colab-df-container\">\n",
              "      <div>\n",
              "<style scoped>\n",
              "    .dataframe tbody tr th:only-of-type {\n",
              "        vertical-align: middle;\n",
              "    }\n",
              "\n",
              "    .dataframe tbody tr th {\n",
              "        vertical-align: top;\n",
              "    }\n",
              "\n",
              "    .dataframe thead th {\n",
              "        text-align: right;\n",
              "    }\n",
              "</style>\n",
              "<table border=\"1\" class=\"dataframe\">\n",
              "  <thead>\n",
              "    <tr style=\"text-align: right;\">\n",
              "      <th></th>\n",
              "      <th>Id</th>\n",
              "      <th>Age</th>\n",
              "      <th>Na_to_K</th>\n",
              "    </tr>\n",
              "  </thead>\n",
              "  <tbody>\n",
              "    <tr>\n",
              "      <th>count</th>\n",
              "      <td>160.000000</td>\n",
              "      <td>160.000000</td>\n",
              "      <td>160.000000</td>\n",
              "    </tr>\n",
              "    <tr>\n",
              "      <th>mean</th>\n",
              "      <td>99.075000</td>\n",
              "      <td>45.387500</td>\n",
              "      <td>16.194988</td>\n",
              "    </tr>\n",
              "    <tr>\n",
              "      <th>std</th>\n",
              "      <td>59.374894</td>\n",
              "      <td>16.101481</td>\n",
              "      <td>7.254689</td>\n",
              "    </tr>\n",
              "    <tr>\n",
              "      <th>min</th>\n",
              "      <td>0.000000</td>\n",
              "      <td>15.000000</td>\n",
              "      <td>6.269000</td>\n",
              "    </tr>\n",
              "    <tr>\n",
              "      <th>25%</th>\n",
              "      <td>45.500000</td>\n",
              "      <td>32.000000</td>\n",
              "      <td>10.445250</td>\n",
              "    </tr>\n",
              "    <tr>\n",
              "      <th>50%</th>\n",
              "      <td>100.500000</td>\n",
              "      <td>46.000000</td>\n",
              "      <td>14.076500</td>\n",
              "    </tr>\n",
              "    <tr>\n",
              "      <th>75%</th>\n",
              "      <td>149.500000</td>\n",
              "      <td>58.250000</td>\n",
              "      <td>19.480750</td>\n",
              "    </tr>\n",
              "    <tr>\n",
              "      <th>max</th>\n",
              "      <td>199.000000</td>\n",
              "      <td>74.000000</td>\n",
              "      <td>38.247000</td>\n",
              "    </tr>\n",
              "  </tbody>\n",
              "</table>\n",
              "</div>\n",
              "      <button class=\"colab-df-convert\" onclick=\"convertToInteractive('df-d7b90034-4da1-4bfb-9fc3-9c6c7577adc0')\"\n",
              "              title=\"Convert this dataframe to an interactive table.\"\n",
              "              style=\"display:none;\">\n",
              "        \n",
              "  <svg xmlns=\"http://www.w3.org/2000/svg\" height=\"24px\"viewBox=\"0 0 24 24\"\n",
              "       width=\"24px\">\n",
              "    <path d=\"M0 0h24v24H0V0z\" fill=\"none\"/>\n",
              "    <path d=\"M18.56 5.44l.94 2.06.94-2.06 2.06-.94-2.06-.94-.94-2.06-.94 2.06-2.06.94zm-11 1L8.5 8.5l.94-2.06 2.06-.94-2.06-.94L8.5 2.5l-.94 2.06-2.06.94zm10 10l.94 2.06.94-2.06 2.06-.94-2.06-.94-.94-2.06-.94 2.06-2.06.94z\"/><path d=\"M17.41 7.96l-1.37-1.37c-.4-.4-.92-.59-1.43-.59-.52 0-1.04.2-1.43.59L10.3 9.45l-7.72 7.72c-.78.78-.78 2.05 0 2.83L4 21.41c.39.39.9.59 1.41.59.51 0 1.02-.2 1.41-.59l7.78-7.78 2.81-2.81c.8-.78.8-2.07 0-2.86zM5.41 20L4 18.59l7.72-7.72 1.47 1.35L5.41 20z\"/>\n",
              "  </svg>\n",
              "      </button>\n",
              "      \n",
              "  <style>\n",
              "    .colab-df-container {\n",
              "      display:flex;\n",
              "      flex-wrap:wrap;\n",
              "      gap: 12px;\n",
              "    }\n",
              "\n",
              "    .colab-df-convert {\n",
              "      background-color: #E8F0FE;\n",
              "      border: none;\n",
              "      border-radius: 50%;\n",
              "      cursor: pointer;\n",
              "      display: none;\n",
              "      fill: #1967D2;\n",
              "      height: 32px;\n",
              "      padding: 0 0 0 0;\n",
              "      width: 32px;\n",
              "    }\n",
              "\n",
              "    .colab-df-convert:hover {\n",
              "      background-color: #E2EBFA;\n",
              "      box-shadow: 0px 1px 2px rgba(60, 64, 67, 0.3), 0px 1px 3px 1px rgba(60, 64, 67, 0.15);\n",
              "      fill: #174EA6;\n",
              "    }\n",
              "\n",
              "    [theme=dark] .colab-df-convert {\n",
              "      background-color: #3B4455;\n",
              "      fill: #D2E3FC;\n",
              "    }\n",
              "\n",
              "    [theme=dark] .colab-df-convert:hover {\n",
              "      background-color: #434B5C;\n",
              "      box-shadow: 0px 1px 3px 1px rgba(0, 0, 0, 0.15);\n",
              "      filter: drop-shadow(0px 1px 2px rgba(0, 0, 0, 0.3));\n",
              "      fill: #FFFFFF;\n",
              "    }\n",
              "  </style>\n",
              "\n",
              "      <script>\n",
              "        const buttonEl =\n",
              "          document.querySelector('#df-d7b90034-4da1-4bfb-9fc3-9c6c7577adc0 button.colab-df-convert');\n",
              "        buttonEl.style.display =\n",
              "          google.colab.kernel.accessAllowed ? 'block' : 'none';\n",
              "\n",
              "        async function convertToInteractive(key) {\n",
              "          const element = document.querySelector('#df-d7b90034-4da1-4bfb-9fc3-9c6c7577adc0');\n",
              "          const dataTable =\n",
              "            await google.colab.kernel.invokeFunction('convertToInteractive',\n",
              "                                                     [key], {});\n",
              "          if (!dataTable) return;\n",
              "\n",
              "          const docLinkHtml = 'Like what you see? Visit the ' +\n",
              "            '<a target=\"_blank\" href=https://colab.research.google.com/notebooks/data_table.ipynb>data table notebook</a>'\n",
              "            + ' to learn more about interactive tables.';\n",
              "          element.innerHTML = '';\n",
              "          dataTable['output_type'] = 'display_data';\n",
              "          await google.colab.output.renderOutput(dataTable, element);\n",
              "          const docLink = document.createElement('div');\n",
              "          docLink.innerHTML = docLinkHtml;\n",
              "          element.appendChild(docLink);\n",
              "        }\n",
              "      </script>\n",
              "    </div>\n",
              "  </div>\n",
              "  "
            ]
          },
          "metadata": {},
          "execution_count": 66
        }
      ],
      "source": [
        "data.describe()"
      ]
    },
    {
      "cell_type": "markdown",
      "metadata": {
        "id": "KVcbqLw3w9tL"
      },
      "source": [
        "# **5. Data Pre-Processing**"
      ]
    },
    {
      "cell_type": "markdown",
      "metadata": {
        "id": "PdKInUkXxctg"
      },
      "source": [
        "### **5.1 Data Pre-Profiling**"
      ]
    },
    {
      "cell_type": "markdown",
      "metadata": {
        "id": "uNysza08YqGh"
      },
      "source": [
        "**Check null value or any other inconsistent value in column**"
      ]
    },
    {
      "cell_type": "code",
      "execution_count": 67,
      "metadata": {
        "colab": {
          "base_uri": "https://localhost:8080/"
        },
        "id": "r2BOQuoxebSs",
        "outputId": "1c047f5a-8548-413f-dcfd-a73330b1f3e0"
      },
      "outputs": [
        {
          "output_type": "stream",
          "name": "stdout",
          "text": [
            "Id             0\n",
            "Age            0\n",
            "Sex            0\n",
            "BP             0\n",
            "Cholesterol    0\n",
            "Na_to_K        0\n",
            "Drug           0\n",
            "dtype: int64 \n",
            "\n"
          ]
        }
      ],
      "source": [
        "print((data==\"\").sum(), \"\\n\")"
      ]
    },
    {
      "cell_type": "code",
      "execution_count": 68,
      "metadata": {
        "colab": {
          "base_uri": "https://localhost:8080/"
        },
        "id": "t8DTnc4XYuVx",
        "outputId": "c24a7304-006c-4bf0-a266-5ec3901b465f"
      },
      "outputs": [
        {
          "output_type": "stream",
          "name": "stdout",
          "text": [
            "Id             0\n",
            "Age            0\n",
            "Sex            0\n",
            "BP             0\n",
            "Cholesterol    0\n",
            "Na_to_K        0\n",
            "Drug           0\n",
            "dtype: int64 \n",
            "\n"
          ]
        }
      ],
      "source": [
        "print(data.isna().sum(), \"\\n\")\n"
      ]
    },
    {
      "cell_type": "code",
      "execution_count": 69,
      "metadata": {
        "colab": {
          "base_uri": "https://localhost:8080/"
        },
        "id": "QKzNio-1gBWk",
        "outputId": "e5dcb4a1-89df-46e8-ef8f-f9d41237db0f"
      },
      "outputs": [
        {
          "output_type": "stream",
          "name": "stdout",
          "text": [
            "Id             0\n",
            "Age            0\n",
            "Sex            0\n",
            "BP             0\n",
            "Cholesterol    0\n",
            "Na_to_K        0\n",
            "Drug           0\n",
            "dtype: int64 \n",
            "\n"
          ]
        }
      ],
      "source": [
        "print((data==\"Unknown\").sum(), \"\\n\")\n"
      ]
    },
    {
      "cell_type": "code",
      "execution_count": 70,
      "metadata": {
        "colab": {
          "base_uri": "https://localhost:8080/"
        },
        "id": "bbbTkBeExZvE",
        "outputId": "2a9f2032-1a1b-49c0-c090-7c3492e3b7f5"
      },
      "outputs": [
        {
          "output_type": "stream",
          "name": "stdout",
          "text": [
            "Id             1\n",
            "Age            0\n",
            "Sex            0\n",
            "BP             0\n",
            "Cholesterol    0\n",
            "Na_to_K        0\n",
            "Drug           0\n",
            "dtype: int64 \n",
            "\n"
          ]
        }
      ],
      "source": [
        "print((data==0).sum(), \"\\n\")"
      ]
    },
    {
      "cell_type": "code",
      "execution_count": 71,
      "metadata": {
        "colab": {
          "base_uri": "https://localhost:8080/"
        },
        "id": "sYTxG6wDzZL2",
        "outputId": "05cc01c7-7cff-4282-c5d0-aa24af562317"
      },
      "outputs": [
        {
          "output_type": "execute_result",
          "data": {
            "text/plain": [
              "False"
            ]
          },
          "metadata": {},
          "execution_count": 71
        }
      ],
      "source": [
        "data.duplicated().any()"
      ]
    },
    {
      "cell_type": "code",
      "execution_count": 72,
      "metadata": {
        "colab": {
          "base_uri": "https://localhost:8080/"
        },
        "id": "39vM-rrAzyg_",
        "outputId": "292c4f52-1e58-4bd1-bee6-3ead7cc5a0f6"
      },
      "outputs": [
        {
          "output_type": "stream",
          "name": "stdout",
          "text": [
            "M    83\n",
            "F    77\n",
            "Name: Sex, dtype: int64\n",
            "HIGH      62\n",
            "NORMAL    51\n",
            "LOW       47\n",
            "Name: BP, dtype: int64\n",
            "HIGH      88\n",
            "NORMAL    72\n",
            "Name: Cholesterol, dtype: int64\n",
            "DrugY    76\n",
            "drugX    43\n",
            "drugA    17\n",
            "drugB    13\n",
            "drugC    11\n",
            "Name: Drug, dtype: int64\n"
          ]
        }
      ],
      "source": [
        "catCol=[\"Sex\",\"BP\",\"Cholesterol\",\"Drug\"]\n",
        "for col in catCol:\n",
        "  print(data[col].value_counts())\n",
        "\n"
      ]
    },
    {
      "cell_type": "markdown",
      "metadata": {
        "id": "OTVPcvGtC7MZ"
      },
      "source": [
        "**Check distribution of numerical features and Outliers**"
      ]
    },
    {
      "cell_type": "code",
      "execution_count": 73,
      "metadata": {
        "colab": {
          "base_uri": "https://localhost:8080/",
          "height": 826
        },
        "id": "OG7ahFxKhorY",
        "outputId": "69ec9760-f1fe-4f02-f73e-6a6be7b0d104"
      },
      "outputs": [
        {
          "output_type": "stream",
          "name": "stdout",
          "text": [
            "outliers in feature Age are\n",
            " Series([], Name: Age, dtype: int64)\n",
            "outliers in feature Na_to_K are\n",
            " 3      33.486\n",
            "17     35.639\n",
            "19     38.247\n",
            "55     34.686\n",
            "86     37.188\n",
            "153    34.997\n",
            "Name: Na_to_K, dtype: float64\n"
          ]
        },
        {
          "output_type": "display_data",
          "data": {
            "text/plain": [
              "<Figure size 1080x360 with 2 Axes>"
            ],
            "image/png": "[encoded data removed]"
          },
          "metadata": {
            "needs_background": "light"
          }
        },
        {
          "output_type": "display_data",
          "data": {
            "text/plain": [
              "<Figure size 1080x360 with 2 Axes>"
            ],
            "image/png": "[encoded data removed]"
          },
          "metadata": {
            "needs_background": "light"
          }
        }
      ],
      "source": [
        "contColumn=[\"Age\",\"Na_to_K\"]\n",
        "\n",
        "for col in contColumn:  \n",
        "  fig=plt.figure(figsize=[15,5])\n",
        "  plt.subplot(1,2,1)\n",
        "  sns.distplot(data[col], color=\"b\")\n",
        "  plt.axvline(data[col].mean(), color=\"r\")\n",
        "  plt.axvline(data[col].median(), color=\"g\")\n",
        "  plt.subplot(1,2,2)\n",
        "  sns.boxplot(data[col])\n",
        "  quamtile_75=data[col].quantile(q=.75)\n",
        "  quamtile_25=data[col].quantile(q=.25)\n",
        "  iqr=quamtile_75-quamtile_25\n",
        "  lower_limit=quamtile_25-1.5*iqr\n",
        "  upper_limit=quamtile_75+1.5*iqr\n",
        "  outliers=data[col][(data[col]<lower_limit )|(data[col]>upper_limit)]\n",
        "  print(\"outliers in feature\", col ,\"are\\n\" ,outliers)\n",
        "  # data.drop(index=outliers.index, inplace=True)\n",
        "\n",
        "  "
      ]
    },
    {
      "cell_type": "markdown",
      "metadata": {
        "id": "Ghes5hwMxu--"
      },
      "source": [
        "### **5.2 Data Cleaning**\n",
        "\n",
        "- N/A"
      ]
    },
    {
      "cell_type": "markdown",
      "metadata": {
        "id": "eHaO8RpKyQHL"
      },
      "source": [
        "### **5.3 Data Post-Profiling**\n",
        "\n",
        "- N/A"
      ]
    },
    {
      "cell_type": "markdown",
      "metadata": {
        "id": "LLfz81jNDxl4"
      },
      "source": [
        "# **6. Exploratory Data Analysis**"
      ]
    },
    {
      "cell_type": "markdown",
      "metadata": {
        "id": "ac5CFVgWb8iq"
      },
      "source": [
        "### **Check the frequency of catrgorical features**"
      ]
    },
    {
      "cell_type": "code",
      "execution_count": 74,
      "metadata": {
        "colab": {
          "base_uri": "https://localhost:8080/",
          "height": 233
        },
        "id": "rguyyp3ScY9g",
        "outputId": "b0a5573a-68d8-4baa-bbb6-beaabd874d6c"
      },
      "outputs": [
        {
          "output_type": "display_data",
          "data": {
            "text/plain": [
              "<Figure size 1800x720 with 4 Axes>"
            ],
            "image/png": "[encoded data removed]"
          },
          "metadata": {}
        }
      ],
      "source": [
        "CatColumn=[\"Sex\",\"BP\",\"Cholesterol\",\"Drug\"]\n",
        "fig=plt.figure(figsize=[25,10])\n",
        "\n",
        "for col in CatColumn:  \n",
        "  plt.subplot(1,len(CatColumn),(CatColumn.index(col))+1)\n",
        "  space = np.ones(data[col].nunique())/20\n",
        "  data[col].value_counts().plot(kind='pie', explode=space, autopct='%1.0f%%',shadow = True)\n"
      ]
    },
    {
      "cell_type": "markdown",
      "metadata": {
        "id": "Y5A14AmVz8aJ"
      },
      "source": [
        "### **Analize Relationship between BP, Cholestrol and Drug**"
      ]
    },
    {
      "cell_type": "code",
      "source": [
        "fig=plt.figure(figsize=[20,5])\n",
        "plt.subplot(1,2,1)\n",
        "data1=data.groupby([\"BP\",\"Cholesterol\"])[\"Id\"].count().unstack()\n",
        "sns.heatmap(data1,annot=True,cmap=\"Blues\",linecolor='Red',linewidth=1)\n",
        "plt.subplot(1,2,2)\n",
        "data1=data.groupby([\"BP\",\"Cholesterol\",\"Drug\"])[\"Drug\"].count().unstack()\n",
        "sns.heatmap(data1,annot=True,cmap=\"Blues\",linecolor='Red',linewidth=1)"
      ],
      "metadata": {
        "colab": {
          "base_uri": "https://localhost:8080/",
          "height": 315
        },
        "id": "xSZNBrWt_Ikr",
        "outputId": "a103ab7c-8ff4-4f91-ed65-14b050372d1a"
      },
      "execution_count": 75,
      "outputs": [
        {
          "output_type": "execute_result",
          "data": {
            "text/plain": [
              "<matplotlib.axes._subplots.AxesSubplot at 0x7fc9f915e8d0>"
            ]
          },
          "metadata": {},
          "execution_count": 75
        },
        {
          "output_type": "display_data",
          "data": {
            "text/plain": [
              "<Figure size 1440x360 with 4 Axes>"
            ],
            "image/png": "[encoded data removed]"
          },
          "metadata": {
            "needs_background": "light"
          }
        }
      ]
    },
    {
      "cell_type": "markdown",
      "source": [
        "### **Analize Relationship between Age, Na_to_K and Drug**"
      ],
      "metadata": {
        "id": "6TqTYC6Wd8ud"
      }
    },
    {
      "cell_type": "code",
      "source": [
        "fig=plt.figure(figsize=[20,5])\n",
        "plt.subplot(1,2,1)\n",
        "sns.histplot(data=data,x=\"Age\",bins=np.arange(0,80,10),hue=\"Drug\",multiple=\"stack\",stat=\"count\")\n",
        "plt.subplot(1,2,2)\n",
        "sns.histplot(data=data,x=\"Na_to_K\",bins=np.arange(0,40,5),hue=\"Drug\",multiple=\"stack\",stat=\"count\")\n"
      ],
      "metadata": {
        "colab": {
          "base_uri": "https://localhost:8080/",
          "height": 302
        },
        "id": "r0_MjLSbbKi2",
        "outputId": "b2d5c4ad-31c7-4495-a172-858edae908b0"
      },
      "execution_count": 76,
      "outputs": [
        {
          "output_type": "execute_result",
          "data": {
            "text/plain": [
              "<matplotlib.axes._subplots.AxesSubplot at 0x7fc9f9161810>"
            ]
          },
          "metadata": {},
          "execution_count": 76
        },
        {
          "output_type": "display_data",
          "data": {
            "text/plain": [
              "<Figure size 1440x360 with 2 Axes>"
            ],
            "image/png": "[encoded data removed]"
          },
          "metadata": {
            "needs_background": "light"
          }
        }
      ]
    },
    {
      "cell_type": "markdown",
      "metadata": {
        "id": "i4055cdQ5mz_"
      },
      "source": [
        "### **Correlation Matrix**"
      ]
    },
    {
      "cell_type": "code",
      "execution_count": 77,
      "metadata": {
        "id": "bhO-mjuAfWZ0",
        "colab": {
          "base_uri": "https://localhost:8080/",
          "height": 396
        },
        "outputId": "13889ce8-c629-471e-d542-01c0de9bf643"
      },
      "outputs": [
        {
          "output_type": "execute_result",
          "data": {
            "text/plain": [
              "<matplotlib.axes._subplots.AxesSubplot at 0x7fc9f8e3c4d0>"
            ]
          },
          "metadata": {},
          "execution_count": 77
        },
        {
          "output_type": "display_data",
          "data": {
            "text/plain": [
              "<Figure size 720x432 with 2 Axes>"
            ],
            "image/png": "[encoded data removed]"
          },
          "metadata": {
            "needs_background": "light"
          }
        }
      ],
      "source": [
        "figure=plt.figure(figsize=[10,6])\n",
        "sns.heatmap(data.corr(), cmap=\"Blues\", annot=True,linecolor='Red',linewidth=1)"
      ]
    },
    {
      "cell_type": "markdown",
      "metadata": {
        "id": "pRuWufrf6Zt-"
      },
      "source": [
        "## **Check Data Imbalance**"
      ]
    },
    {
      "cell_type": "code",
      "execution_count": 78,
      "metadata": {
        "id": "rSBZ-SaDR9Zm",
        "colab": {
          "base_uri": "https://localhost:8080/"
        },
        "outputId": "373d498d-0cc2-4250-fe00-d07465937135"
      },
      "outputs": [
        {
          "output_type": "execute_result",
          "data": {
            "text/plain": [
              "DrugY    76\n",
              "drugX    43\n",
              "drugA    17\n",
              "drugB    13\n",
              "drugC    11\n",
              "Name: Drug, dtype: int64"
            ]
          },
          "metadata": {},
          "execution_count": 78
        }
      ],
      "source": [
        "data.Drug.value_counts()"
      ]
    },
    {
      "cell_type": "markdown",
      "metadata": {
        "id": "ISaynBoL2U6f"
      },
      "source": [
        "# **7. Data Post-Processing**"
      ]
    },
    {
      "cell_type": "markdown",
      "metadata": {
        "id": "wTKr5hqq3tQy"
      },
      "source": [
        "### **7.1 Data Preparation / Train Test Split**\n",
        "\n"
      ]
    },
    {
      "cell_type": "code",
      "execution_count": 79,
      "metadata": {
        "id": "FcD8VCYk90nu",
        "colab": {
          "base_uri": "https://localhost:8080/",
          "height": 276
        },
        "outputId": "f77069b1-b06b-4c2c-8a4f-0906d2738ba3"
      },
      "outputs": [
        {
          "output_type": "stream",
          "name": "stdout",
          "text": [
            "(112, 5)\n",
            "(112,)\n",
            "(48, 5)\n",
            "(48,)\n"
          ]
        },
        {
          "output_type": "execute_result",
          "data": {
            "text/plain": [
              "   Age Sex      BP Cholesterol  Na_to_K   Drug\n",
              "0   32   F     LOW      NORMAL   10.840  drugX\n",
              "1   52   M  NORMAL        HIGH    9.894  drugX\n",
              "2   39   F  NORMAL      NORMAL    9.709  drugX\n",
              "3   33   F     LOW        HIGH   33.486  DrugY\n",
              "4   34   M  NORMAL        HIGH   22.456  DrugY"
            ],
            "text/html": [
              "\n",
              "  <div id=\"df-50b230c3-4fc4-4796-a200-e192ef489bcd\">\n",
              "    <div class=\"colab-df-container\">\n",
              "      <div>\n",
              "<style scoped>\n",
              "    .dataframe tbody tr th:only-of-type {\n",
              "        vertical-align: middle;\n",
              "    }\n",
              "\n",
              "    .dataframe tbody tr th {\n",
              "        vertical-align: top;\n",
              "    }\n",
              "\n",
              "    .dataframe thead th {\n",
              "        text-align: right;\n",
              "    }\n",
              "</style>\n",
              "<table border=\"1\" class=\"dataframe\">\n",
              "  <thead>\n",
              "    <tr style=\"text-align: right;\">\n",
              "      <th></th>\n",
              "      <th>Age</th>\n",
              "      <th>Sex</th>\n",
              "      <th>BP</th>\n",
              "      <th>Cholesterol</th>\n",
              "      <th>Na_to_K</th>\n",
              "      <th>Drug</th>\n",
              "    </tr>\n",
              "  </thead>\n",
              "  <tbody>\n",
              "    <tr>\n",
              "      <th>0</th>\n",
              "      <td>32</td>\n",
              "      <td>F</td>\n",
              "      <td>LOW</td>\n",
              "      <td>NORMAL</td>\n",
              "      <td>10.840</td>\n",
              "      <td>drugX</td>\n",
              "    </tr>\n",
              "    <tr>\n",
              "      <th>1</th>\n",
              "      <td>52</td>\n",
              "      <td>M</td>\n",
              "      <td>NORMAL</td>\n",
              "      <td>HIGH</td>\n",
              "      <td>9.894</td>\n",
              "      <td>drugX</td>\n",
              "    </tr>\n",
              "    <tr>\n",
              "      <th>2</th>\n",
              "      <td>39</td>\n",
              "      <td>F</td>\n",
              "      <td>NORMAL</td>\n",
              "      <td>NORMAL</td>\n",
              "      <td>9.709</td>\n",
              "      <td>drugX</td>\n",
              "    </tr>\n",
              "    <tr>\n",
              "      <th>3</th>\n",
              "      <td>33</td>\n",
              "      <td>F</td>\n",
              "      <td>LOW</td>\n",
              "      <td>HIGH</td>\n",
              "      <td>33.486</td>\n",
              "      <td>DrugY</td>\n",
              "    </tr>\n",
              "    <tr>\n",
              "      <th>4</th>\n",
              "      <td>34</td>\n",
              "      <td>M</td>\n",
              "      <td>NORMAL</td>\n",
              "      <td>HIGH</td>\n",
              "      <td>22.456</td>\n",
              "      <td>DrugY</td>\n",
              "    </tr>\n",
              "  </tbody>\n",
              "</table>\n",
              "</div>\n",
              "      <button class=\"colab-df-convert\" onclick=\"convertToInteractive('df-50b230c3-4fc4-4796-a200-e192ef489bcd')\"\n",
              "              title=\"Convert this dataframe to an interactive table.\"\n",
              "              style=\"display:none;\">\n",
              "        \n",
              "  <svg xmlns=\"http://www.w3.org/2000/svg\" height=\"24px\"viewBox=\"0 0 24 24\"\n",
              "       width=\"24px\">\n",
              "    <path d=\"M0 0h24v24H0V0z\" fill=\"none\"/>\n",
              "    <path d=\"M18.56 5.44l.94 2.06.94-2.06 2.06-.94-2.06-.94-.94-2.06-.94 2.06-2.06.94zm-11 1L8.5 8.5l.94-2.06 2.06-.94-2.06-.94L8.5 2.5l-.94 2.06-2.06.94zm10 10l.94 2.06.94-2.06 2.06-.94-2.06-.94-.94-2.06-.94 2.06-2.06.94z\"/><path d=\"M17.41 7.96l-1.37-1.37c-.4-.4-.92-.59-1.43-.59-.52 0-1.04.2-1.43.59L10.3 9.45l-7.72 7.72c-.78.78-.78 2.05 0 2.83L4 21.41c.39.39.9.59 1.41.59.51 0 1.02-.2 1.41-.59l7.78-7.78 2.81-2.81c.8-.78.8-2.07 0-2.86zM5.41 20L4 18.59l7.72-7.72 1.47 1.35L5.41 20z\"/>\n",
              "  </svg>\n",
              "      </button>\n",
              "      \n",
              "  <style>\n",
              "    .colab-df-container {\n",
              "      display:flex;\n",
              "      flex-wrap:wrap;\n",
              "      gap: 12px;\n",
              "    }\n",
              "\n",
              "    .colab-df-convert {\n",
              "      background-color: #E8F0FE;\n",
              "      border: none;\n",
              "      border-radius: 50%;\n",
              "      cursor: pointer;\n",
              "      display: none;\n",
              "      fill: #1967D2;\n",
              "      height: 32px;\n",
              "      padding: 0 0 0 0;\n",
              "      width: 32px;\n",
              "    }\n",
              "\n",
              "    .colab-df-convert:hover {\n",
              "      background-color: #E2EBFA;\n",
              "      box-shadow: 0px 1px 2px rgba(60, 64, 67, 0.3), 0px 1px 3px 1px rgba(60, 64, 67, 0.15);\n",
              "      fill: #174EA6;\n",
              "    }\n",
              "\n",
              "    [theme=dark] .colab-df-convert {\n",
              "      background-color: #3B4455;\n",
              "      fill: #D2E3FC;\n",
              "    }\n",
              "\n",
              "    [theme=dark] .colab-df-convert:hover {\n",
              "      background-color: #434B5C;\n",
              "      box-shadow: 0px 1px 3px 1px rgba(0, 0, 0, 0.15);\n",
              "      filter: drop-shadow(0px 1px 2px rgba(0, 0, 0, 0.3));\n",
              "      fill: #FFFFFF;\n",
              "    }\n",
              "  </style>\n",
              "\n",
              "      <script>\n",
              "        const buttonEl =\n",
              "          document.querySelector('#df-50b230c3-4fc4-4796-a200-e192ef489bcd button.colab-df-convert');\n",
              "        buttonEl.style.display =\n",
              "          google.colab.kernel.accessAllowed ? 'block' : 'none';\n",
              "\n",
              "        async function convertToInteractive(key) {\n",
              "          const element = document.querySelector('#df-50b230c3-4fc4-4796-a200-e192ef489bcd');\n",
              "          const dataTable =\n",
              "            await google.colab.kernel.invokeFunction('convertToInteractive',\n",
              "                                                     [key], {});\n",
              "          if (!dataTable) return;\n",
              "\n",
              "          const docLinkHtml = 'Like what you see? Visit the ' +\n",
              "            '<a target=\"_blank\" href=https://colab.research.google.com/notebooks/data_table.ipynb>data table notebook</a>'\n",
              "            + ' to learn more about interactive tables.';\n",
              "          element.innerHTML = '';\n",
              "          dataTable['output_type'] = 'display_data';\n",
              "          await google.colab.output.renderOutput(dataTable, element);\n",
              "          const docLink = document.createElement('div');\n",
              "          docLink.innerHTML = docLinkHtml;\n",
              "          element.appendChild(docLink);\n",
              "        }\n",
              "      </script>\n",
              "    </div>\n",
              "  </div>\n",
              "  "
            ]
          },
          "metadata": {},
          "execution_count": 79
        }
      ],
      "source": [
        "#**Remove Irrelavent Features**\n",
        "\n",
        "data=data.drop([\"Id\"], axis=1)\n",
        "dataValidationId=dataValidation.Id\n",
        "dataValidation=dataValidation.drop([\"Id\"], axis=1)\n",
        "X=data.drop(\"Drug\",axis=1)\n",
        "y=data.Drug\n",
        "\n",
        "X_train, X_test,y_train,y_test=train_test_split(X,y,test_size=.30,random_state=20,stratify=y)\n",
        "print(X_train.shape)\n",
        "print(y_train.shape)\n",
        "print(X_test.shape)\n",
        "print(y_test.shape)\n",
        "data.head(5)\n"
      ]
    },
    {
      "cell_type": "markdown",
      "metadata": {
        "id": "sCuh-E70CVRN"
      },
      "source": [
        "### **7.2 Data Encoding**\n",
        "\n",
        "- In this section, we will encode our categorical features using one hot encoding."
      ]
    },
    {
      "cell_type": "code",
      "execution_count": 80,
      "metadata": {
        "id": "vfy2MULRCY2_"
      },
      "outputs": [],
      "source": [
        "from sklearn.preprocessing import OneHotEncoder\n",
        "from sklearn.compose import make_column_transformer\n",
        "# Define which columns should be encoded\n",
        "columns_to_encode=[\"Sex\",\"BP\",\"Cholesterol\"]\n",
        "# Instantiate OHE\n",
        "\n",
        "OH_encoder = OneHotEncoder(handle_unknown='ignore', sparse=False)\n",
        "train_encoded = pd.DataFrame(OH_encoder.fit_transform(X_train[columns_to_encode]),index=X_train.index)\n",
        "test_encoded = pd.DataFrame(OH_encoder.transform(X_test[columns_to_encode]),index=X_test.index)\n",
        "validation_encoded = pd.DataFrame(OH_encoder.transform(dataValidation[columns_to_encode]),index=dataValidation.index)\n",
        "\n",
        "# Adding column names to the encoded data set.\n",
        "train_encoded.columns = OH_encoder.get_feature_names(columns_to_encode)\n",
        "test_encoded.columns = OH_encoder.get_feature_names(columns_to_encode)\n",
        "validation_encoded.columns = OH_encoder.get_feature_names(columns_to_encode)\n",
        "\n",
        "# Remove categorical columns (will replace with one-hot encoding)\n",
        "num_X_train = X_train.drop(columns_to_encode, axis=1)\n",
        "num_X_test = X_test.drop(columns_to_encode, axis=1)\n",
        "num_X_valid = dataValidation.drop(columns_to_encode, axis=1)\n",
        "\n",
        "# Add one-hot encoded columns to numerical features\n",
        "X_train = pd.concat([num_X_train, train_encoded], axis=1)\n",
        "X_test = pd.concat([num_X_test, test_encoded], axis=1)\n",
        "X_validation = pd.concat([num_X_valid, validation_encoded], axis=1)"
      ]
    },
    {
      "cell_type": "markdown",
      "metadata": {
        "id": "M-2NLdTn2-qq"
      },
      "source": [
        "### **7.2 Data Scaling**\n",
        "\n",
        "- Tree models dont require Scaling."
      ]
    },
    {
      "cell_type": "markdown",
      "metadata": {
        "id": "PLF8eGU33VZD"
      },
      "source": [
        "# **8. Model Development & Evaluation**"
      ]
    },
    {
      "cell_type": "markdown",
      "metadata": {
        "id": "kLg5vr2-6mKu"
      },
      "source": [
        "### **Prediction Using Decision Tree**"
      ]
    },
    {
      "cell_type": "code",
      "execution_count": 81,
      "metadata": {
        "id": "IdUvrlbN7evE",
        "colab": {
          "base_uri": "https://localhost:8080/"
        },
        "outputId": "7d679029-32c0-4b95-9152-3494117f5e6c"
      },
      "outputs": [
        {
          "output_type": "stream",
          "name": "stdout",
          "text": [
            "Accuracy Score for Training Data is  1.0\n",
            "Accuracy Score for Testing Data is  0.9791666666666666\n",
            "Confusion Matrix for train data is\n",
            " [[53  0  0  0  0]\n",
            " [ 0 12  0  0  0]\n",
            " [ 0  0  9  0  0]\n",
            " [ 0  0  0  8  0]\n",
            " [ 0  0  0  0 30]]\n",
            "Confusion Matrix for Test data is \n",
            "  [[23  0  0  0  0]\n",
            " [ 0  5  0  0  0]\n",
            " [ 0  1  3  0  0]\n",
            " [ 0  0  0  3  0]\n",
            " [ 0  0  0  0 13]]\n",
            "                    Training Report          \n",
            "              precision    recall  f1-score   support\n",
            "\n",
            "       DrugY       1.00      1.00      1.00        53\n",
            "       drugA       1.00      1.00      1.00        12\n",
            "       drugB       1.00      1.00      1.00         9\n",
            "       drugC       1.00      1.00      1.00         8\n",
            "       drugX       1.00      1.00      1.00        30\n",
            "\n",
            "    accuracy                           1.00       112\n",
            "   macro avg       1.00      1.00      1.00       112\n",
            "weighted avg       1.00      1.00      1.00       112\n",
            "\n",
            "                    Testing Report           \n",
            "              precision    recall  f1-score   support\n",
            "\n",
            "       DrugY       1.00      1.00      1.00        23\n",
            "       drugA       0.83      1.00      0.91         5\n",
            "       drugB       1.00      0.75      0.86         4\n",
            "       drugC       1.00      1.00      1.00         3\n",
            "       drugX       1.00      1.00      1.00        13\n",
            "\n",
            "    accuracy                           0.98        48\n",
            "   macro avg       0.97      0.95      0.95        48\n",
            "weighted avg       0.98      0.98      0.98        48\n",
            "\n"
          ]
        }
      ],
      "source": [
        "modelDT=DecisionTreeClassifier(random_state=25)\n",
        "modelDT.fit(X_train,y_train)\n",
        "\n",
        "y_train_pred=modelDT.predict(X_train)\n",
        "y_test_pred=modelDT.predict(X_test)\n",
        "\n",
        "\n",
        "print(\"Accuracy Score for Training Data is \", accuracy_score(y_train,y_train_pred))\n",
        "print(\"Accuracy Score for Testing Data is \", accuracy_score(y_test,y_test_pred))\n",
        "print(\"Confusion Matrix for train data is\\n\",confusion_matrix(y_train, y_train_pred))\n",
        "print(\"Confusion Matrix for Test data is \\n \", confusion_matrix(y_test, y_test_pred))\n",
        "\n",
        "train_report = classification_report(y_train, y_train_pred)\n",
        "test_report = classification_report(y_test, y_test_pred)\n",
        "print('                    Training Report          ')\n",
        "print(train_report)\n",
        "print('                    Testing Report           ')\n",
        "print(test_report)\n"
      ]
    },
    {
      "cell_type": "markdown",
      "metadata": {
        "id": "ROqz_VNDu2TN"
      },
      "source": [
        "### **Feature Importance**"
      ]
    },
    {
      "cell_type": "code",
      "execution_count": 82,
      "metadata": {
        "id": "DfTsaoSAu8Lw",
        "colab": {
          "base_uri": "https://localhost:8080/",
          "height": 426
        },
        "outputId": "0d76dabf-0367-405c-f9b9-4339d5c4a434"
      },
      "outputs": [
        {
          "output_type": "display_data",
          "data": {
            "text/plain": [
              "<Figure size 1080x504 with 1 Axes>"
            ],
            "image/png": "[encoded data removed]"
          },
          "metadata": {
            "needs_background": "light"
          }
        }
      ],
      "source": [
        "features = X_train.columns\n",
        "importances = modelDT.feature_importances_\n",
        "indices = np.argsort(importances)\n",
        "\n",
        "plt.figure(figsize=[15, 7])\n",
        "plt.barh(y=range(len(indices)), width=importances[indices], color='g', align='center')\n",
        "plt.yticks(ticks=range(len(indices)), labels=[features[i] for i in indices], size=12)\n",
        "plt.grid(b=True)\n",
        "plt.show()"
      ]
    },
    {
      "cell_type": "markdown",
      "metadata": {
        "id": "1h_xpkVS-XQu"
      },
      "source": [
        "### **Hyperparameter Tuning of Decision Tree using RandomSearchCV**"
      ]
    },
    {
      "cell_type": "code",
      "execution_count": 83,
      "metadata": {
        "id": "-RUZjmAj-Qhq",
        "colab": {
          "base_uri": "https://localhost:8080/"
        },
        "outputId": "798e1f37-a4c6-4244-dd4b-5091e50c5153"
      },
      "outputs": [
        {
          "output_type": "stream",
          "name": "stdout",
          "text": [
            "Accuracy Score for Training Data is  1.0\n",
            "Accuracy Score for Testing Data is  0.9791666666666666\n",
            "Confusion Matrix for train data is\n",
            " [[53  0  0  0  0]\n",
            " [ 0 12  0  0  0]\n",
            " [ 0  0  9  0  0]\n",
            " [ 0  0  0  8  0]\n",
            " [ 0  0  0  0 30]]\n",
            "Confusion Matrix for Test data is \n",
            "  [[23  0  0  0  0]\n",
            " [ 0  5  0  0  0]\n",
            " [ 0  1  3  0  0]\n",
            " [ 0  0  0  3  0]\n",
            " [ 0  0  0  0 13]]\n",
            "                    Training Report          \n",
            "              precision    recall  f1-score   support\n",
            "\n",
            "       DrugY       1.00      1.00      1.00        53\n",
            "       drugA       1.00      1.00      1.00        12\n",
            "       drugB       1.00      1.00      1.00         9\n",
            "       drugC       1.00      1.00      1.00         8\n",
            "       drugX       1.00      1.00      1.00        30\n",
            "\n",
            "    accuracy                           1.00       112\n",
            "   macro avg       1.00      1.00      1.00       112\n",
            "weighted avg       1.00      1.00      1.00       112\n",
            "\n",
            "                    Testing Report           \n",
            "              precision    recall  f1-score   support\n",
            "\n",
            "       DrugY       1.00      1.00      1.00        23\n",
            "       drugA       0.83      1.00      0.91         5\n",
            "       drugB       1.00      0.75      0.86         4\n",
            "       drugC       1.00      1.00      1.00         3\n",
            "       drugX       1.00      1.00      1.00        13\n",
            "\n",
            "    accuracy                           0.98        48\n",
            "   macro avg       0.97      0.95      0.95        48\n",
            "weighted avg       0.98      0.98      0.98        48\n",
            "\n"
          ]
        }
      ],
      "source": [
        "param_list={\n",
        "      \"criterion\" : [\"gini\",\"entropy\"],\n",
        "      \"splitter\":[\"best\",\"random\"],\n",
        "      \"max_depth\" : [None,2,3,4,5,6],\n",
        "      \"min_samples_leaf\":[1,2,3,4,5],\n",
        "      \"min_samples_split\" :[2,3,4,5],\n",
        "      \"min_weight_fraction_leaf\":[0.0,0.1,0.2,0.3,0.4,0.5,0.6],\n",
        "      \"max_features\":[\"auto\",\"log2\",\"sqrt\",None],\n",
        "      \"max_leaf_nodes\":[None,10,20,30,40,50]\n",
        "      }\n",
        "\n",
        "modelDTRandCV=RandomizedSearchCV(estimator=modelDT,param_distributions=param_list,cv=3,n_jobs=-1,n_iter=1000,random_state=45)\n",
        "modelDTRandCV.fit(X_train,y_train)\n",
        "y_train_pred=modelDTRandCV.predict(X_train)\n",
        "y_test_pred=modelDTRandCV.predict(X_test)\n",
        "print(\"Accuracy Score for Training Data is \", accuracy_score(y_train,y_train_pred))\n",
        "print(\"Accuracy Score for Testing Data is \", accuracy_score(y_test,y_test_pred))\n",
        "print(\"Confusion Matrix for train data is\\n\",confusion_matrix(y_train, y_train_pred))\n",
        "print(\"Confusion Matrix for Test data is \\n \", confusion_matrix(y_test, y_test_pred))\n",
        "\n",
        "train_report = classification_report(y_train, y_train_pred)\n",
        "test_report = classification_report(y_test, y_test_pred)\n",
        "print('                    Training Report          ')\n",
        "print(train_report)\n",
        "print('                    Testing Report           ')\n",
        "print(test_report)"
      ]
    },
    {
      "cell_type": "markdown",
      "metadata": {
        "id": "19-sCgCi_HeB"
      },
      "source": [
        "### **Build Model-Random Forest**"
      ]
    },
    {
      "cell_type": "code",
      "execution_count": 84,
      "metadata": {
        "id": "QoH3QIXI_Xth",
        "colab": {
          "base_uri": "https://localhost:8080/"
        },
        "outputId": "aaa72512-d3f5-4337-c888-39f913f1e715"
      },
      "outputs": [
        {
          "output_type": "stream",
          "name": "stdout",
          "text": [
            "Accuracy Score for Training Data is  1.0\n",
            "Accuracy Score for Testing Data is  0.9791666666666666\n",
            "Confusion Matrix for train datais\n",
            " [[53  0  0  0  0]\n",
            " [ 0 12  0  0  0]\n",
            " [ 0  0  9  0  0]\n",
            " [ 0  0  0  8  0]\n",
            " [ 0  0  0  0 30]]\n",
            "Confusion Matrix for Test data is \n",
            "  [[23  0  0  0  0]\n",
            " [ 0  5  0  0  0]\n",
            " [ 0  1  3  0  0]\n",
            " [ 0  0  0  3  0]\n",
            " [ 0  0  0  0 13]]\n",
            "                    Training Report          \n",
            "              precision    recall  f1-score   support\n",
            "\n",
            "       DrugY       1.00      1.00      1.00        53\n",
            "       drugA       1.00      1.00      1.00        12\n",
            "       drugB       1.00      1.00      1.00         9\n",
            "       drugC       1.00      1.00      1.00         8\n",
            "       drugX       1.00      1.00      1.00        30\n",
            "\n",
            "    accuracy                           1.00       112\n",
            "   macro avg       1.00      1.00      1.00       112\n",
            "weighted avg       1.00      1.00      1.00       112\n",
            "\n",
            "                    Testing Report           \n",
            "              precision    recall  f1-score   support\n",
            "\n",
            "       DrugY       1.00      1.00      1.00        23\n",
            "       drugA       0.83      1.00      0.91         5\n",
            "       drugB       1.00      0.75      0.86         4\n",
            "       drugC       1.00      1.00      1.00         3\n",
            "       drugX       1.00      1.00      1.00        13\n",
            "\n",
            "    accuracy                           0.98        48\n",
            "   macro avg       0.97      0.95      0.95        48\n",
            "weighted avg       0.98      0.98      0.98        48\n",
            "\n"
          ]
        }
      ],
      "source": [
        "modelRF=RandomForestClassifier(random_state=0)\n",
        "modelRF.fit(X_train,y_train)\n",
        "y_train_pred=modelRF.predict(X_train)\n",
        "y_test_pred=modelRF.predict(X_test)\n",
        "print(\"Accuracy Score for Training Data is \", accuracy_score(y_train,y_train_pred))\n",
        "print(\"Accuracy Score for Testing Data is \", accuracy_score(y_test,y_test_pred))\n",
        "print(\"Confusion Matrix for train datais\\n\", confusion_matrix(y_train, y_train_pred))\n",
        "print(\"Confusion Matrix for Test data is \\n \", confusion_matrix(y_test, y_test_pred))\n",
        "\n",
        "train_report = classification_report(y_train, y_train_pred)\n",
        "test_report = classification_report(y_test, y_test_pred)\n",
        "print('                    Training Report          ')\n",
        "print(train_report)\n",
        "print('                    Testing Report           ')\n",
        "print(test_report)\n",
        "\n"
      ]
    },
    {
      "cell_type": "markdown",
      "metadata": {
        "id": "j4fMY64xSvHG"
      },
      "source": [
        "# **9. Summarization and Predict Output for Test File**"
      ]
    },
    {
      "cell_type": "code",
      "execution_count": 85,
      "metadata": {
        "id": "zt3StcgNAZtT",
        "colab": {
          "base_uri": "https://localhost:8080/",
          "height": 17
        },
        "outputId": "13bf5543-338d-4f7a-c265-43511b3ec849"
      },
      "outputs": [
        {
          "output_type": "display_data",
          "data": {
            "text/plain": [
              "<IPython.core.display.Javascript object>"
            ],
            "application/javascript": [
              "\n",
              "    async function download(id, filename, size) {\n",
              "      if (!google.colab.kernel.accessAllowed) {\n",
              "        return;\n",
              "      }\n",
              "      const div = document.createElement('div');\n",
              "      const label = document.createElement('label');\n",
              "      label.textContent = `Downloading \"${filename}\": `;\n",
              "      div.appendChild(label);\n",
              "      const progress = document.createElement('progress');\n",
              "      progress.max = size;\n",
              "      div.appendChild(progress);\n",
              "      document.body.appendChild(div);\n",
              "\n",
              "      const buffers = [];\n",
              "      let downloaded = 0;\n",
              "\n",
              "      const channel = await google.colab.kernel.comms.open(id);\n",
              "      // Send a message to notify the kernel that we're ready.\n",
              "      channel.send({})\n",
              "\n",
              "      for await (const message of channel.messages) {\n",
              "        // Send a message to notify the kernel that we're ready.\n",
              "        channel.send({})\n",
              "        if (message.buffers) {\n",
              "          for (const buffer of message.buffers) {\n",
              "            buffers.push(buffer);\n",
              "            downloaded += buffer.byteLength;\n",
              "            progress.value = downloaded;\n",
              "          }\n",
              "        }\n",
              "      }\n",
              "      const blob = new Blob(buffers, {type: 'application/binary'});\n",
              "      const a = document.createElement('a');\n",
              "      a.href = window.URL.createObjectURL(blob);\n",
              "      a.download = filename;\n",
              "      div.appendChild(a);\n",
              "      a.click();\n",
              "      div.remove();\n",
              "    }\n",
              "  "
            ]
          },
          "metadata": {}
        },
        {
          "output_type": "display_data",
          "data": {
            "text/plain": [
              "<IPython.core.display.Javascript object>"
            ],
            "application/javascript": [
              "download(\"download_e5abf436-6d3d-4a0c-af9c-defb728fb9e1\", \"submission.csv\", 381)"
            ]
          },
          "metadata": {}
        }
      ],
      "source": [
        "X_validation_pred=modelRF.predict(X_validation)\n",
        "submission = pd.DataFrame({'id':dataValidationId,'satisfaction':X_validation_pred})\n",
        "submission.satisfaction=submission.satisfaction.replace([0,1],[\"neutral or dissatisfied\",\"satisfied\"])\n",
        "from google.colab import files\n",
        "submission.to_csv('submission.csv', encoding = 'utf-8-sig',index=False,header=False) \n",
        "files.download('submission.csv')\n"
      ]
    }
  ],
  "metadata": {
    "colab": {
      "collapsed_sections": [],
      "name": "DrugPrediction.ipynb",
      "provenance": [],
      "toc_visible": true,
      "mount_file_id": "1pS-w50I2Qd-oq5KBHUA75W0cQ0-88aN5",
      "authorship_tag": "ABX9TyPFWOMoOZ87+Coxe+EfhCNs",
      "include_colab_link": true
    },
    "kernelspec": {
      "display_name": "Python 3",
      "name": "python3"
    },
    "language_info": {
      "name": "python"
    }
  },
  "nbformat": 4,
  "nbformat_minor": 0
}