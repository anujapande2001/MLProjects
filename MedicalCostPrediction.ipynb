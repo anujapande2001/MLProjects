{
  "cells": [
    {
      "cell_type": "markdown",
      "metadata": {
        "id": "view-in-github",
        "colab_type": "text"
      },
      "source": [
        "<a href=\"https://colab.research.google.com/github/anujapande2001/MLProjects/blob/main/MedicalCostPrediction.ipynb\" target=\"_parent\"><img src=\"https://colab.research.google.com/assets/colab-badge.svg\" alt=\"Open In Colab\"/></a>"
      ]
    },
    {
      "cell_type": "markdown",
      "metadata": {
        "id": "mbUUyyvXnlqa"
      },
      "source": [
        "# **Medical Cost Prediction**"
      ]
    },
    {
      "cell_type": "markdown",
      "metadata": {
        "id": "dvyiVV6BtyXP"
      },
      "source": [
        "# **1. Introduction**\n",
        "\n",
        "Your client for this project is an insurance provider.\n",
        "\n",
        "\n",
        "*   XYZ Health Insurance Co. Ltd. is one of the prominent insurance providers in the country.\n",
        "*   They offer impressive health plans and services to cater to the needs of different people.\n",
        "*   The insurance company also provides access to fitness assessment centers, wellness centers, diagnostic centers in addition to hospitalization centers.\n",
        "\n",
        "**Current Scenario**\n",
        "\n",
        "The company is planning to introduce a new system that will help to easily monitor and predict the medical insurance prices of their customers.\n",
        "\n",
        "\n",
        "\n",
        "\n",
        "\n",
        "\n",
        "\n"
      ]
    },
    {
      "cell_type": "markdown",
      "metadata": {
        "id": "gX90YgYpuR-v"
      },
      "source": [
        "# **2. Problem Statement**\n",
        "**The current process suffers from the following problems:**\n",
        "\n",
        "*   The company uses manpower to predict the medical expenses of its insurers. Many factors are considered such as age, BMI, smoking habits, number of children, etc.\n",
        "*   The company plans to modernize its legacy systems and wants to implement an automated way of predicting the medical expenses of its insurers based on various factors.\n",
        "\n",
        "The company has hired you as data science consultants. They want to automate the process of assigning the drug according to their health report.\n",
        "\n",
        "**Your Role**\n",
        "*   You are given a historical dataset that contains the medical charges of some of the insurers and many factors that determine those charges.\n",
        "*   Your task is to build a regression model using the dataset.\n",
        "*   Because there was no machine learning model for this problem in the company, you don’t have a quantifiable win condition. You need to build the best possible model.\n"
      ]
    },
    {
      "cell_type": "markdown",
      "metadata": {
        "id": "ZSi_m9jinvW6"
      },
      "source": [
        "# **3. Import Libraries**"
      ]
    },
    {
      "cell_type": "code",
      "execution_count": null,
      "metadata": {
        "id": "ep7ACXYQoYxW"
      },
      "outputs": [],
      "source": [
        "import numpy as np\n",
        "import pandas as pd\n",
        "import matplotlib.pyplot as plt\n",
        "import seaborn as sns\n",
        "from sklearn.preprocessing import LabelEncoder, MinMaxScaler, StandardScaler,RobustScaler\n",
        "# import sklearn.linear_model.LogisticRegression as LogisticRegression\n",
        "from sklearn.linear_model import LinearRegression\n",
        "from sklearn.tree import DecisionTreeRegressor\n",
        "from sklearn.ensemble import RandomForestRegressor\n",
        "from sklearn.model_selection import train_test_split\n",
        "from sklearn.metrics import r2_score\n",
        "from sklearn.impute import KNNImputer\n",
        "from sklearn.model_selection import GridSearchCV, RandomizedSearchCV\n",
        "import warnings\n",
        "warnings.filterwarnings(action=\"ignore\")\n",
        "\n",
        "from sklearn.utils import shuffle\n",
        "\n",
        "from sklearn.compose import make_column_transformer\n",
        "from sklearn.pipeline import make_pipeline\n",
        "from sklearn.model_selection import cross_validate,KFold\n",
        "from sklearn.preprocessing import OneHotEncoder"
      ]
    },
    {
      "cell_type": "markdown",
      "metadata": {
        "id": "9wyH0OUkqx_K"
      },
      "source": [
        "# **4. Data Acquisition & Description**"
      ]
    },
    {
      "cell_type": "code",
      "execution_count": null,
      "metadata": {
        "colab": {
          "base_uri": "https://localhost:8080/",
          "height": 363
        },
        "id": "TdzuCZajq2h3",
        "outputId": "88d227e3-fbda-47e6-9c63-f0ed903d6e2d"
      },
      "outputs": [
        {
          "output_type": "execute_result",
          "data": {
            "text/plain": [
              "   age     sex     bmi  children smoker     region    id      charges\n",
              "0   24    male  23.655         0     no  northwest   693   2352.96845\n",
              "1   28  female  26.510         2     no  southeast  1297   4340.44090\n",
              "2   51    male  39.700         1     no  southwest   634   9391.34600\n",
              "3   47    male  36.080         1    yes  southeast  1022  42211.13820\n",
              "4   46  female  28.900         2     no  southwest   178   8823.27900\n",
              "5   63  female  26.220         0     no  northwest   287  14256.19280\n",
              "6   38  female  19.950         2     no  northeast  1290   7133.90250\n",
              "7   28  female  26.315         3     no  northwest  1113   5312.16985\n",
              "8   25    male  26.800         3     no  southwest   294   3906.12700\n",
              "9   18  female  30.115         0     no  northeast   471   2203.47185"
            ],
            "text/html": [
              "\n",
              "  <div id=\"df-d8e82011-650d-4128-86f0-5731f4b3d4ca\">\n",
              "    <div class=\"colab-df-container\">\n",
              "      <div>\n",
              "<style scoped>\n",
              "    .dataframe tbody tr th:only-of-type {\n",
              "        vertical-align: middle;\n",
              "    }\n",
              "\n",
              "    .dataframe tbody tr th {\n",
              "        vertical-align: top;\n",
              "    }\n",
              "\n",
              "    .dataframe thead th {\n",
              "        text-align: right;\n",
              "    }\n",
              "</style>\n",
              "<table border=\"1\" class=\"dataframe\">\n",
              "  <thead>\n",
              "    <tr style=\"text-align: right;\">\n",
              "      <th></th>\n",
              "      <th>age</th>\n",
              "      <th>sex</th>\n",
              "      <th>bmi</th>\n",
              "      <th>children</th>\n",
              "      <th>smoker</th>\n",
              "      <th>region</th>\n",
              "      <th>id</th>\n",
              "      <th>charges</th>\n",
              "    </tr>\n",
              "  </thead>\n",
              "  <tbody>\n",
              "    <tr>\n",
              "      <th>0</th>\n",
              "      <td>24</td>\n",
              "      <td>male</td>\n",
              "      <td>23.655</td>\n",
              "      <td>0</td>\n",
              "      <td>no</td>\n",
              "      <td>northwest</td>\n",
              "      <td>693</td>\n",
              "      <td>2352.96845</td>\n",
              "    </tr>\n",
              "    <tr>\n",
              "      <th>1</th>\n",
              "      <td>28</td>\n",
              "      <td>female</td>\n",
              "      <td>26.510</td>\n",
              "      <td>2</td>\n",
              "      <td>no</td>\n",
              "      <td>southeast</td>\n",
              "      <td>1297</td>\n",
              "      <td>4340.44090</td>\n",
              "    </tr>\n",
              "    <tr>\n",
              "      <th>2</th>\n",
              "      <td>51</td>\n",
              "      <td>male</td>\n",
              "      <td>39.700</td>\n",
              "      <td>1</td>\n",
              "      <td>no</td>\n",
              "      <td>southwest</td>\n",
              "      <td>634</td>\n",
              "      <td>9391.34600</td>\n",
              "    </tr>\n",
              "    <tr>\n",
              "      <th>3</th>\n",
              "      <td>47</td>\n",
              "      <td>male</td>\n",
              "      <td>36.080</td>\n",
              "      <td>1</td>\n",
              "      <td>yes</td>\n",
              "      <td>southeast</td>\n",
              "      <td>1022</td>\n",
              "      <td>42211.13820</td>\n",
              "    </tr>\n",
              "    <tr>\n",
              "      <th>4</th>\n",
              "      <td>46</td>\n",
              "      <td>female</td>\n",
              "      <td>28.900</td>\n",
              "      <td>2</td>\n",
              "      <td>no</td>\n",
              "      <td>southwest</td>\n",
              "      <td>178</td>\n",
              "      <td>8823.27900</td>\n",
              "    </tr>\n",
              "    <tr>\n",
              "      <th>5</th>\n",
              "      <td>63</td>\n",
              "      <td>female</td>\n",
              "      <td>26.220</td>\n",
              "      <td>0</td>\n",
              "      <td>no</td>\n",
              "      <td>northwest</td>\n",
              "      <td>287</td>\n",
              "      <td>14256.19280</td>\n",
              "    </tr>\n",
              "    <tr>\n",
              "      <th>6</th>\n",
              "      <td>38</td>\n",
              "      <td>female</td>\n",
              "      <td>19.950</td>\n",
              "      <td>2</td>\n",
              "      <td>no</td>\n",
              "      <td>northeast</td>\n",
              "      <td>1290</td>\n",
              "      <td>7133.90250</td>\n",
              "    </tr>\n",
              "    <tr>\n",
              "      <th>7</th>\n",
              "      <td>28</td>\n",
              "      <td>female</td>\n",
              "      <td>26.315</td>\n",
              "      <td>3</td>\n",
              "      <td>no</td>\n",
              "      <td>northwest</td>\n",
              "      <td>1113</td>\n",
              "      <td>5312.16985</td>\n",
              "    </tr>\n",
              "    <tr>\n",
              "      <th>8</th>\n",
              "      <td>25</td>\n",
              "      <td>male</td>\n",
              "      <td>26.800</td>\n",
              "      <td>3</td>\n",
              "      <td>no</td>\n",
              "      <td>southwest</td>\n",
              "      <td>294</td>\n",
              "      <td>3906.12700</td>\n",
              "    </tr>\n",
              "    <tr>\n",
              "      <th>9</th>\n",
              "      <td>18</td>\n",
              "      <td>female</td>\n",
              "      <td>30.115</td>\n",
              "      <td>0</td>\n",
              "      <td>no</td>\n",
              "      <td>northeast</td>\n",
              "      <td>471</td>\n",
              "      <td>2203.47185</td>\n",
              "    </tr>\n",
              "  </tbody>\n",
              "</table>\n",
              "</div>\n",
              "      <button class=\"colab-df-convert\" onclick=\"convertToInteractive('df-d8e82011-650d-4128-86f0-5731f4b3d4ca')\"\n",
              "              title=\"Convert this dataframe to an interactive table.\"\n",
              "              style=\"display:none;\">\n",
              "        \n",
              "  <svg xmlns=\"http://www.w3.org/2000/svg\" height=\"24px\"viewBox=\"0 0 24 24\"\n",
              "       width=\"24px\">\n",
              "    <path d=\"M0 0h24v24H0V0z\" fill=\"none\"/>\n",
              "    <path d=\"M18.56 5.44l.94 2.06.94-2.06 2.06-.94-2.06-.94-.94-2.06-.94 2.06-2.06.94zm-11 1L8.5 8.5l.94-2.06 2.06-.94-2.06-.94L8.5 2.5l-.94 2.06-2.06.94zm10 10l.94 2.06.94-2.06 2.06-.94-2.06-.94-.94-2.06-.94 2.06-2.06.94z\"/><path d=\"M17.41 7.96l-1.37-1.37c-.4-.4-.92-.59-1.43-.59-.52 0-1.04.2-1.43.59L10.3 9.45l-7.72 7.72c-.78.78-.78 2.05 0 2.83L4 21.41c.39.39.9.59 1.41.59.51 0 1.02-.2 1.41-.59l7.78-7.78 2.81-2.81c.8-.78.8-2.07 0-2.86zM5.41 20L4 18.59l7.72-7.72 1.47 1.35L5.41 20z\"/>\n",
              "  </svg>\n",
              "      </button>\n",
              "      \n",
              "  <style>\n",
              "    .colab-df-container {\n",
              "      display:flex;\n",
              "      flex-wrap:wrap;\n",
              "      gap: 12px;\n",
              "    }\n",
              "\n",
              "    .colab-df-convert {\n",
              "      background-color: #E8F0FE;\n",
              "      border: none;\n",
              "      border-radius: 50%;\n",
              "      cursor: pointer;\n",
              "      display: none;\n",
              "      fill: #1967D2;\n",
              "      height: 32px;\n",
              "      padding: 0 0 0 0;\n",
              "      width: 32px;\n",
              "    }\n",
              "\n",
              "    .colab-df-convert:hover {\n",
              "      background-color: #E2EBFA;\n",
              "      box-shadow: 0px 1px 2px rgba(60, 64, 67, 0.3), 0px 1px 3px 1px rgba(60, 64, 67, 0.15);\n",
              "      fill: #174EA6;\n",
              "    }\n",
              "\n",
              "    [theme=dark] .colab-df-convert {\n",
              "      background-color: #3B4455;\n",
              "      fill: #D2E3FC;\n",
              "    }\n",
              "\n",
              "    [theme=dark] .colab-df-convert:hover {\n",
              "      background-color: #434B5C;\n",
              "      box-shadow: 0px 1px 3px 1px rgba(0, 0, 0, 0.15);\n",
              "      filter: drop-shadow(0px 1px 2px rgba(0, 0, 0, 0.3));\n",
              "      fill: #FFFFFF;\n",
              "    }\n",
              "  </style>\n",
              "\n",
              "      <script>\n",
              "        const buttonEl =\n",
              "          document.querySelector('#df-d8e82011-650d-4128-86f0-5731f4b3d4ca button.colab-df-convert');\n",
              "        buttonEl.style.display =\n",
              "          google.colab.kernel.accessAllowed ? 'block' : 'none';\n",
              "\n",
              "        async function convertToInteractive(key) {\n",
              "          const element = document.querySelector('#df-d8e82011-650d-4128-86f0-5731f4b3d4ca');\n",
              "          const dataTable =\n",
              "            await google.colab.kernel.invokeFunction('convertToInteractive',\n",
              "                                                     [key], {});\n",
              "          if (!dataTable) return;\n",
              "\n",
              "          const docLinkHtml = 'Like what you see? Visit the ' +\n",
              "            '<a target=\"_blank\" href=https://colab.research.google.com/notebooks/data_table.ipynb>data table notebook</a>'\n",
              "            + ' to learn more about interactive tables.';\n",
              "          element.innerHTML = '';\n",
              "          dataTable['output_type'] = 'display_data';\n",
              "          await google.colab.output.renderOutput(dataTable, element);\n",
              "          const docLink = document.createElement('div');\n",
              "          docLink.innerHTML = docLinkHtml;\n",
              "          element.appendChild(docLink);\n",
              "        }\n",
              "      </script>\n",
              "    </div>\n",
              "  </div>\n",
              "  "
            ]
          },
          "metadata": {},
          "execution_count": 44
        }
      ],
      "source": [
        "data=pd.read_csv(\"/content/drive/MyDrive/TermProjects/MedicalCost/train_data.csv\")\n",
        "dataValidation=pd.read_csv(\"/content/drive/MyDrive/TermProjects/MedicalCost/test_data.csv\")\n",
        "dataValidationId=dataValidation.id\n",
        "data.head(10)\n",
        "\n"
      ]
    },
    {
      "cell_type": "markdown",
      "metadata": {
        "id": "-P_YkAAs0Ts7"
      },
      "source": [
        "### **4.1 Data Information**\n",
        "\n",
        "- In this section we will see the **information about the types of the features**.\n",
        "\n",
        "\n"
      ]
    },
    {
      "cell_type": "code",
      "execution_count": null,
      "metadata": {
        "colab": {
          "base_uri": "https://localhost:8080/"
        },
        "id": "pZX6dan9TsSm",
        "outputId": "e0d41100-cf5d-4a80-9278-f7dd798dfe89"
      },
      "outputs": [
        {
          "output_type": "stream",
          "name": "stdout",
          "text": [
            "<class 'pandas.core.frame.DataFrame'>\n",
            "RangeIndex: 1003 entries, 0 to 1002\n",
            "Data columns (total 8 columns):\n",
            " #   Column    Non-Null Count  Dtype  \n",
            "---  ------    --------------  -----  \n",
            " 0   age       1003 non-null   int64  \n",
            " 1   sex       1003 non-null   object \n",
            " 2   bmi       1003 non-null   float64\n",
            " 3   children  1003 non-null   int64  \n",
            " 4   smoker    1003 non-null   object \n",
            " 5   region    1003 non-null   object \n",
            " 6   id        1003 non-null   int64  \n",
            " 7   charges   1003 non-null   float64\n",
            "dtypes: float64(2), int64(3), object(3)\n",
            "memory usage: 62.8+ KB\n"
          ]
        }
      ],
      "source": [
        "data.info()"
      ]
    },
    {
      "cell_type": "markdown",
      "metadata": {
        "id": "Jam2Htnau66p"
      },
      "source": [
        "### **4.2 Data Description**\n",
        "\n",
        "- In this section we will get **information about the data** and see some observations."
      ]
    },
    {
      "cell_type": "code",
      "execution_count": null,
      "metadata": {
        "colab": {
          "base_uri": "https://localhost:8080/",
          "height": 300
        },
        "id": "V_HJHvTpvAFX",
        "outputId": "05e85dcf-e355-4f41-a7b6-4bcdb483821e"
      },
      "outputs": [
        {
          "output_type": "execute_result",
          "data": {
            "text/plain": [
              "               age          bmi     children           id       charges\n",
              "count  1003.000000  1003.000000  1003.000000  1003.000000   1003.000000\n",
              "mean     39.255234    30.511780     1.104686   666.874377  13267.935817\n",
              "std      14.039105     6.013107     1.204619   386.570442  12051.356547\n",
              "min      18.000000    15.960000     0.000000     0.000000   1121.873900\n",
              "25%      27.000000    26.210000     0.000000   329.500000   4780.839400\n",
              "50%      39.000000    30.200000     1.000000   675.000000   9447.382400\n",
              "75%      51.000000    34.430000     2.000000  1001.500000  16840.667970\n",
              "max      64.000000    53.130000     5.000000  1337.000000  62592.873090"
            ],
            "text/html": [
              "\n",
              "  <div id=\"df-c674f0c6-c02b-47dd-b4d2-bcef6cc235d6\">\n",
              "    <div class=\"colab-df-container\">\n",
              "      <div>\n",
              "<style scoped>\n",
              "    .dataframe tbody tr th:only-of-type {\n",
              "        vertical-align: middle;\n",
              "    }\n",
              "\n",
              "    .dataframe tbody tr th {\n",
              "        vertical-align: top;\n",
              "    }\n",
              "\n",
              "    .dataframe thead th {\n",
              "        text-align: right;\n",
              "    }\n",
              "</style>\n",
              "<table border=\"1\" class=\"dataframe\">\n",
              "  <thead>\n",
              "    <tr style=\"text-align: right;\">\n",
              "      <th></th>\n",
              "      <th>age</th>\n",
              "      <th>bmi</th>\n",
              "      <th>children</th>\n",
              "      <th>id</th>\n",
              "      <th>charges</th>\n",
              "    </tr>\n",
              "  </thead>\n",
              "  <tbody>\n",
              "    <tr>\n",
              "      <th>count</th>\n",
              "      <td>1003.000000</td>\n",
              "      <td>1003.000000</td>\n",
              "      <td>1003.000000</td>\n",
              "      <td>1003.000000</td>\n",
              "      <td>1003.000000</td>\n",
              "    </tr>\n",
              "    <tr>\n",
              "      <th>mean</th>\n",
              "      <td>39.255234</td>\n",
              "      <td>30.511780</td>\n",
              "      <td>1.104686</td>\n",
              "      <td>666.874377</td>\n",
              "      <td>13267.935817</td>\n",
              "    </tr>\n",
              "    <tr>\n",
              "      <th>std</th>\n",
              "      <td>14.039105</td>\n",
              "      <td>6.013107</td>\n",
              "      <td>1.204619</td>\n",
              "      <td>386.570442</td>\n",
              "      <td>12051.356547</td>\n",
              "    </tr>\n",
              "    <tr>\n",
              "      <th>min</th>\n",
              "      <td>18.000000</td>\n",
              "      <td>15.960000</td>\n",
              "      <td>0.000000</td>\n",
              "      <td>0.000000</td>\n",
              "      <td>1121.873900</td>\n",
              "    </tr>\n",
              "    <tr>\n",
              "      <th>25%</th>\n",
              "      <td>27.000000</td>\n",
              "      <td>26.210000</td>\n",
              "      <td>0.000000</td>\n",
              "      <td>329.500000</td>\n",
              "      <td>4780.839400</td>\n",
              "    </tr>\n",
              "    <tr>\n",
              "      <th>50%</th>\n",
              "      <td>39.000000</td>\n",
              "      <td>30.200000</td>\n",
              "      <td>1.000000</td>\n",
              "      <td>675.000000</td>\n",
              "      <td>9447.382400</td>\n",
              "    </tr>\n",
              "    <tr>\n",
              "      <th>75%</th>\n",
              "      <td>51.000000</td>\n",
              "      <td>34.430000</td>\n",
              "      <td>2.000000</td>\n",
              "      <td>1001.500000</td>\n",
              "      <td>16840.667970</td>\n",
              "    </tr>\n",
              "    <tr>\n",
              "      <th>max</th>\n",
              "      <td>64.000000</td>\n",
              "      <td>53.130000</td>\n",
              "      <td>5.000000</td>\n",
              "      <td>1337.000000</td>\n",
              "      <td>62592.873090</td>\n",
              "    </tr>\n",
              "  </tbody>\n",
              "</table>\n",
              "</div>\n",
              "      <button class=\"colab-df-convert\" onclick=\"convertToInteractive('df-c674f0c6-c02b-47dd-b4d2-bcef6cc235d6')\"\n",
              "              title=\"Convert this dataframe to an interactive table.\"\n",
              "              style=\"display:none;\">\n",
              "        \n",
              "  <svg xmlns=\"http://www.w3.org/2000/svg\" height=\"24px\"viewBox=\"0 0 24 24\"\n",
              "       width=\"24px\">\n",
              "    <path d=\"M0 0h24v24H0V0z\" fill=\"none\"/>\n",
              "    <path d=\"M18.56 5.44l.94 2.06.94-2.06 2.06-.94-2.06-.94-.94-2.06-.94 2.06-2.06.94zm-11 1L8.5 8.5l.94-2.06 2.06-.94-2.06-.94L8.5 2.5l-.94 2.06-2.06.94zm10 10l.94 2.06.94-2.06 2.06-.94-2.06-.94-.94-2.06-.94 2.06-2.06.94z\"/><path d=\"M17.41 7.96l-1.37-1.37c-.4-.4-.92-.59-1.43-.59-.52 0-1.04.2-1.43.59L10.3 9.45l-7.72 7.72c-.78.78-.78 2.05 0 2.83L4 21.41c.39.39.9.59 1.41.59.51 0 1.02-.2 1.41-.59l7.78-7.78 2.81-2.81c.8-.78.8-2.07 0-2.86zM5.41 20L4 18.59l7.72-7.72 1.47 1.35L5.41 20z\"/>\n",
              "  </svg>\n",
              "      </button>\n",
              "      \n",
              "  <style>\n",
              "    .colab-df-container {\n",
              "      display:flex;\n",
              "      flex-wrap:wrap;\n",
              "      gap: 12px;\n",
              "    }\n",
              "\n",
              "    .colab-df-convert {\n",
              "      background-color: #E8F0FE;\n",
              "      border: none;\n",
              "      border-radius: 50%;\n",
              "      cursor: pointer;\n",
              "      display: none;\n",
              "      fill: #1967D2;\n",
              "      height: 32px;\n",
              "      padding: 0 0 0 0;\n",
              "      width: 32px;\n",
              "    }\n",
              "\n",
              "    .colab-df-convert:hover {\n",
              "      background-color: #E2EBFA;\n",
              "      box-shadow: 0px 1px 2px rgba(60, 64, 67, 0.3), 0px 1px 3px 1px rgba(60, 64, 67, 0.15);\n",
              "      fill: #174EA6;\n",
              "    }\n",
              "\n",
              "    [theme=dark] .colab-df-convert {\n",
              "      background-color: #3B4455;\n",
              "      fill: #D2E3FC;\n",
              "    }\n",
              "\n",
              "    [theme=dark] .colab-df-convert:hover {\n",
              "      background-color: #434B5C;\n",
              "      box-shadow: 0px 1px 3px 1px rgba(0, 0, 0, 0.15);\n",
              "      filter: drop-shadow(0px 1px 2px rgba(0, 0, 0, 0.3));\n",
              "      fill: #FFFFFF;\n",
              "    }\n",
              "  </style>\n",
              "\n",
              "      <script>\n",
              "        const buttonEl =\n",
              "          document.querySelector('#df-c674f0c6-c02b-47dd-b4d2-bcef6cc235d6 button.colab-df-convert');\n",
              "        buttonEl.style.display =\n",
              "          google.colab.kernel.accessAllowed ? 'block' : 'none';\n",
              "\n",
              "        async function convertToInteractive(key) {\n",
              "          const element = document.querySelector('#df-c674f0c6-c02b-47dd-b4d2-bcef6cc235d6');\n",
              "          const dataTable =\n",
              "            await google.colab.kernel.invokeFunction('convertToInteractive',\n",
              "                                                     [key], {});\n",
              "          if (!dataTable) return;\n",
              "\n",
              "          const docLinkHtml = 'Like what you see? Visit the ' +\n",
              "            '<a target=\"_blank\" href=https://colab.research.google.com/notebooks/data_table.ipynb>data table notebook</a>'\n",
              "            + ' to learn more about interactive tables.';\n",
              "          element.innerHTML = '';\n",
              "          dataTable['output_type'] = 'display_data';\n",
              "          await google.colab.output.renderOutput(dataTable, element);\n",
              "          const docLink = document.createElement('div');\n",
              "          docLink.innerHTML = docLinkHtml;\n",
              "          element.appendChild(docLink);\n",
              "        }\n",
              "      </script>\n",
              "    </div>\n",
              "  </div>\n",
              "  "
            ]
          },
          "metadata": {},
          "execution_count": 4
        }
      ],
      "source": [
        "data.describe()"
      ]
    },
    {
      "cell_type": "markdown",
      "metadata": {
        "id": "F7YcCXduvH-g"
      },
      "source": [
        "# **5. Data Pre-Processing**"
      ]
    },
    {
      "cell_type": "markdown",
      "metadata": {
        "id": "_kzy3wBAv35Q"
      },
      "source": [
        "### **5.1 Data Pre-Profiling**"
      ]
    },
    {
      "cell_type": "markdown",
      "metadata": {
        "id": "uNysza08YqGh"
      },
      "source": [
        "**Check null value or any other inconsistent value in column**"
      ]
    },
    {
      "cell_type": "code",
      "execution_count": null,
      "metadata": {
        "colab": {
          "base_uri": "https://localhost:8080/"
        },
        "id": "t8DTnc4XYuVx",
        "outputId": "dc02ffed-fb0d-48ed-8515-2608f650a8e2"
      },
      "outputs": [
        {
          "output_type": "execute_result",
          "data": {
            "text/plain": [
              "age           0\n",
              "sex           0\n",
              "bmi           0\n",
              "children    425\n",
              "smoker        0\n",
              "region        0\n",
              "id            1\n",
              "charges       0\n",
              "dtype: int64"
            ]
          },
          "metadata": {},
          "execution_count": 5
        }
      ],
      "source": [
        "(data==0).sum()"
      ]
    },
    {
      "cell_type": "code",
      "execution_count": null,
      "metadata": {
        "colab": {
          "base_uri": "https://localhost:8080/"
        },
        "id": "KsbvgTruv_Se",
        "outputId": "411efdba-9e19-4df8-e630-3ab626d56643"
      },
      "outputs": [
        {
          "output_type": "execute_result",
          "data": {
            "text/plain": [
              "age         0\n",
              "sex         0\n",
              "bmi         0\n",
              "children    0\n",
              "smoker      0\n",
              "region      0\n",
              "id          0\n",
              "charges     0\n",
              "dtype: int64"
            ]
          },
          "metadata": {},
          "execution_count": 6
        }
      ],
      "source": [
        "data.isna().sum()"
      ]
    },
    {
      "cell_type": "code",
      "execution_count": null,
      "metadata": {
        "colab": {
          "base_uri": "https://localhost:8080/"
        },
        "id": "ogrm7FthwCY3",
        "outputId": "9535257d-b540-4ab8-c45e-8d71f587608a"
      },
      "outputs": [
        {
          "output_type": "execute_result",
          "data": {
            "text/plain": [
              "age         0\n",
              "sex         0\n",
              "bmi         0\n",
              "children    0\n",
              "smoker      0\n",
              "region      0\n",
              "id          0\n",
              "charges     0\n",
              "dtype: int64"
            ]
          },
          "metadata": {},
          "execution_count": 7
        }
      ],
      "source": [
        "(data==\"Unknown\").sum()"
      ]
    },
    {
      "cell_type": "code",
      "execution_count": null,
      "metadata": {
        "colab": {
          "base_uri": "https://localhost:8080/"
        },
        "id": "elAvWKjmwL-R",
        "outputId": "1d4284ab-ffee-4399-cef0-b19a077ed969"
      },
      "outputs": [
        {
          "output_type": "execute_result",
          "data": {
            "text/plain": [
              "False"
            ]
          },
          "metadata": {},
          "execution_count": 8
        }
      ],
      "source": [
        "data.duplicated().any()"
      ]
    },
    {
      "cell_type": "markdown",
      "metadata": {
        "id": "DEEsdQoLzmzX"
      },
      "source": [
        "### **5.2 Data Cleaning**\n",
        "\n",
        "- N/A"
      ]
    },
    {
      "cell_type": "markdown",
      "metadata": {
        "id": "LLfz81jNDxl4"
      },
      "source": [
        "# **6. Exploratory Data Analysis**"
      ]
    },
    {
      "cell_type": "markdown",
      "metadata": {
        "id": "OTVPcvGtC7MZ"
      },
      "source": [
        "### **Detect Outliers and distribution of numerical features**"
      ]
    },
    {
      "cell_type": "code",
      "execution_count": null,
      "metadata": {
        "colab": {
          "base_uri": "https://localhost:8080/",
          "height": 979
        },
        "id": "OG7ahFxKhorY",
        "outputId": "09534dde-3078-4735-a3d8-f3e12befff98"
      },
      "outputs": [
        {
          "output_type": "display_data",
          "data": {
            "text/plain": [
              "<Figure size 1080x360 with 2 Axes>"
            ],
            "image/png": "[encoded data removed]"
          },
          "metadata": {
            "needs_background": "light"
          }
        },
        {
          "output_type": "display_data",
          "data": {
            "text/plain": [
              "<Figure size 1080x360 with 2 Axes>"
            ],
            "image/png": "[encoded data removed]"
          },
          "metadata": {
            "needs_background": "light"
          }
        },
        {
          "output_type": "display_data",
          "data": {
            "text/plain": [
              "<Figure size 1080x360 with 2 Axes>"
            ],
            "image/png": "[encoded data removed]"
          },
          "metadata": {
            "needs_background": "light"
          }
        }
      ],
      "source": [
        "Contcolumn=[\"age\",\"bmi\",\"charges\"]\n",
        "for col in Contcolumn:\n",
        "  fig=plt.figure(figsize=[15,5])\n",
        "  plt.subplot(1,2,1)\n",
        "  sns.distplot(data[col], color=\"b\")\n",
        "  plt.axvline(data[col].mean(), color=\"r\")\n",
        "  plt.axvline(data[col].median(), color=\"g\")\n",
        "  plt.subplot(1,2,2)\n",
        "  data.boxplot(column=col)\n",
        "\n"
      ]
    },
    {
      "cell_type": "markdown",
      "metadata": {
        "id": "ac5CFVgWb8iq"
      },
      "source": [
        "### **Check the distribution of categorical features**"
      ]
    },
    {
      "cell_type": "code",
      "execution_count": null,
      "metadata": {
        "colab": {
          "base_uri": "https://localhost:8080/",
          "height": 744
        },
        "id": "SLYPVxzxO8NA",
        "outputId": "c56157e7-a45e-40dc-fcd5-bc3534e2324b"
      },
      "outputs": [
        {
          "output_type": "execute_result",
          "data": {
            "text/plain": [
              "<matplotlib.axes._subplots.AxesSubplot at 0x7fcd5f2a6fd0>"
            ]
          },
          "metadata": {},
          "execution_count": 10
        },
        {
          "output_type": "display_data",
          "data": {
            "text/plain": [
              "<Figure size 1440x1080 with 7 Axes>"
            ],
            "image/png": "[encoded data removed]"
          },
          "metadata": {
            "needs_background": "light"
          }
        }
      ],
      "source": [
        "fig=plt.figure(figsize=[20,15])\n",
        "plt.subplot(3,3,1)\n",
        "sns.histplot(x=\"age\",bins=np.arange(10,80,10), data=data)\n",
        "# plt.xticks(rotation=45)\n",
        "plt.subplot(3,3,2)\n",
        "sns.countplot(x=\"sex\",data=data)\n",
        "\n",
        "plt.subplot(3,3,3)\n",
        "sns.countplot(x=\"smoker\",data=data)\n",
        "\n",
        "plt.subplot(3,3,4)\n",
        "sns.countplot(x=\"children\",data=data)\n",
        "\n",
        "plt.subplot(3,3,5)\n",
        "sns.countplot(x=\"region\",data=data)\n",
        "\n",
        "plt.subplot(3,3,6)\n",
        "sns.histplot(x=\"bmi\",bins=np.arange(10,70,10), data=data)\n",
        "\n",
        "plt.subplot(3,3,(7,8))\n",
        "sns.histplot(x=\"charges\",bins=30, data=data)\n",
        "\n"
      ]
    },
    {
      "cell_type": "markdown",
      "metadata": {
        "id": "KByXBf2c0LRv"
      },
      "source": [
        "### **Analyzing Charges Vs Other Parameters**"
      ]
    },
    {
      "cell_type": "code",
      "execution_count": null,
      "metadata": {
        "colab": {
          "base_uri": "https://localhost:8080/",
          "height": 638
        },
        "id": "f6WJbBmf1DQX",
        "outputId": "6589cf2f-64cb-4950-baf7-1312a7ead498"
      },
      "outputs": [
        {
          "output_type": "execute_result",
          "data": {
            "text/plain": [
              "(array([0, 1, 2, 3]), <a list of 4 Text major ticklabel objects>)"
            ]
          },
          "metadata": {},
          "execution_count": 11
        },
        {
          "output_type": "display_data",
          "data": {
            "text/plain": [
              "<Figure size 1080x720 with 4 Axes>"
            ],
            "image/png": "[encoded data removed]"
          },
          "metadata": {
            "needs_background": "light"
          }
        }
      ],
      "source": [
        "fig=plt.figure(figsize=[15,10])\n",
        "plt.subplot(2,2,1)\n",
        "\n",
        "data.groupby(\"sex\")[\"charges\"].mean().plot.bar()\n",
        "plt.title(\"Avg Medical Cost Sex Wise\")\n",
        "plt.xticks(rotation=0)\n",
        "\n",
        "plt.subplot(2,2,2)\n",
        "data.groupby(\"children\")[\"charges\"].mean().plot.bar()\n",
        "plt.title(\"Avg Medical Cost Children Wise\")\n",
        "plt.xticks(rotation=0)\n",
        "\n",
        "plt.subplot(2,2,3)\n",
        "data.groupby(\"smoker\")[\"charges\"].mean().plot.bar()\n",
        "plt.title(\"Avg Medical Cost Smoker Wise\")\n",
        "plt.xticks(rotation=0)\n",
        "\n",
        "plt.subplot(2,2,4)\n",
        "data.groupby(\"region\")[\"charges\"].mean().plot.bar()\n",
        "plt.title(\"Avg Medical Cost Region Wise\")\n",
        "plt.xticks(rotation=0)\n",
        "\n"
      ]
    },
    {
      "cell_type": "markdown",
      "metadata": {
        "id": "2jizwROKmBvk"
      },
      "source": [
        "### **Checking if relationship is linear between input features and target variable**"
      ]
    },
    {
      "cell_type": "code",
      "execution_count": null,
      "metadata": {
        "colab": {
          "base_uri": "https://localhost:8080/",
          "height": 459
        },
        "id": "0ygwcWpumF95",
        "outputId": "c31c4e8a-c63c-4f1a-8b6d-102d82b98b48"
      },
      "outputs": [
        {
          "output_type": "execute_result",
          "data": {
            "text/plain": [
              "<matplotlib.axes._subplots.AxesSubplot at 0x7fcd5fb24450>"
            ]
          },
          "metadata": {},
          "execution_count": 12
        },
        {
          "output_type": "display_data",
          "data": {
            "text/plain": [
              "<Figure size 1080x504 with 2 Axes>"
            ],
            "image/png": "[encoded data removed]"
          },
          "metadata": {
            "needs_background": "light"
          }
        }
      ],
      "source": [
        "fig=plt.figure(figsize=[15,7])\n",
        "plt.subplot(1,2,1)\n",
        "sns.scatterplot(x=\"age\", y=\"charges\",data=data)\n",
        "plt.subplot(1,2,2)\n",
        "sns.scatterplot(x=\"bmi\", y=\"charges\",data=data)"
      ]
    },
    {
      "cell_type": "markdown",
      "metadata": {
        "id": "-St_24-BvIlu"
      },
      "source": [
        "## **Check Multicolinearity**"
      ]
    },
    {
      "cell_type": "code",
      "execution_count": null,
      "metadata": {
        "colab": {
          "base_uri": "https://localhost:8080/",
          "height": 613
        },
        "id": "SHn1N0otgnu8",
        "outputId": "22bcabfb-298e-4362-fdd2-b3273a1f9a2e"
      },
      "outputs": [
        {
          "output_type": "execute_result",
          "data": {
            "text/plain": [
              "<matplotlib.axes._subplots.AxesSubplot at 0x7fcd5f39dc90>"
            ]
          },
          "metadata": {},
          "execution_count": 13
        },
        {
          "output_type": "display_data",
          "data": {
            "text/plain": [
              "<Figure size 1080x720 with 2 Axes>"
            ],
            "image/png": "[encoded data removed]"
          },
          "metadata": {
            "needs_background": "light"
          }
        }
      ],
      "source": [
        "figure=plt.figure(figsize=[15,10])\n",
        "sns.heatmap(data.corr(), cmap=\"Blues\", annot=True,linecolor=\"white\")\n"
      ]
    },
    {
      "cell_type": "markdown",
      "metadata": {
        "id": "6CiaB_TVxssg"
      },
      "source": [
        "# **7. Data Post-Processing**"
      ]
    },
    {
      "cell_type": "markdown",
      "metadata": {
        "id": "mVm8Ej6zxvt_"
      },
      "source": [
        "### **7.1 Data Preparation/Feature Selection**"
      ]
    },
    {
      "cell_type": "code",
      "execution_count": null,
      "metadata": {
        "id": "Y-UxNZdyzjPz"
      },
      "outputs": [],
      "source": [
        "features=[\"age\",\"bmi\",\"children\",\"smoker\",\"region\"]\n",
        "X=data[features]\n",
        "y=data.charges\n",
        "dataValidation=dataValidation[features]\n"
      ]
    },
    {
      "cell_type": "code",
      "execution_count": null,
      "metadata": {
        "colab": {
          "base_uri": "https://localhost:8080/"
        },
        "id": "uNw2WYgt3A2Y",
        "outputId": "f91028a9-7a9b-4426-92db-498a441d674c"
      },
      "outputs": [
        {
          "output_type": "stream",
          "name": "stdout",
          "text": [
            "<class 'pandas.core.frame.DataFrame'>\n",
            "RangeIndex: 1003 entries, 0 to 1002\n",
            "Data columns (total 8 columns):\n",
            " #   Column    Non-Null Count  Dtype  \n",
            "---  ------    --------------  -----  \n",
            " 0   age       1003 non-null   int64  \n",
            " 1   sex       1003 non-null   object \n",
            " 2   bmi       1003 non-null   float64\n",
            " 3   children  1003 non-null   int64  \n",
            " 4   smoker    1003 non-null   object \n",
            " 5   region    1003 non-null   object \n",
            " 6   id        1003 non-null   int64  \n",
            " 7   charges   1003 non-null   float64\n",
            "dtypes: float64(2), int64(3), object(3)\n",
            "memory usage: 62.8+ KB\n"
          ]
        }
      ],
      "source": [
        "data.info()"
      ]
    },
    {
      "cell_type": "markdown",
      "metadata": {
        "id": "bY8PYGrW-7Pr"
      },
      "source": [
        "# **8. Model Development & Evaluation**"
      ]
    },
    {
      "cell_type": "markdown",
      "metadata": {
        "id": "9F7r2Lw0_o4h"
      },
      "source": [
        "## **Linear Regression**"
      ]
    },
    {
      "cell_type": "code",
      "execution_count": null,
      "metadata": {
        "id": "3XKruwu5_IPA",
        "colab": {
          "base_uri": "https://localhost:8080/"
        },
        "outputId": "001701c3-3f3a-46dc-b5e7-1d33f3db8e73"
      },
      "outputs": [
        {
          "output_type": "stream",
          "name": "stdout",
          "text": [
            "fit_time       0.015671\n",
            "score_time     0.008240\n",
            "test_score     0.731833\n",
            "train_score    0.745069\n",
            "dtype: float64\n"
          ]
        }
      ],
      "source": [
        "num_col=[\"age\",\"bmi\",\"children\"]\n",
        "cat_col=[\"smoker\",\"region\"]\n",
        "\n",
        "modelLR=LinearRegression()\n",
        "col_trans=make_column_transformer((OneHotEncoder(),cat_col),(RobustScaler(),num_col))\n",
        "kf=KFold(5,shuffle=True,random_state=1)\n",
        "pipeLR=make_pipeline(col_trans,modelLR)\n",
        "cv_score=cross_validate(pipeLR,X,y,cv=kf,scoring=\"r2\",n_jobs=-1,return_train_score=True)\n",
        "cv_score_df=pd.DataFrame(cv_score)\n",
        "print(cv_score_df.mean())\n",
        "pipeLR.fit(X,y)\n",
        "y_pred=pipeLR.predict(X)\n"
      ]
    },
    {
      "cell_type": "code",
      "source": [
        "sns.regplot(y_pred,y)\n",
        "plt.title(\"Predicted Vs Actual in Train data\")\n",
        "plt.xlabel(\"Predicted Value\")\n",
        "plt.ylabel(\"Actual Value\")"
      ],
      "metadata": {
        "id": "V6Yo9sMC9Wt6"
      },
      "execution_count": null,
      "outputs": []
    },
    {
      "cell_type": "markdown",
      "metadata": {
        "id": "TAbVlJjavWLk"
      },
      "source": [
        "### **Checking Assumption of Linear Regression**"
      ]
    },
    {
      "cell_type": "markdown",
      "metadata": {
        "id": "9cvRy5CDBVMO"
      },
      "source": [
        ""
      ]
    },
    {
      "cell_type": "code",
      "execution_count": null,
      "metadata": {
        "colab": {
          "base_uri": "https://localhost:8080/",
          "height": 367
        },
        "id": "nU9ur51yvXiR",
        "outputId": "baab9811-80c3-4b1d-f4f9-d7dfd12266d2"
      },
      "outputs": [
        {
          "output_type": "execute_result",
          "data": {
            "text/plain": [
              "Text(0.5, 1.0, 'Checking Distribution of Residual in Train Data')"
            ]
          },
          "metadata": {},
          "execution_count": 19
        },
        {
          "output_type": "display_data",
          "data": {
            "text/plain": [
              "<Figure size 1080x360 with 2 Axes>"
            ],
            "image/png": "[encoded data removed]"
          },
          "metadata": {
            "needs_background": "light"
          }
        }
      ],
      "source": [
        "figure=plt.figure(figsize=[15,5])\n",
        "# Checking Homoscedasticity of Residual\n",
        "plt.subplot(1,2,1)\n",
        "\n",
        "plt.scatter(y_pred,y-y_pred)\n",
        "plt.title(\"Checking Homoscedasticity of Residual in Train Data\")\n",
        "plt.xlabel(\"Predicted Value\")\n",
        "plt.ylabel(\"Residual Value\")\n",
        "\n",
        "\n",
        "# Checking Distribution of residual\n",
        "plt.subplot(1,2,2)\n",
        "sns.distplot(y-y_pred)\n",
        "plt.axvline((y-y_pred).mean(), color=\"r\")\n",
        "plt.axvline((y-y_pred).median(), color=\"g\")\n",
        "plt.title(\"Checking Distribution of Residual in Train Data\")\n"
      ]
    },
    {
      "cell_type": "markdown",
      "metadata": {
        "id": "MCMag2HWwXEO"
      },
      "source": [
        "## **Decision Tree Regression**"
      ]
    },
    {
      "cell_type": "markdown",
      "metadata": {
        "id": "ZHnX8QkSO8ec"
      },
      "source": [
        "### **Make Pipeline**"
      ]
    },
    {
      "cell_type": "code",
      "execution_count": null,
      "metadata": {
        "id": "hyeyKyt8PQ7w"
      },
      "outputs": [],
      "source": [
        "col_trans=make_column_transformer((OneHotEncoder(),cat_col),remainder=\"passthrough\")\n",
        "pipeDT=make_pipeline(col_trans,DecisionTreeRegressor(random_state=47))\n",
        "kf=KFold(8,shuffle=True,random_state=1)"
      ]
    },
    {
      "cell_type": "markdown",
      "metadata": {
        "id": "ayHOy2dlRl60"
      },
      "source": [
        "### **Decision Tree Regression-Default Model**"
      ]
    },
    {
      "cell_type": "code",
      "execution_count": null,
      "metadata": {
        "colab": {
          "base_uri": "https://localhost:8080/"
        },
        "id": "qRtQ18jLwbFS",
        "outputId": "e7f1e8b3-eb37-42aa-945a-bec0214a6438"
      },
      "outputs": [
        {
          "output_type": "execute_result",
          "data": {
            "text/plain": [
              "fit_time       0.015449\n",
              "score_time     0.005392\n",
              "test_score     0.661077\n",
              "train_score    0.998921\n",
              "dtype: float64"
            ]
          },
          "metadata": {},
          "execution_count": 24
        }
      ],
      "source": [
        "cv_score=cross_validate(pipeDT,X,y,cv=kf,scoring=\"r2\",n_jobs=-1,return_train_score=True)\n",
        "cv_score_df=pd.DataFrame(cv_score)\n",
        "cv_score_df.mean()\n"
      ]
    },
    {
      "cell_type": "markdown",
      "metadata": {
        "id": "fid_jsJgx_47"
      },
      "source": [
        "### **HyperParameter Tuning of Decision Tree using RandomSearch**"
      ]
    },
    {
      "cell_type": "code",
      "execution_count": null,
      "metadata": {
        "id": "TQMR-fJryBhc"
      },
      "outputs": [],
      "source": [
        "param_list={\n",
        "            \"decisiontreeregressor__criterion\" : [\"squared_error\", \"absolute_error\", \"poisson\"],\n",
        "             \"decisiontreeregressor__splitter\":[\"best\",\"random\"],\n",
        "            \"decisiontreeregressor__max_depth\" : [None,2,3,4,5,6],\n",
        "           \"decisiontreeregressor__min_samples_leaf\":[1,2,3,4,5],\n",
        "            # \"min_samples_split\" :[2,3,4,5],\n",
        "           \"decisiontreeregressor__min_weight_fraction_leaf\":[0.0,0.1,0.2,0.3,0.4,0.5,0.6,0.7],\n",
        "           \"decisiontreeregressor__max_features\":[\"auto\",\"log2\",\"sqrt\",None],\n",
        "           \"decisiontreeregressor__max_leaf_nodes\":[None,10,20,30,40,50]\n",
        "            }\n",
        "\n",
        "modelDTRandomCV=RandomizedSearchCV(pipeDT,param_list,cv=kf,scoring=\"r2\",\n",
        "                                   n_jobs=-1,n_iter=100,return_train_score=True,random_state=15)\n",
        "modelDTRandomCV.fit(X,y)\n",
        "results=pd.DataFrame(modelDTRandomCV.cv_results_)\n"
      ]
    },
    {
      "cell_type": "code",
      "execution_count": null,
      "metadata": {
        "colab": {
          "base_uri": "https://localhost:8080/",
          "height": 441
        },
        "id": "1BYBzNuvMSgt",
        "outputId": "2cb937d4-b408-404a-d42d-0e2079ac49e2"
      },
      "outputs": [
        {
          "output_type": "stream",
          "name": "stdout",
          "text": [
            "0.8369647766283592\n"
          ]
        },
        {
          "output_type": "execute_result",
          "data": {
            "text/plain": [
              "    mean_train_score  mean_test_score\n",
              "52          0.853193         0.836965\n",
              "20          0.859435         0.831345\n",
              "81          0.891183         0.821753\n",
              "66          0.820804         0.807535\n",
              "31          0.809748         0.802462\n",
              "..               ...              ...\n",
              "69               NaN              NaN\n",
              "70               NaN              NaN\n",
              "76               NaN              NaN\n",
              "92               NaN              NaN\n",
              "99               NaN              NaN\n",
              "\n",
              "[100 rows x 2 columns]"
            ],
            "text/html": [
              "\n",
              "  <div id=\"df-9d061961-800a-42ad-a0a1-a9c22f20eae8\">\n",
              "    <div class=\"colab-df-container\">\n",
              "      <div>\n",
              "<style scoped>\n",
              "    .dataframe tbody tr th:only-of-type {\n",
              "        vertical-align: middle;\n",
              "    }\n",
              "\n",
              "    .dataframe tbody tr th {\n",
              "        vertical-align: top;\n",
              "    }\n",
              "\n",
              "    .dataframe thead th {\n",
              "        text-align: right;\n",
              "    }\n",
              "</style>\n",
              "<table border=\"1\" class=\"dataframe\">\n",
              "  <thead>\n",
              "    <tr style=\"text-align: right;\">\n",
              "      <th></th>\n",
              "      <th>mean_train_score</th>\n",
              "      <th>mean_test_score</th>\n",
              "    </tr>\n",
              "  </thead>\n",
              "  <tbody>\n",
              "    <tr>\n",
              "      <th>52</th>\n",
              "      <td>0.853193</td>\n",
              "      <td>0.836965</td>\n",
              "    </tr>\n",
              "    <tr>\n",
              "      <th>20</th>\n",
              "      <td>0.859435</td>\n",
              "      <td>0.831345</td>\n",
              "    </tr>\n",
              "    <tr>\n",
              "      <th>81</th>\n",
              "      <td>0.891183</td>\n",
              "      <td>0.821753</td>\n",
              "    </tr>\n",
              "    <tr>\n",
              "      <th>66</th>\n",
              "      <td>0.820804</td>\n",
              "      <td>0.807535</td>\n",
              "    </tr>\n",
              "    <tr>\n",
              "      <th>31</th>\n",
              "      <td>0.809748</td>\n",
              "      <td>0.802462</td>\n",
              "    </tr>\n",
              "    <tr>\n",
              "      <th>...</th>\n",
              "      <td>...</td>\n",
              "      <td>...</td>\n",
              "    </tr>\n",
              "    <tr>\n",
              "      <th>69</th>\n",
              "      <td>NaN</td>\n",
              "      <td>NaN</td>\n",
              "    </tr>\n",
              "    <tr>\n",
              "      <th>70</th>\n",
              "      <td>NaN</td>\n",
              "      <td>NaN</td>\n",
              "    </tr>\n",
              "    <tr>\n",
              "      <th>76</th>\n",
              "      <td>NaN</td>\n",
              "      <td>NaN</td>\n",
              "    </tr>\n",
              "    <tr>\n",
              "      <th>92</th>\n",
              "      <td>NaN</td>\n",
              "      <td>NaN</td>\n",
              "    </tr>\n",
              "    <tr>\n",
              "      <th>99</th>\n",
              "      <td>NaN</td>\n",
              "      <td>NaN</td>\n",
              "    </tr>\n",
              "  </tbody>\n",
              "</table>\n",
              "<p>100 rows × 2 columns</p>\n",
              "</div>\n",
              "      <button class=\"colab-df-convert\" onclick=\"convertToInteractive('df-9d061961-800a-42ad-a0a1-a9c22f20eae8')\"\n",
              "              title=\"Convert this dataframe to an interactive table.\"\n",
              "              style=\"display:none;\">\n",
              "        \n",
              "  <svg xmlns=\"http://www.w3.org/2000/svg\" height=\"24px\"viewBox=\"0 0 24 24\"\n",
              "       width=\"24px\">\n",
              "    <path d=\"M0 0h24v24H0V0z\" fill=\"none\"/>\n",
              "    <path d=\"M18.56 5.44l.94 2.06.94-2.06 2.06-.94-2.06-.94-.94-2.06-.94 2.06-2.06.94zm-11 1L8.5 8.5l.94-2.06 2.06-.94-2.06-.94L8.5 2.5l-.94 2.06-2.06.94zm10 10l.94 2.06.94-2.06 2.06-.94-2.06-.94-.94-2.06-.94 2.06-2.06.94z\"/><path d=\"M17.41 7.96l-1.37-1.37c-.4-.4-.92-.59-1.43-.59-.52 0-1.04.2-1.43.59L10.3 9.45l-7.72 7.72c-.78.78-.78 2.05 0 2.83L4 21.41c.39.39.9.59 1.41.59.51 0 1.02-.2 1.41-.59l7.78-7.78 2.81-2.81c.8-.78.8-2.07 0-2.86zM5.41 20L4 18.59l7.72-7.72 1.47 1.35L5.41 20z\"/>\n",
              "  </svg>\n",
              "      </button>\n",
              "      \n",
              "  <style>\n",
              "    .colab-df-container {\n",
              "      display:flex;\n",
              "      flex-wrap:wrap;\n",
              "      gap: 12px;\n",
              "    }\n",
              "\n",
              "    .colab-df-convert {\n",
              "      background-color: #E8F0FE;\n",
              "      border: none;\n",
              "      border-radius: 50%;\n",
              "      cursor: pointer;\n",
              "      display: none;\n",
              "      fill: #1967D2;\n",
              "      height: 32px;\n",
              "      padding: 0 0 0 0;\n",
              "      width: 32px;\n",
              "    }\n",
              "\n",
              "    .colab-df-convert:hover {\n",
              "      background-color: #E2EBFA;\n",
              "      box-shadow: 0px 1px 2px rgba(60, 64, 67, 0.3), 0px 1px 3px 1px rgba(60, 64, 67, 0.15);\n",
              "      fill: #174EA6;\n",
              "    }\n",
              "\n",
              "    [theme=dark] .colab-df-convert {\n",
              "      background-color: #3B4455;\n",
              "      fill: #D2E3FC;\n",
              "    }\n",
              "\n",
              "    [theme=dark] .colab-df-convert:hover {\n",
              "      background-color: #434B5C;\n",
              "      box-shadow: 0px 1px 3px 1px rgba(0, 0, 0, 0.15);\n",
              "      filter: drop-shadow(0px 1px 2px rgba(0, 0, 0, 0.3));\n",
              "      fill: #FFFFFF;\n",
              "    }\n",
              "  </style>\n",
              "\n",
              "      <script>\n",
              "        const buttonEl =\n",
              "          document.querySelector('#df-9d061961-800a-42ad-a0a1-a9c22f20eae8 button.colab-df-convert');\n",
              "        buttonEl.style.display =\n",
              "          google.colab.kernel.accessAllowed ? 'block' : 'none';\n",
              "\n",
              "        async function convertToInteractive(key) {\n",
              "          const element = document.querySelector('#df-9d061961-800a-42ad-a0a1-a9c22f20eae8');\n",
              "          const dataTable =\n",
              "            await google.colab.kernel.invokeFunction('convertToInteractive',\n",
              "                                                     [key], {});\n",
              "          if (!dataTable) return;\n",
              "\n",
              "          const docLinkHtml = 'Like what you see? Visit the ' +\n",
              "            '<a target=\"_blank\" href=https://colab.research.google.com/notebooks/data_table.ipynb>data table notebook</a>'\n",
              "            + ' to learn more about interactive tables.';\n",
              "          element.innerHTML = '';\n",
              "          dataTable['output_type'] = 'display_data';\n",
              "          await google.colab.output.renderOutput(dataTable, element);\n",
              "          const docLink = document.createElement('div');\n",
              "          docLink.innerHTML = docLinkHtml;\n",
              "          element.appendChild(docLink);\n",
              "        }\n",
              "      </script>\n",
              "    </div>\n",
              "  </div>\n",
              "  "
            ]
          },
          "metadata": {},
          "execution_count": 26
        }
      ],
      "source": [
        "print(modelDTRandomCV.best_score_ )\n",
        "# print(modelDTRandomCV.best_estimator_)\n",
        "# print(modelDTRandomCV.best_params_)\n",
        "results[[\"mean_train_score\",\"mean_test_score\"]].sort_values(ascending=False,by=\"mean_test_score\")"
      ]
    },
    {
      "cell_type": "markdown",
      "metadata": {
        "id": "b-VVZzASylSL"
      },
      "source": [
        "## **Random Forest**"
      ]
    },
    {
      "cell_type": "markdown",
      "metadata": {
        "id": "PyJsFbydSSLT"
      },
      "source": [
        "### **Make Pipeline**"
      ]
    },
    {
      "cell_type": "code",
      "execution_count": null,
      "metadata": {
        "id": "3UiB04ocSWHQ"
      },
      "outputs": [],
      "source": [
        "pipeRF=make_pipeline(col_trans,RandomForestRegressor(random_state=50))"
      ]
    },
    {
      "cell_type": "markdown",
      "metadata": {
        "id": "XjtHOpyPSnRD"
      },
      "source": [
        "### **Random Forest- Default Model**"
      ]
    },
    {
      "cell_type": "code",
      "execution_count": null,
      "metadata": {
        "colab": {
          "base_uri": "https://localhost:8080/"
        },
        "id": "mxPfBsf2SvFT",
        "outputId": "cae74650-8d21-4f43-abd4-c24ac561c768"
      },
      "outputs": [
        {
          "output_type": "execute_result",
          "data": {
            "text/plain": [
              "fit_time       0.423546\n",
              "score_time     0.023305\n",
              "test_score     0.816064\n",
              "train_score    0.975905\n",
              "dtype: float64"
            ]
          },
          "metadata": {},
          "execution_count": 35
        }
      ],
      "source": [
        "cv_score=cross_validate(pipeRF,X,y,scoring=\"r2\",cv=kf,n_jobs=-1,return_train_score=True)\n",
        "cv_score_df=pd.DataFrame(cv_score)\n",
        "cv_score_df.mean()"
      ]
    },
    {
      "cell_type": "markdown",
      "metadata": {
        "id": "h_HjkQodzBmw"
      },
      "source": [
        "### **Hypertuning of Random Forest using RandomSearchCV**"
      ]
    },
    {
      "cell_type": "code",
      "execution_count": null,
      "metadata": {
        "colab": {
          "base_uri": "https://localhost:8080/",
          "height": 424
        },
        "id": "EKejrjkVzDk7",
        "outputId": "6ce3413b-e52c-47b1-ac10-b64f79a81ec7"
      },
      "outputs": [
        {
          "output_type": "execute_result",
          "data": {
            "text/plain": [
              "     mean_train_score  mean_test_score\n",
              "43           0.864166         0.843197\n",
              "69           0.916925         0.838245\n",
              "99           0.929837         0.834280\n",
              "70           0.848342         0.833949\n",
              "131          0.856822         0.828042\n",
              "..                ...              ...\n",
              "114               NaN              NaN\n",
              "123               NaN              NaN\n",
              "129               NaN              NaN\n",
              "137               NaN              NaN\n",
              "146               NaN              NaN\n",
              "\n",
              "[150 rows x 2 columns]"
            ],
            "text/html": [
              "\n",
              "  <div id=\"df-204b74a1-3019-4972-8487-0f9499620994\">\n",
              "    <div class=\"colab-df-container\">\n",
              "      <div>\n",
              "<style scoped>\n",
              "    .dataframe tbody tr th:only-of-type {\n",
              "        vertical-align: middle;\n",
              "    }\n",
              "\n",
              "    .dataframe tbody tr th {\n",
              "        vertical-align: top;\n",
              "    }\n",
              "\n",
              "    .dataframe thead th {\n",
              "        text-align: right;\n",
              "    }\n",
              "</style>\n",
              "<table border=\"1\" class=\"dataframe\">\n",
              "  <thead>\n",
              "    <tr style=\"text-align: right;\">\n",
              "      <th></th>\n",
              "      <th>mean_train_score</th>\n",
              "      <th>mean_test_score</th>\n",
              "    </tr>\n",
              "  </thead>\n",
              "  <tbody>\n",
              "    <tr>\n",
              "      <th>43</th>\n",
              "      <td>0.864166</td>\n",
              "      <td>0.843197</td>\n",
              "    </tr>\n",
              "    <tr>\n",
              "      <th>69</th>\n",
              "      <td>0.916925</td>\n",
              "      <td>0.838245</td>\n",
              "    </tr>\n",
              "    <tr>\n",
              "      <th>99</th>\n",
              "      <td>0.929837</td>\n",
              "      <td>0.834280</td>\n",
              "    </tr>\n",
              "    <tr>\n",
              "      <th>70</th>\n",
              "      <td>0.848342</td>\n",
              "      <td>0.833949</td>\n",
              "    </tr>\n",
              "    <tr>\n",
              "      <th>131</th>\n",
              "      <td>0.856822</td>\n",
              "      <td>0.828042</td>\n",
              "    </tr>\n",
              "    <tr>\n",
              "      <th>...</th>\n",
              "      <td>...</td>\n",
              "      <td>...</td>\n",
              "    </tr>\n",
              "    <tr>\n",
              "      <th>114</th>\n",
              "      <td>NaN</td>\n",
              "      <td>NaN</td>\n",
              "    </tr>\n",
              "    <tr>\n",
              "      <th>123</th>\n",
              "      <td>NaN</td>\n",
              "      <td>NaN</td>\n",
              "    </tr>\n",
              "    <tr>\n",
              "      <th>129</th>\n",
              "      <td>NaN</td>\n",
              "      <td>NaN</td>\n",
              "    </tr>\n",
              "    <tr>\n",
              "      <th>137</th>\n",
              "      <td>NaN</td>\n",
              "      <td>NaN</td>\n",
              "    </tr>\n",
              "    <tr>\n",
              "      <th>146</th>\n",
              "      <td>NaN</td>\n",
              "      <td>NaN</td>\n",
              "    </tr>\n",
              "  </tbody>\n",
              "</table>\n",
              "<p>150 rows × 2 columns</p>\n",
              "</div>\n",
              "      <button class=\"colab-df-convert\" onclick=\"convertToInteractive('df-204b74a1-3019-4972-8487-0f9499620994')\"\n",
              "              title=\"Convert this dataframe to an interactive table.\"\n",
              "              style=\"display:none;\">\n",
              "        \n",
              "  <svg xmlns=\"http://www.w3.org/2000/svg\" height=\"24px\"viewBox=\"0 0 24 24\"\n",
              "       width=\"24px\">\n",
              "    <path d=\"M0 0h24v24H0V0z\" fill=\"none\"/>\n",
              "    <path d=\"M18.56 5.44l.94 2.06.94-2.06 2.06-.94-2.06-.94-.94-2.06-.94 2.06-2.06.94zm-11 1L8.5 8.5l.94-2.06 2.06-.94-2.06-.94L8.5 2.5l-.94 2.06-2.06.94zm10 10l.94 2.06.94-2.06 2.06-.94-2.06-.94-.94-2.06-.94 2.06-2.06.94z\"/><path d=\"M17.41 7.96l-1.37-1.37c-.4-.4-.92-.59-1.43-.59-.52 0-1.04.2-1.43.59L10.3 9.45l-7.72 7.72c-.78.78-.78 2.05 0 2.83L4 21.41c.39.39.9.59 1.41.59.51 0 1.02-.2 1.41-.59l7.78-7.78 2.81-2.81c.8-.78.8-2.07 0-2.86zM5.41 20L4 18.59l7.72-7.72 1.47 1.35L5.41 20z\"/>\n",
              "  </svg>\n",
              "      </button>\n",
              "      \n",
              "  <style>\n",
              "    .colab-df-container {\n",
              "      display:flex;\n",
              "      flex-wrap:wrap;\n",
              "      gap: 12px;\n",
              "    }\n",
              "\n",
              "    .colab-df-convert {\n",
              "      background-color: #E8F0FE;\n",
              "      border: none;\n",
              "      border-radius: 50%;\n",
              "      cursor: pointer;\n",
              "      display: none;\n",
              "      fill: #1967D2;\n",
              "      height: 32px;\n",
              "      padding: 0 0 0 0;\n",
              "      width: 32px;\n",
              "    }\n",
              "\n",
              "    .colab-df-convert:hover {\n",
              "      background-color: #E2EBFA;\n",
              "      box-shadow: 0px 1px 2px rgba(60, 64, 67, 0.3), 0px 1px 3px 1px rgba(60, 64, 67, 0.15);\n",
              "      fill: #174EA6;\n",
              "    }\n",
              "\n",
              "    [theme=dark] .colab-df-convert {\n",
              "      background-color: #3B4455;\n",
              "      fill: #D2E3FC;\n",
              "    }\n",
              "\n",
              "    [theme=dark] .colab-df-convert:hover {\n",
              "      background-color: #434B5C;\n",
              "      box-shadow: 0px 1px 3px 1px rgba(0, 0, 0, 0.15);\n",
              "      filter: drop-shadow(0px 1px 2px rgba(0, 0, 0, 0.3));\n",
              "      fill: #FFFFFF;\n",
              "    }\n",
              "  </style>\n",
              "\n",
              "      <script>\n",
              "        const buttonEl =\n",
              "          document.querySelector('#df-204b74a1-3019-4972-8487-0f9499620994 button.colab-df-convert');\n",
              "        buttonEl.style.display =\n",
              "          google.colab.kernel.accessAllowed ? 'block' : 'none';\n",
              "\n",
              "        async function convertToInteractive(key) {\n",
              "          const element = document.querySelector('#df-204b74a1-3019-4972-8487-0f9499620994');\n",
              "          const dataTable =\n",
              "            await google.colab.kernel.invokeFunction('convertToInteractive',\n",
              "                                                     [key], {});\n",
              "          if (!dataTable) return;\n",
              "\n",
              "          const docLinkHtml = 'Like what you see? Visit the ' +\n",
              "            '<a target=\"_blank\" href=https://colab.research.google.com/notebooks/data_table.ipynb>data table notebook</a>'\n",
              "            + ' to learn more about interactive tables.';\n",
              "          element.innerHTML = '';\n",
              "          dataTable['output_type'] = 'display_data';\n",
              "          await google.colab.output.renderOutput(dataTable, element);\n",
              "          const docLink = document.createElement('div');\n",
              "          docLink.innerHTML = docLinkHtml;\n",
              "          element.appendChild(docLink);\n",
              "        }\n",
              "      </script>\n",
              "    </div>\n",
              "  </div>\n",
              "  "
            ]
          },
          "metadata": {},
          "execution_count": 36
        }
      ],
      "source": [
        "param_list={\n",
        "            \"randomforestregressor__criterion\" : [\"squared_error\", \"absolute_error\", \"poisson\"],\n",
        "            \"randomforestregressor__max_depth\" : [None,2,3,4,5,6],\n",
        "           \"randomforestregressor__min_samples_leaf\":[1,2,3,4,5],\n",
        "          #  \"min_samples_split\" :[2,3,4,5],\n",
        "           \"randomforestregressor__min_weight_fraction_leaf\":[0.0,0.1,0.2,0.3,0.4,0.5,0.6],\n",
        "           \"randomforestregressor__max_features\":[\"auto\",\"log2\",\"sqrt\",None],\n",
        "             \"randomforestregressor__n_estimators\": [100, 400, 700],\n",
        "           \"randomforestregressor__max_leaf_nodes\":[None,10,20,30,40,50]\n",
        "            }\n",
        "\n",
        "\n",
        "modelRFRandomCV=RandomizedSearchCV(pipeRF,param_list,cv=kf,n_jobs=-1,\n",
        "                                   n_iter=150, random_state=30,return_train_score=True)\n",
        "modelRFRandomCV.fit(X,y)\n",
        "results=pd.DataFrame(modelRFRandomCV.cv_results_)\n",
        "results[[\"mean_train_score\",\"mean_test_score\"]].sort_values(ascending=False,by=\"mean_test_score\")"
      ]
    },
    {
      "cell_type": "markdown",
      "metadata": {
        "id": "j4fMY64xSvHG"
      },
      "source": [
        "## **Predict Output using Test File**"
      ]
    },
    {
      "cell_type": "code",
      "execution_count": null,
      "metadata": {
        "colab": {
          "base_uri": "https://localhost:8080/",
          "height": 17
        },
        "id": "zt3StcgNAZtT",
        "outputId": "1952e615-46ba-47ef-96bd-6fbb4d5cb5d2"
      },
      "outputs": [
        {
          "output_type": "display_data",
          "data": {
            "text/plain": [
              "<IPython.core.display.Javascript object>"
            ],
            "application/javascript": [
              "\n",
              "    async function download(id, filename, size) {\n",
              "      if (!google.colab.kernel.accessAllowed) {\n",
              "        return;\n",
              "      }\n",
              "      const div = document.createElement('div');\n",
              "      const label = document.createElement('label');\n",
              "      label.textContent = `Downloading \"${filename}\": `;\n",
              "      div.appendChild(label);\n",
              "      const progress = document.createElement('progress');\n",
              "      progress.max = size;\n",
              "      div.appendChild(progress);\n",
              "      document.body.appendChild(div);\n",
              "\n",
              "      const buffers = [];\n",
              "      let downloaded = 0;\n",
              "\n",
              "      const channel = await google.colab.kernel.comms.open(id);\n",
              "      // Send a message to notify the kernel that we're ready.\n",
              "      channel.send({})\n",
              "\n",
              "      for await (const message of channel.messages) {\n",
              "        // Send a message to notify the kernel that we're ready.\n",
              "        channel.send({})\n",
              "        if (message.buffers) {\n",
              "          for (const buffer of message.buffers) {\n",
              "            buffers.push(buffer);\n",
              "            downloaded += buffer.byteLength;\n",
              "            progress.value = downloaded;\n",
              "          }\n",
              "        }\n",
              "      }\n",
              "      const blob = new Blob(buffers, {type: 'application/binary'});\n",
              "      const a = document.createElement('a');\n",
              "      a.href = window.URL.createObjectURL(blob);\n",
              "      a.download = filename;\n",
              "      div.appendChild(a);\n",
              "      a.click();\n",
              "      div.remove();\n",
              "    }\n",
              "  "
            ]
          },
          "metadata": {}
        },
        {
          "output_type": "display_data",
          "data": {
            "text/plain": [
              "<IPython.core.display.Javascript object>"
            ],
            "application/javascript": [
              "download(\"download_7ea60747-3851-44f2-ab42-c9cb4aec433a\", \"submission.csv\", 7569)"
            ]
          },
          "metadata": {}
        }
      ],
      "source": [
        "datavalidation_pred=modelRFRandomCV.predict(dataValidation)\n",
        "submission = pd.DataFrame({'Id':dataValidationId,'Charge':datavalidation_pred})\n",
        "from google.colab import files\n",
        "submission.to_csv('submission.csv', encoding = 'utf-8-sig',index=False,header=False) \n",
        "files.download('submission.csv')"
      ]
    }
  ],
  "metadata": {
    "colab": {
      "collapsed_sections": [],
      "name": "Copy of MedicalCostPrediction_pipeline.ipynb",
      "provenance": [],
      "toc_visible": true,
      "mount_file_id": "1NfcxxtKwx1Xx4LAlKtJ6881LCDucUZfQ",
      "authorship_tag": "ABX9TyO1TdQcn56+qn3GvG9m7x4j",
      "include_colab_link": true
    },
    "kernelspec": {
      "display_name": "Python 3",
      "name": "python3"
    },
    "language_info": {
      "name": "python"
    }
  },
  "nbformat": 4,
  "nbformat_minor": 0
}