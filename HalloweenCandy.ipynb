{
  "cells": [
    {
      "cell_type": "markdown",
      "metadata": {
        "id": "view-in-github",
        "colab_type": "text"
      },
      "source": [
        "<a href=\"https://colab.research.google.com/github/anujapande2001/MLProjects/blob/main/HalloweenCandy.ipynb\" target=\"_parent\"><img src=\"https://colab.research.google.com/assets/colab-badge.svg\" alt=\"Open In Colab\"/></a>"
      ]
    },
    {
      "cell_type": "markdown",
      "metadata": {
        "id": "mbUUyyvXnlqa"
      },
      "source": [
        "# **HALLOWEEN CANDY WINPERCENT PREDICTION**"
      ]
    },
    {
      "cell_type": "markdown",
      "metadata": {
        "id": "O-T2JEoL3CKD"
      },
      "source": [
        "# **1. Introduction**\n",
        "\n",
        "\n",
        "**Your client for this project is a Candy Selling Company...**\n",
        "\n",
        "\n",
        "*  This company sells a large variety of candies worldwide..\n",
        "*  They want to supply the highest quality of candies which most people will prefer to receive on halloween.\n",
        "*  To find the most popular candy, they need to analyze different characteristics of the candy as per the data collected through the survey.\n",
        "\n",
        "**Current Scenario:**\n",
        "\n",
        "* It is very tough to know the candies preferred by people to receive on Halloween.\n",
        "\n",
        "* Currently, they estimate the popularity of candies based on their previous sales but this does not give the ideal results.\n",
        "\n",
        "\n",
        "\n",
        "\n"
      ]
    },
    {
      "cell_type": "markdown",
      "metadata": {
        "id": "WWzmoQQbv5Ks"
      },
      "source": [
        "# **2. Problem Statement**\n",
        "**The current process suffers from the following problems:**\n",
        "\n",
        "*   The popularity of candies derived from the previous sales records is not an ideal estimate of actual popularity.\n",
        "*   The sales can also be affected by bulk orders as well and this might not give us the actual popularity.\n",
        "\n",
        "The company has hired you as data science consultants. They want to automate the process of assigning the drug according to their health report.\n",
        "\n",
        "**Your Role**\n",
        "*  You are given a dataset containing 85 different candies and their characteristics in form of features.\n",
        "*  Your task is to build a **REGRESSION** model using the dataset.\n",
        "*  Because there was no machine learning model for this problem in the company, you don’t have a quantifiable win condition. You need to build the best possible model.\n"
      ]
    },
    {
      "cell_type": "markdown",
      "metadata": {
        "id": "ZSi_m9jinvW6"
      },
      "source": [
        "# **3. Import Libraries**"
      ]
    },
    {
      "cell_type": "code",
      "execution_count": 3,
      "metadata": {
        "id": "ep7ACXYQoYxW"
      },
      "outputs": [],
      "source": [
        "import numpy as np\n",
        "import pandas as pd\n",
        "from pandas_profiling import ProfileReport \n",
        "import matplotlib.pyplot as plt\n",
        "%matplotlib inline\n",
        "import seaborn as sns\n",
        "import warnings\n",
        "warnings.filterwarnings(action=\"ignore\")\n"
      ]
    },
    {
      "cell_type": "markdown",
      "metadata": {
        "id": "9wyH0OUkqx_K"
      },
      "source": [
        "# **4. Data Acquisition & Description**"
      ]
    },
    {
      "cell_type": "code",
      "execution_count": 4,
      "metadata": {
        "colab": {
          "base_uri": "https://localhost:8080/",
          "height": 287
        },
        "id": "TdzuCZajq2h3",
        "outputId": "e0748a01-c847-4ddf-ab62-d001baba5a3b"
      },
      "outputs": [
        {
          "output_type": "execute_result",
          "data": {
            "text/plain": [
              "             competitorname  chocolate  fruity  caramel  peanutyalmondy  \\\n",
              "0               Sugar Daddy          0       0        1               0   \n",
              "1  Milky Way Simply Caramel          1       0        1               0   \n",
              "2                      Dots          0       1        0               0   \n",
              "3            ReeseÕs pieces          1       0        0               1   \n",
              "4         Skittles original          0       1        0               0   \n",
              "\n",
              "   nougat  crispedricewafer  hard  bar  pluribus  sugarpercent  pricepercent  \\\n",
              "0       0                 0     0    0         0         0.418         0.325   \n",
              "1       0                 0     0    1         0         0.965         0.860   \n",
              "2       0                 0     0    0         1         0.732         0.511   \n",
              "3       0                 0     0    0         1         0.406         0.651   \n",
              "4       0                 0     0    0         1         0.941         0.220   \n",
              "\n",
              "   winpercent  \n",
              "0   32.230995  \n",
              "1   64.353340  \n",
              "2   42.272076  \n",
              "3   73.434990  \n",
              "4   63.085140  "
            ],
            "text/html": [
              "\n",
              "  <div id=\"df-47d9fd95-e031-4b9b-9cbc-8ee0c81ccedb\">\n",
              "    <div class=\"colab-df-container\">\n",
              "      <div>\n",
              "<style scoped>\n",
              "    .dataframe tbody tr th:only-of-type {\n",
              "        vertical-align: middle;\n",
              "    }\n",
              "\n",
              "    .dataframe tbody tr th {\n",
              "        vertical-align: top;\n",
              "    }\n",
              "\n",
              "    .dataframe thead th {\n",
              "        text-align: right;\n",
              "    }\n",
              "</style>\n",
              "<table border=\"1\" class=\"dataframe\">\n",
              "  <thead>\n",
              "    <tr style=\"text-align: right;\">\n",
              "      <th></th>\n",
              "      <th>competitorname</th>\n",
              "      <th>chocolate</th>\n",
              "      <th>fruity</th>\n",
              "      <th>caramel</th>\n",
              "      <th>peanutyalmondy</th>\n",
              "      <th>nougat</th>\n",
              "      <th>crispedricewafer</th>\n",
              "      <th>hard</th>\n",
              "      <th>bar</th>\n",
              "      <th>pluribus</th>\n",
              "      <th>sugarpercent</th>\n",
              "      <th>pricepercent</th>\n",
              "      <th>winpercent</th>\n",
              "    </tr>\n",
              "  </thead>\n",
              "  <tbody>\n",
              "    <tr>\n",
              "      <th>0</th>\n",
              "      <td>Sugar Daddy</td>\n",
              "      <td>0</td>\n",
              "      <td>0</td>\n",
              "      <td>1</td>\n",
              "      <td>0</td>\n",
              "      <td>0</td>\n",
              "      <td>0</td>\n",
              "      <td>0</td>\n",
              "      <td>0</td>\n",
              "      <td>0</td>\n",
              "      <td>0.418</td>\n",
              "      <td>0.325</td>\n",
              "      <td>32.230995</td>\n",
              "    </tr>\n",
              "    <tr>\n",
              "      <th>1</th>\n",
              "      <td>Milky Way Simply Caramel</td>\n",
              "      <td>1</td>\n",
              "      <td>0</td>\n",
              "      <td>1</td>\n",
              "      <td>0</td>\n",
              "      <td>0</td>\n",
              "      <td>0</td>\n",
              "      <td>0</td>\n",
              "      <td>1</td>\n",
              "      <td>0</td>\n",
              "      <td>0.965</td>\n",
              "      <td>0.860</td>\n",
              "      <td>64.353340</td>\n",
              "    </tr>\n",
              "    <tr>\n",
              "      <th>2</th>\n",
              "      <td>Dots</td>\n",
              "      <td>0</td>\n",
              "      <td>1</td>\n",
              "      <td>0</td>\n",
              "      <td>0</td>\n",
              "      <td>0</td>\n",
              "      <td>0</td>\n",
              "      <td>0</td>\n",
              "      <td>0</td>\n",
              "      <td>1</td>\n",
              "      <td>0.732</td>\n",
              "      <td>0.511</td>\n",
              "      <td>42.272076</td>\n",
              "    </tr>\n",
              "    <tr>\n",
              "      <th>3</th>\n",
              "      <td>ReeseÕs pieces</td>\n",
              "      <td>1</td>\n",
              "      <td>0</td>\n",
              "      <td>0</td>\n",
              "      <td>1</td>\n",
              "      <td>0</td>\n",
              "      <td>0</td>\n",
              "      <td>0</td>\n",
              "      <td>0</td>\n",
              "      <td>1</td>\n",
              "      <td>0.406</td>\n",
              "      <td>0.651</td>\n",
              "      <td>73.434990</td>\n",
              "    </tr>\n",
              "    <tr>\n",
              "      <th>4</th>\n",
              "      <td>Skittles original</td>\n",
              "      <td>0</td>\n",
              "      <td>1</td>\n",
              "      <td>0</td>\n",
              "      <td>0</td>\n",
              "      <td>0</td>\n",
              "      <td>0</td>\n",
              "      <td>0</td>\n",
              "      <td>0</td>\n",
              "      <td>1</td>\n",
              "      <td>0.941</td>\n",
              "      <td>0.220</td>\n",
              "      <td>63.085140</td>\n",
              "    </tr>\n",
              "  </tbody>\n",
              "</table>\n",
              "</div>\n",
              "      <button class=\"colab-df-convert\" onclick=\"convertToInteractive('df-47d9fd95-e031-4b9b-9cbc-8ee0c81ccedb')\"\n",
              "              title=\"Convert this dataframe to an interactive table.\"\n",
              "              style=\"display:none;\">\n",
              "        \n",
              "  <svg xmlns=\"http://www.w3.org/2000/svg\" height=\"24px\"viewBox=\"0 0 24 24\"\n",
              "       width=\"24px\">\n",
              "    <path d=\"M0 0h24v24H0V0z\" fill=\"none\"/>\n",
              "    <path d=\"M18.56 5.44l.94 2.06.94-2.06 2.06-.94-2.06-.94-.94-2.06-.94 2.06-2.06.94zm-11 1L8.5 8.5l.94-2.06 2.06-.94-2.06-.94L8.5 2.5l-.94 2.06-2.06.94zm10 10l.94 2.06.94-2.06 2.06-.94-2.06-.94-.94-2.06-.94 2.06-2.06.94z\"/><path d=\"M17.41 7.96l-1.37-1.37c-.4-.4-.92-.59-1.43-.59-.52 0-1.04.2-1.43.59L10.3 9.45l-7.72 7.72c-.78.78-.78 2.05 0 2.83L4 21.41c.39.39.9.59 1.41.59.51 0 1.02-.2 1.41-.59l7.78-7.78 2.81-2.81c.8-.78.8-2.07 0-2.86zM5.41 20L4 18.59l7.72-7.72 1.47 1.35L5.41 20z\"/>\n",
              "  </svg>\n",
              "      </button>\n",
              "      \n",
              "  <style>\n",
              "    .colab-df-container {\n",
              "      display:flex;\n",
              "      flex-wrap:wrap;\n",
              "      gap: 12px;\n",
              "    }\n",
              "\n",
              "    .colab-df-convert {\n",
              "      background-color: #E8F0FE;\n",
              "      border: none;\n",
              "      border-radius: 50%;\n",
              "      cursor: pointer;\n",
              "      display: none;\n",
              "      fill: #1967D2;\n",
              "      height: 32px;\n",
              "      padding: 0 0 0 0;\n",
              "      width: 32px;\n",
              "    }\n",
              "\n",
              "    .colab-df-convert:hover {\n",
              "      background-color: #E2EBFA;\n",
              "      box-shadow: 0px 1px 2px rgba(60, 64, 67, 0.3), 0px 1px 3px 1px rgba(60, 64, 67, 0.15);\n",
              "      fill: #174EA6;\n",
              "    }\n",
              "\n",
              "    [theme=dark] .colab-df-convert {\n",
              "      background-color: #3B4455;\n",
              "      fill: #D2E3FC;\n",
              "    }\n",
              "\n",
              "    [theme=dark] .colab-df-convert:hover {\n",
              "      background-color: #434B5C;\n",
              "      box-shadow: 0px 1px 3px 1px rgba(0, 0, 0, 0.15);\n",
              "      filter: drop-shadow(0px 1px 2px rgba(0, 0, 0, 0.3));\n",
              "      fill: #FFFFFF;\n",
              "    }\n",
              "  </style>\n",
              "\n",
              "      <script>\n",
              "        const buttonEl =\n",
              "          document.querySelector('#df-47d9fd95-e031-4b9b-9cbc-8ee0c81ccedb button.colab-df-convert');\n",
              "        buttonEl.style.display =\n",
              "          google.colab.kernel.accessAllowed ? 'block' : 'none';\n",
              "\n",
              "        async function convertToInteractive(key) {\n",
              "          const element = document.querySelector('#df-47d9fd95-e031-4b9b-9cbc-8ee0c81ccedb');\n",
              "          const dataTable =\n",
              "            await google.colab.kernel.invokeFunction('convertToInteractive',\n",
              "                                                     [key], {});\n",
              "          if (!dataTable) return;\n",
              "\n",
              "          const docLinkHtml = 'Like what you see? Visit the ' +\n",
              "            '<a target=\"_blank\" href=https://colab.research.google.com/notebooks/data_table.ipynb>data table notebook</a>'\n",
              "            + ' to learn more about interactive tables.';\n",
              "          element.innerHTML = '';\n",
              "          dataTable['output_type'] = 'display_data';\n",
              "          await google.colab.output.renderOutput(dataTable, element);\n",
              "          const docLink = document.createElement('div');\n",
              "          docLink.innerHTML = docLinkHtml;\n",
              "          element.appendChild(docLink);\n",
              "        }\n",
              "      </script>\n",
              "    </div>\n",
              "  </div>\n",
              "  "
            ]
          },
          "metadata": {},
          "execution_count": 4
        }
      ],
      "source": [
        "data=pd.read_csv(\"/content/drive/MyDrive/Colab Notebooks/Datasets/Halloween-Candy/candy_train.csv\")\n",
        "dataValidation=pd.read_csv(\"/content/drive/MyDrive/Colab Notebooks/Datasets/Halloween-Candy/candy_test.csv\")\n",
        "dataValidationId=dataValidation.competitorname\n",
        "data.head()\n",
        "\n"
      ]
    },
    {
      "cell_type": "markdown",
      "metadata": {
        "id": "-P_YkAAs0Ts7"
      },
      "source": [
        "### **4.1 Data Information**\n",
        "\n",
        "- In this section we will see the **information about the types of the features**.\n",
        "\n",
        "\n"
      ]
    },
    {
      "cell_type": "code",
      "execution_count": 5,
      "metadata": {
        "colab": {
          "base_uri": "https://localhost:8080/"
        },
        "id": "pZX6dan9TsSm",
        "outputId": "54c2a269-0185-47ac-fd1b-12a7d664acc7"
      },
      "outputs": [
        {
          "output_type": "stream",
          "name": "stdout",
          "text": [
            "<class 'pandas.core.frame.DataFrame'>\n",
            "RangeIndex: 68 entries, 0 to 67\n",
            "Data columns (total 13 columns):\n",
            " #   Column            Non-Null Count  Dtype  \n",
            "---  ------            --------------  -----  \n",
            " 0   competitorname    68 non-null     object \n",
            " 1   chocolate         68 non-null     int64  \n",
            " 2   fruity            68 non-null     int64  \n",
            " 3   caramel           68 non-null     int64  \n",
            " 4   peanutyalmondy    68 non-null     int64  \n",
            " 5   nougat            68 non-null     int64  \n",
            " 6   crispedricewafer  68 non-null     int64  \n",
            " 7   hard              68 non-null     int64  \n",
            " 8   bar               68 non-null     int64  \n",
            " 9   pluribus          68 non-null     int64  \n",
            " 10  sugarpercent      68 non-null     float64\n",
            " 11  pricepercent      68 non-null     float64\n",
            " 12  winpercent        68 non-null     float64\n",
            "dtypes: float64(3), int64(9), object(1)\n",
            "memory usage: 7.0+ KB\n"
          ]
        }
      ],
      "source": [
        "data.info()"
      ]
    },
    {
      "cell_type": "markdown",
      "metadata": {
        "id": "ffH6aWZFwxn6"
      },
      "source": [
        "### **4.2 Data Description**\n",
        "\n",
        "- In this section we will get **information about the data** and see some observations."
      ]
    },
    {
      "cell_type": "code",
      "execution_count": 6,
      "metadata": {
        "colab": {
          "base_uri": "https://localhost:8080/",
          "height": 364
        },
        "id": "Wx9bXdwJXlcH",
        "outputId": "f6908da7-02a4-477c-a079-01afb7765cdb"
      },
      "outputs": [
        {
          "output_type": "execute_result",
          "data": {
            "text/plain": [
              "       chocolate     fruity    caramel  peanutyalmondy     nougat  \\\n",
              "count  68.000000  68.000000  68.000000       68.000000  68.000000   \n",
              "mean    0.455882   0.441176   0.191176        0.191176   0.102941   \n",
              "std     0.501753   0.500219   0.396151        0.396151   0.306141   \n",
              "min     0.000000   0.000000   0.000000        0.000000   0.000000   \n",
              "25%     0.000000   0.000000   0.000000        0.000000   0.000000   \n",
              "50%     0.000000   0.000000   0.000000        0.000000   0.000000   \n",
              "75%     1.000000   1.000000   0.000000        0.000000   0.000000   \n",
              "max     1.000000   1.000000   1.000000        1.000000   1.000000   \n",
              "\n",
              "       crispedricewafer       hard        bar   pluribus  sugarpercent  \\\n",
              "count         68.000000  68.000000  68.000000  68.000000     68.000000   \n",
              "mean           0.102941   0.147059   0.294118   0.485294      0.474632   \n",
              "std            0.306141   0.356798   0.459033   0.503500      0.278968   \n",
              "min            0.000000   0.000000   0.000000   0.000000      0.011000   \n",
              "25%            0.000000   0.000000   0.000000   0.000000      0.220000   \n",
              "50%            0.000000   0.000000   0.000000   0.000000      0.465000   \n",
              "75%            0.000000   0.000000   1.000000   1.000000      0.732000   \n",
              "max            1.000000   1.000000   1.000000   1.000000      0.988000   \n",
              "\n",
              "       pricepercent  winpercent  \n",
              "count     68.000000   68.000000  \n",
              "mean       0.496603   51.531087  \n",
              "std        0.285002   14.768819  \n",
              "min        0.034000   22.445341  \n",
              "25%        0.276000   40.810833  \n",
              "50%        0.511000   51.344505  \n",
              "75%        0.767000   62.484646  \n",
              "max        0.976000   81.866257  "
            ],
            "text/html": [
              "\n",
              "  <div id=\"df-7f819a22-0de0-409e-bb2b-4f50eb8b6d2e\">\n",
              "    <div class=\"colab-df-container\">\n",
              "      <div>\n",
              "<style scoped>\n",
              "    .dataframe tbody tr th:only-of-type {\n",
              "        vertical-align: middle;\n",
              "    }\n",
              "\n",
              "    .dataframe tbody tr th {\n",
              "        vertical-align: top;\n",
              "    }\n",
              "\n",
              "    .dataframe thead th {\n",
              "        text-align: right;\n",
              "    }\n",
              "</style>\n",
              "<table border=\"1\" class=\"dataframe\">\n",
              "  <thead>\n",
              "    <tr style=\"text-align: right;\">\n",
              "      <th></th>\n",
              "      <th>chocolate</th>\n",
              "      <th>fruity</th>\n",
              "      <th>caramel</th>\n",
              "      <th>peanutyalmondy</th>\n",
              "      <th>nougat</th>\n",
              "      <th>crispedricewafer</th>\n",
              "      <th>hard</th>\n",
              "      <th>bar</th>\n",
              "      <th>pluribus</th>\n",
              "      <th>sugarpercent</th>\n",
              "      <th>pricepercent</th>\n",
              "      <th>winpercent</th>\n",
              "    </tr>\n",
              "  </thead>\n",
              "  <tbody>\n",
              "    <tr>\n",
              "      <th>count</th>\n",
              "      <td>68.000000</td>\n",
              "      <td>68.000000</td>\n",
              "      <td>68.000000</td>\n",
              "      <td>68.000000</td>\n",
              "      <td>68.000000</td>\n",
              "      <td>68.000000</td>\n",
              "      <td>68.000000</td>\n",
              "      <td>68.000000</td>\n",
              "      <td>68.000000</td>\n",
              "      <td>68.000000</td>\n",
              "      <td>68.000000</td>\n",
              "      <td>68.000000</td>\n",
              "    </tr>\n",
              "    <tr>\n",
              "      <th>mean</th>\n",
              "      <td>0.455882</td>\n",
              "      <td>0.441176</td>\n",
              "      <td>0.191176</td>\n",
              "      <td>0.191176</td>\n",
              "      <td>0.102941</td>\n",
              "      <td>0.102941</td>\n",
              "      <td>0.147059</td>\n",
              "      <td>0.294118</td>\n",
              "      <td>0.485294</td>\n",
              "      <td>0.474632</td>\n",
              "      <td>0.496603</td>\n",
              "      <td>51.531087</td>\n",
              "    </tr>\n",
              "    <tr>\n",
              "      <th>std</th>\n",
              "      <td>0.501753</td>\n",
              "      <td>0.500219</td>\n",
              "      <td>0.396151</td>\n",
              "      <td>0.396151</td>\n",
              "      <td>0.306141</td>\n",
              "      <td>0.306141</td>\n",
              "      <td>0.356798</td>\n",
              "      <td>0.459033</td>\n",
              "      <td>0.503500</td>\n",
              "      <td>0.278968</td>\n",
              "      <td>0.285002</td>\n",
              "      <td>14.768819</td>\n",
              "    </tr>\n",
              "    <tr>\n",
              "      <th>min</th>\n",
              "      <td>0.000000</td>\n",
              "      <td>0.000000</td>\n",
              "      <td>0.000000</td>\n",
              "      <td>0.000000</td>\n",
              "      <td>0.000000</td>\n",
              "      <td>0.000000</td>\n",
              "      <td>0.000000</td>\n",
              "      <td>0.000000</td>\n",
              "      <td>0.000000</td>\n",
              "      <td>0.011000</td>\n",
              "      <td>0.034000</td>\n",
              "      <td>22.445341</td>\n",
              "    </tr>\n",
              "    <tr>\n",
              "      <th>25%</th>\n",
              "      <td>0.000000</td>\n",
              "      <td>0.000000</td>\n",
              "      <td>0.000000</td>\n",
              "      <td>0.000000</td>\n",
              "      <td>0.000000</td>\n",
              "      <td>0.000000</td>\n",
              "      <td>0.000000</td>\n",
              "      <td>0.000000</td>\n",
              "      <td>0.000000</td>\n",
              "      <td>0.220000</td>\n",
              "      <td>0.276000</td>\n",
              "      <td>40.810833</td>\n",
              "    </tr>\n",
              "    <tr>\n",
              "      <th>50%</th>\n",
              "      <td>0.000000</td>\n",
              "      <td>0.000000</td>\n",
              "      <td>0.000000</td>\n",
              "      <td>0.000000</td>\n",
              "      <td>0.000000</td>\n",
              "      <td>0.000000</td>\n",
              "      <td>0.000000</td>\n",
              "      <td>0.000000</td>\n",
              "      <td>0.000000</td>\n",
              "      <td>0.465000</td>\n",
              "      <td>0.511000</td>\n",
              "      <td>51.344505</td>\n",
              "    </tr>\n",
              "    <tr>\n",
              "      <th>75%</th>\n",
              "      <td>1.000000</td>\n",
              "      <td>1.000000</td>\n",
              "      <td>0.000000</td>\n",
              "      <td>0.000000</td>\n",
              "      <td>0.000000</td>\n",
              "      <td>0.000000</td>\n",
              "      <td>0.000000</td>\n",
              "      <td>1.000000</td>\n",
              "      <td>1.000000</td>\n",
              "      <td>0.732000</td>\n",
              "      <td>0.767000</td>\n",
              "      <td>62.484646</td>\n",
              "    </tr>\n",
              "    <tr>\n",
              "      <th>max</th>\n",
              "      <td>1.000000</td>\n",
              "      <td>1.000000</td>\n",
              "      <td>1.000000</td>\n",
              "      <td>1.000000</td>\n",
              "      <td>1.000000</td>\n",
              "      <td>1.000000</td>\n",
              "      <td>1.000000</td>\n",
              "      <td>1.000000</td>\n",
              "      <td>1.000000</td>\n",
              "      <td>0.988000</td>\n",
              "      <td>0.976000</td>\n",
              "      <td>81.866257</td>\n",
              "    </tr>\n",
              "  </tbody>\n",
              "</table>\n",
              "</div>\n",
              "      <button class=\"colab-df-convert\" onclick=\"convertToInteractive('df-7f819a22-0de0-409e-bb2b-4f50eb8b6d2e')\"\n",
              "              title=\"Convert this dataframe to an interactive table.\"\n",
              "              style=\"display:none;\">\n",
              "        \n",
              "  <svg xmlns=\"http://www.w3.org/2000/svg\" height=\"24px\"viewBox=\"0 0 24 24\"\n",
              "       width=\"24px\">\n",
              "    <path d=\"M0 0h24v24H0V0z\" fill=\"none\"/>\n",
              "    <path d=\"M18.56 5.44l.94 2.06.94-2.06 2.06-.94-2.06-.94-.94-2.06-.94 2.06-2.06.94zm-11 1L8.5 8.5l.94-2.06 2.06-.94-2.06-.94L8.5 2.5l-.94 2.06-2.06.94zm10 10l.94 2.06.94-2.06 2.06-.94-2.06-.94-.94-2.06-.94 2.06-2.06.94z\"/><path d=\"M17.41 7.96l-1.37-1.37c-.4-.4-.92-.59-1.43-.59-.52 0-1.04.2-1.43.59L10.3 9.45l-7.72 7.72c-.78.78-.78 2.05 0 2.83L4 21.41c.39.39.9.59 1.41.59.51 0 1.02-.2 1.41-.59l7.78-7.78 2.81-2.81c.8-.78.8-2.07 0-2.86zM5.41 20L4 18.59l7.72-7.72 1.47 1.35L5.41 20z\"/>\n",
              "  </svg>\n",
              "      </button>\n",
              "      \n",
              "  <style>\n",
              "    .colab-df-container {\n",
              "      display:flex;\n",
              "      flex-wrap:wrap;\n",
              "      gap: 12px;\n",
              "    }\n",
              "\n",
              "    .colab-df-convert {\n",
              "      background-color: #E8F0FE;\n",
              "      border: none;\n",
              "      border-radius: 50%;\n",
              "      cursor: pointer;\n",
              "      display: none;\n",
              "      fill: #1967D2;\n",
              "      height: 32px;\n",
              "      padding: 0 0 0 0;\n",
              "      width: 32px;\n",
              "    }\n",
              "\n",
              "    .colab-df-convert:hover {\n",
              "      background-color: #E2EBFA;\n",
              "      box-shadow: 0px 1px 2px rgba(60, 64, 67, 0.3), 0px 1px 3px 1px rgba(60, 64, 67, 0.15);\n",
              "      fill: #174EA6;\n",
              "    }\n",
              "\n",
              "    [theme=dark] .colab-df-convert {\n",
              "      background-color: #3B4455;\n",
              "      fill: #D2E3FC;\n",
              "    }\n",
              "\n",
              "    [theme=dark] .colab-df-convert:hover {\n",
              "      background-color: #434B5C;\n",
              "      box-shadow: 0px 1px 3px 1px rgba(0, 0, 0, 0.15);\n",
              "      filter: drop-shadow(0px 1px 2px rgba(0, 0, 0, 0.3));\n",
              "      fill: #FFFFFF;\n",
              "    }\n",
              "  </style>\n",
              "\n",
              "      <script>\n",
              "        const buttonEl =\n",
              "          document.querySelector('#df-7f819a22-0de0-409e-bb2b-4f50eb8b6d2e button.colab-df-convert');\n",
              "        buttonEl.style.display =\n",
              "          google.colab.kernel.accessAllowed ? 'block' : 'none';\n",
              "\n",
              "        async function convertToInteractive(key) {\n",
              "          const element = document.querySelector('#df-7f819a22-0de0-409e-bb2b-4f50eb8b6d2e');\n",
              "          const dataTable =\n",
              "            await google.colab.kernel.invokeFunction('convertToInteractive',\n",
              "                                                     [key], {});\n",
              "          if (!dataTable) return;\n",
              "\n",
              "          const docLinkHtml = 'Like what you see? Visit the ' +\n",
              "            '<a target=\"_blank\" href=https://colab.research.google.com/notebooks/data_table.ipynb>data table notebook</a>'\n",
              "            + ' to learn more about interactive tables.';\n",
              "          element.innerHTML = '';\n",
              "          dataTable['output_type'] = 'display_data';\n",
              "          await google.colab.output.renderOutput(dataTable, element);\n",
              "          const docLink = document.createElement('div');\n",
              "          docLink.innerHTML = docLinkHtml;\n",
              "          element.appendChild(docLink);\n",
              "        }\n",
              "      </script>\n",
              "    </div>\n",
              "  </div>\n",
              "  "
            ]
          },
          "metadata": {},
          "execution_count": 6
        }
      ],
      "source": [
        "data.describe()"
      ]
    },
    {
      "cell_type": "markdown",
      "metadata": {
        "id": "KVcbqLw3w9tL"
      },
      "source": [
        "# **5. Data Pre-Processing**"
      ]
    },
    {
      "cell_type": "markdown",
      "metadata": {
        "id": "PdKInUkXxctg"
      },
      "source": [
        "### **5.1 Data Pre-Profiling**\n"
      ]
    },
    {
      "cell_type": "markdown",
      "metadata": {
        "id": "uNysza08YqGh"
      },
      "source": [
        "**Check null value or any other inconsistent value in column**"
      ]
    },
    {
      "cell_type": "code",
      "execution_count": 7,
      "metadata": {
        "colab": {
          "base_uri": "https://localhost:8080/"
        },
        "id": "r2BOQuoxebSs",
        "outputId": "42543643-1ab4-462f-a8e3-d46a20e1cb9d"
      },
      "outputs": [
        {
          "output_type": "stream",
          "name": "stdout",
          "text": [
            "competitorname      0\n",
            "chocolate           0\n",
            "fruity              0\n",
            "caramel             0\n",
            "peanutyalmondy      0\n",
            "nougat              0\n",
            "crispedricewafer    0\n",
            "hard                0\n",
            "bar                 0\n",
            "pluribus            0\n",
            "sugarpercent        0\n",
            "pricepercent        0\n",
            "winpercent          0\n",
            "dtype: int64 \n",
            "\n"
          ]
        }
      ],
      "source": [
        "print((data==\"\").sum(), \"\\n\")"
      ]
    },
    {
      "cell_type": "code",
      "execution_count": 8,
      "metadata": {
        "colab": {
          "base_uri": "https://localhost:8080/"
        },
        "id": "t8DTnc4XYuVx",
        "outputId": "5be0a35a-ede8-446b-d6ce-036b27595417"
      },
      "outputs": [
        {
          "output_type": "stream",
          "name": "stdout",
          "text": [
            "competitorname      0\n",
            "chocolate           0\n",
            "fruity              0\n",
            "caramel             0\n",
            "peanutyalmondy      0\n",
            "nougat              0\n",
            "crispedricewafer    0\n",
            "hard                0\n",
            "bar                 0\n",
            "pluribus            0\n",
            "sugarpercent        0\n",
            "pricepercent        0\n",
            "winpercent          0\n",
            "dtype: int64 \n",
            "\n"
          ]
        }
      ],
      "source": [
        "print(data.isna().sum(), \"\\n\")\n"
      ]
    },
    {
      "cell_type": "code",
      "execution_count": 9,
      "metadata": {
        "colab": {
          "base_uri": "https://localhost:8080/"
        },
        "id": "QKzNio-1gBWk",
        "outputId": "fb17e308-1afa-47f7-9f8d-dbc2050ac540"
      },
      "outputs": [
        {
          "output_type": "stream",
          "name": "stdout",
          "text": [
            "competitorname      0\n",
            "chocolate           0\n",
            "fruity              0\n",
            "caramel             0\n",
            "peanutyalmondy      0\n",
            "nougat              0\n",
            "crispedricewafer    0\n",
            "hard                0\n",
            "bar                 0\n",
            "pluribus            0\n",
            "sugarpercent        0\n",
            "pricepercent        0\n",
            "winpercent          0\n",
            "dtype: int64 \n",
            "\n"
          ]
        }
      ],
      "source": [
        "print((data==\"Unknown\").sum(), \"\\n\")\n"
      ]
    },
    {
      "cell_type": "code",
      "execution_count": 10,
      "metadata": {
        "colab": {
          "base_uri": "https://localhost:8080/"
        },
        "id": "bbbTkBeExZvE",
        "outputId": "cd4495cc-61c5-4d17-aac4-419eccb373f7"
      },
      "outputs": [
        {
          "output_type": "stream",
          "name": "stdout",
          "text": [
            "competitorname       0\n",
            "chocolate           37\n",
            "fruity              38\n",
            "caramel             55\n",
            "peanutyalmondy      55\n",
            "nougat              61\n",
            "crispedricewafer    61\n",
            "hard                58\n",
            "bar                 48\n",
            "pluribus            35\n",
            "sugarpercent         0\n",
            "pricepercent         0\n",
            "winpercent           0\n",
            "dtype: int64 \n",
            "\n"
          ]
        }
      ],
      "source": [
        "print((data==0).sum(), \"\\n\")"
      ]
    },
    {
      "cell_type": "code",
      "source": [
        "data.fruity.value_counts()"
      ],
      "metadata": {
        "colab": {
          "base_uri": "https://localhost:8080/"
        },
        "id": "0eIgmgaFqxzn",
        "outputId": "8bcf5d25-e5d4-40e7-9af1-1161567cb693"
      },
      "execution_count": 37,
      "outputs": [
        {
          "output_type": "execute_result",
          "data": {
            "text/plain": [
              "0    38\n",
              "1    30\n",
              "Name: fruity, dtype: int64"
            ]
          },
          "metadata": {},
          "execution_count": 37
        }
      ]
    },
    {
      "cell_type": "code",
      "execution_count": 11,
      "metadata": {
        "colab": {
          "base_uri": "https://localhost:8080/"
        },
        "id": "sYTxG6wDzZL2",
        "outputId": "445dd5d4-7235-49f7-cadb-01b67e91f9ae"
      },
      "outputs": [
        {
          "output_type": "execute_result",
          "data": {
            "text/plain": [
              "False"
            ]
          },
          "metadata": {},
          "execution_count": 11
        }
      ],
      "source": [
        "data.duplicated().any()"
      ]
    },
    {
      "cell_type": "code",
      "execution_count": 12,
      "metadata": {
        "colab": {
          "base_uri": "https://localhost:8080/"
        },
        "id": "39vM-rrAzyg_",
        "outputId": "c26d089a-38d4-45c4-e731-ddea50019e93"
      },
      "outputs": [
        {
          "output_type": "stream",
          "name": "stdout",
          "text": [
            "Sugar Daddy            1\n",
            "Baby Ruth              1\n",
            "Strawberry bon bons    1\n",
            "Trolli Sour Bites      1\n",
            "Twizzlers              1\n",
            "                      ..\n",
            "Whoppers               1\n",
            "Root Beer Barrels      1\n",
            "Peanut butter M&MÕs    1\n",
            "Milky Way Midnight     1\n",
            "Nestle Smarties        1\n",
            "Name: competitorname, Length: 68, dtype: int64\n"
          ]
        }
      ],
      "source": [
        "catCol=[\"competitorname\"]\n",
        "for col in catCol:\n",
        "  print(data[col].value_counts())\n",
        "\n"
      ]
    },
    {
      "cell_type": "markdown",
      "metadata": {
        "id": "Ghes5hwMxu--"
      },
      "source": [
        "### **5.2 Data Cleaning**\n",
        "\n",
        "- N/A"
      ]
    },
    {
      "cell_type": "markdown",
      "metadata": {
        "id": "eHaO8RpKyQHL"
      },
      "source": [
        "### **5.3 Data Post-Profiling**\n",
        "\n",
        "- Next, we will generate and verify the report to identify any new observation that can help us in further analysis."
      ]
    },
    {
      "cell_type": "markdown",
      "metadata": {
        "id": "LLfz81jNDxl4"
      },
      "source": [
        "# **6. Exploratory Data Analysis**"
      ]
    },
    {
      "cell_type": "code",
      "source": [
        "data.describe().columns\n"
      ],
      "metadata": {
        "colab": {
          "base_uri": "https://localhost:8080/"
        },
        "id": "2Cbjlanao-zJ",
        "outputId": "e9f2a61e-de9a-4653-a2a7-b81152067b26"
      },
      "execution_count": 13,
      "outputs": [
        {
          "output_type": "execute_result",
          "data": {
            "text/plain": [
              "Index(['chocolate', 'fruity', 'caramel', 'peanutyalmondy', 'nougat',\n",
              "       'crispedricewafer', 'hard', 'bar', 'pluribus', 'sugarpercent',\n",
              "       'pricepercent', 'winpercent'],\n",
              "      dtype='object')"
            ]
          },
          "metadata": {},
          "execution_count": 13
        }
      ]
    },
    {
      "cell_type": "markdown",
      "metadata": {
        "id": "OTVPcvGtC7MZ"
      },
      "source": [
        "### **Check distribution of numerical features and Outliers**"
      ]
    },
    {
      "cell_type": "code",
      "execution_count": 14,
      "metadata": {
        "colab": {
          "base_uri": "https://localhost:8080/",
          "height": 968
        },
        "id": "OG7ahFxKhorY",
        "outputId": "60974583-7ffa-44fe-b2c8-bb5646fd9760"
      },
      "outputs": [
        {
          "output_type": "display_data",
          "data": {
            "text/plain": [
              "<Figure size 864x360 with 2 Axes>"
            ],
            "image/png": "[encoded data removed]"
          },
          "metadata": {
            "needs_background": "light"
          }
        },
        {
          "output_type": "display_data",
          "data": {
            "text/plain": [
              "<Figure size 864x360 with 2 Axes>"
            ],
            "image/png": "[encoded data removed]"
          },
          "metadata": {
            "needs_background": "light"
          }
        },
        {
          "output_type": "display_data",
          "data": {
            "text/plain": [
              "<Figure size 864x360 with 2 Axes>"
            ],
            "image/png": "[encoded data removed]"
          },
          "metadata": {
            "needs_background": "light"
          }
        }
      ],
      "source": [
        "contColumn=data.describe().columns[-3:]\n",
        "\n",
        "\n",
        "for col in contColumn:  \n",
        "  fig=plt.figure(figsize=[12,5])\n",
        "  plt.subplot(1,2,1)\n",
        "  sns.distplot(data[col], color=\"b\")\n",
        "  plt.axvline(data[col].mean(), color=\"r\")\n",
        "  plt.axvline(data[col].median(), color=\"g\")\n",
        "  plt.subplot(1,2,2)\n",
        "  sns.boxplot(data[col])\n",
        "\n",
        "\n",
        "  "
      ]
    },
    {
      "cell_type": "markdown",
      "source": [
        ""
      ],
      "metadata": {
        "id": "jSfJ_KXliqwP"
      }
    },
    {
      "cell_type": "markdown",
      "source": [
        "### **Checking relationship between cont features and target variable**"
      ],
      "metadata": {
        "id": "oJ76eq3Ri1Hd"
      }
    },
    {
      "cell_type": "code",
      "source": [
        "for col in contColumn[:-1]:\n",
        "  fig=plt.figure(figsize=[5,3])\n",
        "  sns.scatterplot(x=col,y=\"winpercent\",data=data)"
      ],
      "metadata": {
        "colab": {
          "base_uri": "https://localhost:8080/",
          "height": 433
        },
        "id": "qv9BoCf0i6_z",
        "outputId": "f65a4419-c4ea-43fc-cd4a-d8639b307b06"
      },
      "execution_count": 23,
      "outputs": [
        {
          "output_type": "display_data",
          "data": {
            "text/plain": [
              "<Figure size 360x216 with 1 Axes>"
            ],
            "image/png": "[encoded data removed]"
          },
          "metadata": {
            "needs_background": "light"
          }
        },
        {
          "output_type": "display_data",
          "data": {
            "text/plain": [
              "<Figure size 360x216 with 1 Axes>"
            ],
            "image/png": "[encoded data removed]"
          },
          "metadata": {
            "needs_background": "light"
          }
        }
      ]
    },
    {
      "cell_type": "markdown",
      "source": [
        "### **Checking relationship between cat features and target variable**"
      ],
      "metadata": {
        "id": "7-Tg3MkdLl0o"
      }
    },
    {
      "cell_type": "code",
      "source": [
        "catColumn=data.describe().columns[0:9]\n",
        "for col in catColumn:\n",
        "  fig=plt.figure(figsize=[5,3])\n",
        "  data.groupby(col)[\"winpercent\"].mean().plot.bar()\n",
        "\n"
      ],
      "metadata": {
        "colab": {
          "base_uri": "https://localhost:8080/",
          "height": 1000
        },
        "id": "xSR55W6PMUp_",
        "outputId": "73f27a30-7261-48c2-f33b-ce955cc363e1"
      },
      "execution_count": 16,
      "outputs": [
        {
          "output_type": "display_data",
          "data": {
            "text/plain": [
              "<Figure size 360x216 with 1 Axes>"
            ],
            "image/png": "[encoded data removed]"
          },
          "metadata": {
            "needs_background": "light"
          }
        },
        {
          "output_type": "display_data",
          "data": {
            "text/plain": [
              "<Figure size 360x216 with 1 Axes>"
            ],
            "image/png": "[encoded data removed]"
          },
          "metadata": {
            "needs_background": "light"
          }
        },
        {
          "output_type": "display_data",
          "data": {
            "text/plain": [
              "<Figure size 360x216 with 1 Axes>"
            ],
            "image/png": "[encoded data removed]"
          },
          "metadata": {
            "needs_background": "light"
          }
        },
        {
          "output_type": "display_data",
          "data": {
            "text/plain": [
              "<Figure size 360x216 with 1 Axes>"
            ],
            "image/png": "[encoded data removed]"
          },
          "metadata": {
            "needs_background": "light"
          }
        },
        {
          "output_type": "display_data",
          "data": {
            "text/plain": [
              "<Figure size 360x216 with 1 Axes>"
            ],
            "image/png": "[encoded data removed]"
          },
          "metadata": {
            "needs_background": "light"
          }
        },
        {
          "output_type": "display_data",
          "data": {
            "text/plain": [
              "<Figure size 360x216 with 1 Axes>"
            ],
            "image/png": "[encoded data removed]"
          },
          "metadata": {
            "needs_background": "light"
          }
        },
        {
          "output_type": "display_data",
          "data": {
            "text/plain": [
              "<Figure size 360x216 with 1 Axes>"
            ],
            "image/png": "[encoded data removed]"
          },
          "metadata": {
            "needs_background": "light"
          }
        },
        {
          "output_type": "display_data",
          "data": {
            "text/plain": [
              "<Figure size 360x216 with 1 Axes>"
            ],
            "image/png": "[encoded data removed]"
          },
          "metadata": {
            "needs_background": "light"
          }
        },
        {
          "output_type": "display_data",
          "data": {
            "text/plain": [
              "<Figure size 360x216 with 1 Axes>"
            ],
            "image/png": "[encoded data removed]"
          },
          "metadata": {
            "needs_background": "light"
          }
        }
      ]
    },
    {
      "cell_type": "markdown",
      "metadata": {
        "id": "i4055cdQ5mz_"
      },
      "source": [
        "### **Correlation Matrix**"
      ]
    },
    {
      "cell_type": "code",
      "execution_count": 17,
      "metadata": {
        "id": "bhO-mjuAfWZ0",
        "colab": {
          "base_uri": "https://localhost:8080/",
          "height": 687
        },
        "outputId": "062982ec-c6f4-490d-f093-b3211e264328"
      },
      "outputs": [
        {
          "output_type": "execute_result",
          "data": {
            "text/plain": [
              "<matplotlib.axes._subplots.AxesSubplot at 0x7f9f62514090>"
            ]
          },
          "metadata": {},
          "execution_count": 17
        },
        {
          "output_type": "display_data",
          "data": {
            "text/plain": [
              "<Figure size 720x720 with 2 Axes>"
            ],
            "image/png": "[encoded data removed]"
          },
          "metadata": {
            "needs_background": "light"
          }
        }
      ],
      "source": [
        "figure=plt.figure(figsize=[10,10])\n",
        "sns.heatmap(data.corr(), cmap=\"Blues\", annot=True,linecolor='Red',linewidth=1)"
      ]
    },
    {
      "cell_type": "markdown",
      "metadata": {
        "id": "ISaynBoL2U6f"
      },
      "source": [
        "# **7. Data Post-Processing**"
      ]
    },
    {
      "cell_type": "markdown",
      "metadata": {
        "id": "wTKr5hqq3tQy"
      },
      "source": [
        "### **7.1 Data Preparation/Feature Selection**\n",
        "\n"
      ]
    },
    {
      "cell_type": "code",
      "source": [
        "features=data.describe().columns[:-1]\n",
        "features"
      ],
      "metadata": {
        "id": "hCEjGin9uNDr",
        "colab": {
          "base_uri": "https://localhost:8080/"
        },
        "outputId": "15e1f339-228d-46bb-c179-54171fd95ec7"
      },
      "execution_count": 18,
      "outputs": [
        {
          "output_type": "execute_result",
          "data": {
            "text/plain": [
              "Index(['chocolate', 'fruity', 'caramel', 'peanutyalmondy', 'nougat',\n",
              "       'crispedricewafer', 'hard', 'bar', 'pluribus', 'sugarpercent',\n",
              "       'pricepercent'],\n",
              "      dtype='object')"
            ]
          },
          "metadata": {},
          "execution_count": 18
        }
      ]
    },
    {
      "cell_type": "code",
      "execution_count": 19,
      "metadata": {
        "id": "FcD8VCYk90nu"
      },
      "outputs": [],
      "source": [
        "X=data[features]\n",
        "y=data.winpercent\n",
        "dataValidation=dataValidation[features]\n"
      ]
    },
    {
      "cell_type": "markdown",
      "metadata": {
        "id": "PLF8eGU33VZD"
      },
      "source": [
        "# **8. Model Development & Evaluation**"
      ]
    },
    {
      "cell_type": "markdown",
      "source": [
        "### **With PipeLine**"
      ],
      "metadata": {
        "id": "UEwhfnsRLkMd"
      }
    },
    {
      "cell_type": "code",
      "execution_count": 20,
      "metadata": {
        "id": "vfy2MULRCY2_",
        "colab": {
          "base_uri": "https://localhost:8080/"
        },
        "outputId": "fe47a69d-78fb-4808-9b84-117bb190b920"
      },
      "outputs": [
        {
          "output_type": "stream",
          "name": "stdout",
          "text": [
            "                                               Model  Train Score  Test Score  \\\n",
            "0                                 LinearRegression()    -9.815234  -12.174080   \n",
            "1                 DecisionTreeRegressor(max_depth=7)    -5.030194  -13.049594   \n",
            "2  RandomForestRegressor(max_depth=7, random_stat...    -5.360139  -11.314185   \n",
            "3                 KNeighborsRegressor(n_neighbors=8)   -10.539146  -11.507644   \n",
            "\n",
            "    FitDiff  \n",
            "0  2.358846  \n",
            "1  8.019400  \n",
            "2  5.954046  \n",
            "3  0.968498  \n"
          ]
        }
      ],
      "source": [
        "from sklearn.utils import shuffle\n",
        "from sklearn.model_selection import cross_val_score,cross_validate,cross_val_predict,KFold\n",
        "from sklearn.linear_model import LinearRegression\n",
        "from sklearn.tree import DecisionTreeRegressor\n",
        "from sklearn.ensemble import RandomForestRegressor\n",
        "from sklearn.naive_bayes import GaussianNB\n",
        "from sklearn.neighbors import KNeighborsRegressor\n",
        "\n",
        "max_depth=7\n",
        "modelList=[LinearRegression(),DecisionTreeRegressor(max_depth=max_depth),\n",
        "           RandomForestRegressor(random_state=47,max_depth=max_depth),KNeighborsRegressor(n_neighbors=8)]\n",
        "\n",
        "\n",
        "# columns_to_scale=contColumn\n",
        "kf=KFold(10,shuffle=True,random_state=47)\n",
        "# Instantiate column transformer\n",
        "# column_trans=make_column_transformer((OneHotEncoder(drop=\"first\"),columns_to_encode),(RobustScaler(),columns_to_scale),remainder=\"passthrough\")\n",
        "cv_score_df=pd.DataFrame(columns=[\"Model\",\"Train Score\",\"Test Score\",\"FitDiff\"])\n",
        "  # print(cv_score_df)\n",
        "i=0\n",
        "for model in modelList:\n",
        "  cv_score=cross_validate(model,X,y,cv=kf,n_jobs=-1,scoring=(\"neg_root_mean_squared_error\"),return_train_score=True)\n",
        "  cv_score_df.loc[i]=[model,cv_score[\"train_score\"].mean(),cv_score[\"test_score\"].mean(),cv_score[\"train_score\"].mean()-cv_score[\"test_score\"].mean()]\n",
        "  i=i+1\n",
        "print(cv_score_df)\n",
        "# pipe=make_pipeline(column_trans,modelList[2])\n",
        "# pipe.fit(X,y)\n",
        "\n"
      ]
    },
    {
      "cell_type": "code",
      "source": [
        "from sklearn.model_selection import train_test_split\n",
        "from sklearn.metrics import mean_squared_error,mean_absolute_error\n",
        "\n",
        "max_depth=5\n",
        "modelList=[LinearRegression(),DecisionTreeRegressor(max_depth=max_depth),\n",
        "           RandomForestRegressor(random_state=42,max_depth=max_depth),KNeighborsRegressor(n_neighbors=8)]\n",
        "X_train,X_test,y_train,y_test = train_test_split(X,y, test_size=.25,random_state=47)\n",
        "cv_score_df=pd.DataFrame(columns=[\"Model\",\"Train Score\",\"Test Score\",\"FitDiff\"])\n",
        "i=0\n",
        "for model in modelList:\n",
        "  model.fit(X_train,y_train)\n",
        "  y_train_pred=model.predict(X_train)\n",
        "  y_test_pred=model.predict(X_test)\n",
        "  rmse_train=np.sqrt(mean_squared_error(y_train,y_train_pred))\n",
        "  rmse_test=np.sqrt(mean_squared_error(y_test,y_test_pred))\n",
        "  mse_train=np.sqrt(mean_squared_error(y_train,y_train_pred))\n",
        "  rmse_test=np.sqrt(mean_squared_error(y_test,y_test_pred))\n",
        "  cv_score_df.loc[i]=[model,rmse_train,rmse_test,rmse_train-rmse_test]\n",
        "  i=i+1\n",
        "cv_score_df\n",
        "\n"
      ],
      "metadata": {
        "colab": {
          "base_uri": "https://localhost:8080/",
          "height": 175
        },
        "id": "q8HOYZ9jXPd-",
        "outputId": "5280cf96-53e1-429e-d27a-69b1cdd0ee9f"
      },
      "execution_count": 29,
      "outputs": [
        {
          "output_type": "execute_result",
          "data": {
            "text/plain": [
              "                                               Model  Train Score  Test Score  \\\n",
              "0                                 LinearRegression()     9.835310   11.885135   \n",
              "1                 DecisionTreeRegressor(max_depth=5)     6.731568   10.974423   \n",
              "2  (DecisionTreeRegressor(max_depth=5, max_featur...     5.954669   11.241525   \n",
              "3                 KNeighborsRegressor(n_neighbors=8)    10.486097   12.279457   \n",
              "\n",
              "    FitDiff  \n",
              "0 -2.049826  \n",
              "1 -4.242855  \n",
              "2 -5.286856  \n",
              "3 -1.793359  "
            ],
            "text/html": [
              "\n",
              "  <div id=\"df-de71d2fc-6e02-4f96-b407-8abc8fd81774\">\n",
              "    <div class=\"colab-df-container\">\n",
              "      <div>\n",
              "<style scoped>\n",
              "    .dataframe tbody tr th:only-of-type {\n",
              "        vertical-align: middle;\n",
              "    }\n",
              "\n",
              "    .dataframe tbody tr th {\n",
              "        vertical-align: top;\n",
              "    }\n",
              "\n",
              "    .dataframe thead th {\n",
              "        text-align: right;\n",
              "    }\n",
              "</style>\n",
              "<table border=\"1\" class=\"dataframe\">\n",
              "  <thead>\n",
              "    <tr style=\"text-align: right;\">\n",
              "      <th></th>\n",
              "      <th>Model</th>\n",
              "      <th>Train Score</th>\n",
              "      <th>Test Score</th>\n",
              "      <th>FitDiff</th>\n",
              "    </tr>\n",
              "  </thead>\n",
              "  <tbody>\n",
              "    <tr>\n",
              "      <th>0</th>\n",
              "      <td>LinearRegression()</td>\n",
              "      <td>9.835310</td>\n",
              "      <td>11.885135</td>\n",
              "      <td>-2.049826</td>\n",
              "    </tr>\n",
              "    <tr>\n",
              "      <th>1</th>\n",
              "      <td>DecisionTreeRegressor(max_depth=5)</td>\n",
              "      <td>6.731568</td>\n",
              "      <td>10.974423</td>\n",
              "      <td>-4.242855</td>\n",
              "    </tr>\n",
              "    <tr>\n",
              "      <th>2</th>\n",
              "      <td>(DecisionTreeRegressor(max_depth=5, max_featur...</td>\n",
              "      <td>5.954669</td>\n",
              "      <td>11.241525</td>\n",
              "      <td>-5.286856</td>\n",
              "    </tr>\n",
              "    <tr>\n",
              "      <th>3</th>\n",
              "      <td>KNeighborsRegressor(n_neighbors=8)</td>\n",
              "      <td>10.486097</td>\n",
              "      <td>12.279457</td>\n",
              "      <td>-1.793359</td>\n",
              "    </tr>\n",
              "  </tbody>\n",
              "</table>\n",
              "</div>\n",
              "      <button class=\"colab-df-convert\" onclick=\"convertToInteractive('df-de71d2fc-6e02-4f96-b407-8abc8fd81774')\"\n",
              "              title=\"Convert this dataframe to an interactive table.\"\n",
              "              style=\"display:none;\">\n",
              "        \n",
              "  <svg xmlns=\"http://www.w3.org/2000/svg\" height=\"24px\"viewBox=\"0 0 24 24\"\n",
              "       width=\"24px\">\n",
              "    <path d=\"M0 0h24v24H0V0z\" fill=\"none\"/>\n",
              "    <path d=\"M18.56 5.44l.94 2.06.94-2.06 2.06-.94-2.06-.94-.94-2.06-.94 2.06-2.06.94zm-11 1L8.5 8.5l.94-2.06 2.06-.94-2.06-.94L8.5 2.5l-.94 2.06-2.06.94zm10 10l.94 2.06.94-2.06 2.06-.94-2.06-.94-.94-2.06-.94 2.06-2.06.94z\"/><path d=\"M17.41 7.96l-1.37-1.37c-.4-.4-.92-.59-1.43-.59-.52 0-1.04.2-1.43.59L10.3 9.45l-7.72 7.72c-.78.78-.78 2.05 0 2.83L4 21.41c.39.39.9.59 1.41.59.51 0 1.02-.2 1.41-.59l7.78-7.78 2.81-2.81c.8-.78.8-2.07 0-2.86zM5.41 20L4 18.59l7.72-7.72 1.47 1.35L5.41 20z\"/>\n",
              "  </svg>\n",
              "      </button>\n",
              "      \n",
              "  <style>\n",
              "    .colab-df-container {\n",
              "      display:flex;\n",
              "      flex-wrap:wrap;\n",
              "      gap: 12px;\n",
              "    }\n",
              "\n",
              "    .colab-df-convert {\n",
              "      background-color: #E8F0FE;\n",
              "      border: none;\n",
              "      border-radius: 50%;\n",
              "      cursor: pointer;\n",
              "      display: none;\n",
              "      fill: #1967D2;\n",
              "      height: 32px;\n",
              "      padding: 0 0 0 0;\n",
              "      width: 32px;\n",
              "    }\n",
              "\n",
              "    .colab-df-convert:hover {\n",
              "      background-color: #E2EBFA;\n",
              "      box-shadow: 0px 1px 2px rgba(60, 64, 67, 0.3), 0px 1px 3px 1px rgba(60, 64, 67, 0.15);\n",
              "      fill: #174EA6;\n",
              "    }\n",
              "\n",
              "    [theme=dark] .colab-df-convert {\n",
              "      background-color: #3B4455;\n",
              "      fill: #D2E3FC;\n",
              "    }\n",
              "\n",
              "    [theme=dark] .colab-df-convert:hover {\n",
              "      background-color: #434B5C;\n",
              "      box-shadow: 0px 1px 3px 1px rgba(0, 0, 0, 0.15);\n",
              "      filter: drop-shadow(0px 1px 2px rgba(0, 0, 0, 0.3));\n",
              "      fill: #FFFFFF;\n",
              "    }\n",
              "  </style>\n",
              "\n",
              "      <script>\n",
              "        const buttonEl =\n",
              "          document.querySelector('#df-de71d2fc-6e02-4f96-b407-8abc8fd81774 button.colab-df-convert');\n",
              "        buttonEl.style.display =\n",
              "          google.colab.kernel.accessAllowed ? 'block' : 'none';\n",
              "\n",
              "        async function convertToInteractive(key) {\n",
              "          const element = document.querySelector('#df-de71d2fc-6e02-4f96-b407-8abc8fd81774');\n",
              "          const dataTable =\n",
              "            await google.colab.kernel.invokeFunction('convertToInteractive',\n",
              "                                                     [key], {});\n",
              "          if (!dataTable) return;\n",
              "\n",
              "          const docLinkHtml = 'Like what you see? Visit the ' +\n",
              "            '<a target=\"_blank\" href=https://colab.research.google.com/notebooks/data_table.ipynb>data table notebook</a>'\n",
              "            + ' to learn more about interactive tables.';\n",
              "          element.innerHTML = '';\n",
              "          dataTable['output_type'] = 'display_data';\n",
              "          await google.colab.output.renderOutput(dataTable, element);\n",
              "          const docLink = document.createElement('div');\n",
              "          docLink.innerHTML = docLinkHtml;\n",
              "          element.appendChild(docLink);\n",
              "        }\n",
              "      </script>\n",
              "    </div>\n",
              "  </div>\n",
              "  "
            ]
          },
          "metadata": {},
          "execution_count": 29
        }
      ]
    },
    {
      "cell_type": "code",
      "source": [
        "param_list={\n",
        "            \"criterion\" : [\"squared_error\", \"absolute_error\", \"poisson\"],\n",
        "            \"max_depth\" : [None,2,3,4,5,6],\n",
        "           \"min_samples_leaf\":[1,2,3,4,5],\n",
        "          #  \"min_samples_split\" :[2,3,4,5],\n",
        "           \"min_weight_fraction_leaf\":[0.0,0.1,0.2,0.3,0.4,0.5,0.6],\n",
        "           \"max_features\":[\"auto\",\"log2\",\"sqrt\",None],\n",
        "           \"max_leaf_nodes\":[None,10,20,30,40,50]\n",
        "            }\n",
        "\n",
        "from sklearn.model_selection import RandomizedSearchCV\n",
        "randCV=RandomizedSearchCV(RandomForestRegressor(),param_list,scoring=\"neg_root_mean_squared_error\",cv=kf,n_jobs=-1,return_train_score=True)\n",
        "randCV.fit(X_train,y_train)\n",
        "y_train_pred=randCV.predict(X_train)\n",
        "y_test_pred=randCV.predict(X_test)\n",
        "rmse_train=np.sqrt(mean_squared_error(y_train,y_train_pred))\n",
        "rmse_test=np.sqrt(mean_squared_error(y_test,y_test_pred))\n",
        "print(rmse_train)\n",
        "print(rmse_test)"
      ],
      "metadata": {
        "colab": {
          "base_uri": "https://localhost:8080/"
        },
        "id": "_IamYdCrl41X",
        "outputId": "7672894b-4d03-440c-8f3e-7a303e65c189"
      },
      "execution_count": 40,
      "outputs": [
        {
          "output_type": "stream",
          "name": "stdout",
          "text": [
            "6.880545589871207\n",
            "11.628757479685\n"
          ]
        }
      ]
    },
    {
      "cell_type": "markdown",
      "source": [
        "# **9. Dump Model using Pickle**"
      ],
      "metadata": {
        "id": "e-4tOEzl4qWK"
      }
    },
    {
      "cell_type": "code",
      "source": [
        "import pickle\n",
        "# model=RandomForestClassifier(random_state=47,max_depth=max_depth)\n",
        "# model.fit(X,y)\n",
        "##dump the model into a file\n",
        "with open(\"/content/drive/MyDrive/Colab Notebooks/ModelBin/halloween_model.pkl\", 'wb') as f_out:\n",
        "    pickle.dump(randCV, f_out) # write final_model in .bin file\n",
        "    f_out.close()  # close the file "
      ],
      "metadata": {
        "id": "tiJYJrVV4ugq"
      },
      "execution_count": 43,
      "outputs": []
    },
    {
      "cell_type": "markdown",
      "source": [
        "# **10. Load Model using Pickle and Predict Output**"
      ],
      "metadata": {
        "id": "iEX3FkoeSWps"
      }
    },
    {
      "cell_type": "code",
      "source": [
        "##loading the model from the saved file\n",
        "with open('/content/drive/MyDrive/Colab Notebooks/ModelBin/halloween_model.pkl', 'rb') as f_in:\n",
        "    model = pickle.load(f_in)\n",
        "\n",
        "##Predict\n",
        "dataValidation_pred=model.predict(dataValidation)\n",
        "print(dataValidation_pred)\n",
        "\n",
        "submission = pd.DataFrame({'Id':dataValidationId,'Drug':dataValidation_pred})\n",
        "from google.colab import files\n",
        "submission.to_csv('submission.csv', encoding = 'utf-8-sig',index=False,header=False) \n",
        "files.download('submission.csv')"
      ],
      "metadata": {
        "colab": {
          "base_uri": "https://localhost:8080/",
          "height": 69
        },
        "id": "R8F-jPLG9O9k",
        "outputId": "0651644a-a9c8-427b-eb80-703327f469e4"
      },
      "execution_count": 45,
      "outputs": [
        {
          "output_type": "stream",
          "name": "stdout",
          "text": [
            "[48.21800574 38.01561267 42.54744241 60.06312773 43.95409307 42.98083387\n",
            " 48.06702713 45.47066715 62.84315545 61.01657453 43.64848926 38.40407625\n",
            " 46.12885532 61.73758966 69.40610663 44.17368902 42.57923354]\n"
          ]
        },
        {
          "output_type": "display_data",
          "data": {
            "text/plain": [
              "<IPython.core.display.Javascript object>"
            ],
            "application/javascript": [
              "\n",
              "    async function download(id, filename, size) {\n",
              "      if (!google.colab.kernel.accessAllowed) {\n",
              "        return;\n",
              "      }\n",
              "      const div = document.createElement('div');\n",
              "      const label = document.createElement('label');\n",
              "      label.textContent = `Downloading \"${filename}\": `;\n",
              "      div.appendChild(label);\n",
              "      const progress = document.createElement('progress');\n",
              "      progress.max = size;\n",
              "      div.appendChild(progress);\n",
              "      document.body.appendChild(div);\n",
              "\n",
              "      const buffers = [];\n",
              "      let downloaded = 0;\n",
              "\n",
              "      const channel = await google.colab.kernel.comms.open(id);\n",
              "      // Send a message to notify the kernel that we're ready.\n",
              "      channel.send({})\n",
              "\n",
              "      for await (const message of channel.messages) {\n",
              "        // Send a message to notify the kernel that we're ready.\n",
              "        channel.send({})\n",
              "        if (message.buffers) {\n",
              "          for (const buffer of message.buffers) {\n",
              "            buffers.push(buffer);\n",
              "            downloaded += buffer.byteLength;\n",
              "            progress.value = downloaded;\n",
              "          }\n",
              "        }\n",
              "      }\n",
              "      const blob = new Blob(buffers, {type: 'application/binary'});\n",
              "      const a = document.createElement('a');\n",
              "      a.href = window.URL.createObjectURL(blob);\n",
              "      a.download = filename;\n",
              "      div.appendChild(a);\n",
              "      a.click();\n",
              "      div.remove();\n",
              "    }\n",
              "  "
            ]
          },
          "metadata": {}
        },
        {
          "output_type": "display_data",
          "data": {
            "text/plain": [
              "<IPython.core.display.Javascript object>"
            ],
            "application/javascript": [
              "download(\"download_5dd3b16e-f220-4902-b00a-2923a59ca702\", \"submission.csv\", 539)"
            ]
          },
          "metadata": {}
        }
      ]
    },
    {
      "cell_type": "code",
      "source": [
        ""
      ],
      "metadata": {
        "id": "3SOgE8avQsvJ"
      },
      "execution_count": null,
      "outputs": []
    }
  ],
  "metadata": {
    "colab": {
      "collapsed_sections": [],
      "name": "HalloweenCandy.ipynb",
      "provenance": [],
      "toc_visible": true,
      "mount_file_id": "1DUx32wxsUYtXJAU80K2xX5ZrXAdFtDtM",
      "authorship_tag": "ABX9TyNqTEnA5O5ogSgt6A3FyJvG",
      "include_colab_link": true
    },
    "kernelspec": {
      "display_name": "Python 3",
      "name": "python3"
    },
    "language_info": {
      "name": "python"
    }
  },
  "nbformat": 4,
  "nbformat_minor": 0
}